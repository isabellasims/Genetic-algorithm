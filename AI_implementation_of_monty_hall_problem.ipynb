{
  "nbformat": 4,
  "nbformat_minor": 0,
  "metadata": {
    "colab": {
      "name": "AI implementation of monty hall problem",
      "provenance": [],
      "collapsed_sections": [],
      "include_colab_link": true
    },
    "kernelspec": {
      "name": "python3",
      "display_name": "Python 3"
    }
  },
  "cells": [
    {
      "cell_type": "markdown",
      "metadata": {
        "id": "view-in-github",
        "colab_type": "text"
      },
      "source": [
        "<a href=\"https://colab.research.google.com/github/isabellasims/Genetic-algorithm/blob/master/AI_implementation_of_monty_hall_problem.ipynb\" target=\"_parent\"><img src=\"https://colab.research.google.com/assets/colab-badge.svg\" alt=\"Open In Colab\"/></a>"
      ]
    },
    {
      "cell_type": "markdown",
      "metadata": {
        "id": "RwgXZ8Ewm71R",
        "colab_type": "text"
      },
      "source": [
        "This document shows the details of the functions I created through print statements"
      ]
    },
    {
      "cell_type": "code",
      "metadata": {
        "id": "6kkk4vlHOokh",
        "colab_type": "code",
        "colab": {}
      },
      "source": [
        "from random import choice,random,randint"
      ],
      "execution_count": null,
      "outputs": []
    },
    {
      "cell_type": "code",
      "metadata": {
        "id": "BvsKa_dXmnTY",
        "colab_type": "code",
        "colab": {
          "base_uri": "https://localhost:8080/",
          "height": 34
        },
        "outputId": "2e0e77f0-db43-4664-ffa3-b15aab4f1945"
      },
      "source": [
        "#charset = list(\"abcdefghijklmnopqrstuvwxyzABCDEFGHIJKLMNOPQRSTUVWXYZ\")\n",
        "charset = list(\"abcdefghijklmnopqrstuvwxyz\")\n",
        "# goal is an all-caps string\n",
        "# higher fitness = more uppercase letters\n",
        "goal = input(\"define a three letter gene to search for. (example: 'fit'/'big')\")\n",
        "stringLength = len(goal)\n",
        "goal = list(goal)\n",
        "def fitness(example):\n",
        "  f = 0\n",
        "  \n",
        "  # more specific fitness = faster genetic alg\n",
        "  for i in range(len(example)):\n",
        "   \n",
        "    \n",
        "   # ch == \"i\" or ch == \"f\" or ch == \"t\": \n",
        "      f += 1\n",
        "      \n",
        " \n",
        "  return f\n",
        "\n",
        "\n",
        "\n",
        "def isGoal(example):\n",
        " \n",
        "  # return fitness(example) == stringLength \n",
        "  if example == goal:\n",
        "    return True #change is goal so it accepts my goal\n"
      ],
      "execution_count": null,
      "outputs": [
        {
          "output_type": "stream",
          "text": [
            "define a three letter gene to search for. (example: 'fit'/'big')fit\n"
          ],
          "name": "stdout"
        }
      ]
    },
    {
      "cell_type": "code",
      "metadata": {
        "id": "DhvvxcY5oE_Q",
        "colab_type": "code",
        "colab": {}
      },
      "source": [
        "mutationRate = 0.1\n",
        "# Change for dif speeds\n",
        "\n",
        "\n",
        "# proportion of \"genes\" to randomly flip each tie ## edit this takes rand char from example & generates random # between 0 and 1\n",
        "# if its less than mutation rate changes that caracter\n",
        "def mutate(example): \n",
        "  \n",
        "  return [(choice(charset) if random() < mutationRate else ch) for ch in example] # generates random # btwn 0 & 1 and if less than mutation rate, it generates that charcter"
      ],
      "execution_count": null,
      "outputs": []
    },
    {
      "cell_type": "code",
      "metadata": {
        "id": "UFVUlPTP-568",
        "colab_type": "code",
        "colab": {}
      },
      "source": [
        "def crossover(parent1, parent2): # \n",
        "  #cuts up and puts two halves together\n",
        "  # pick a random point to cross over at\n",
        "  crossOverPoint = randint(1,stringLength) #\n",
        "  return parent1[:crossOverPoint] + parent2[crossOverPoint:] # returns new gene set - half from p1 half from p2 "
      ],
      "execution_count": null,
      "outputs": []
    },
    {
      "cell_type": "markdown",
      "metadata": {
        "id": "I6rMdOjr-dme",
        "colab_type": "text"
      },
      "source": [
        "Here's an example of what mutating a string does:"
      ]
    },
    {
      "cell_type": "code",
      "metadata": {
        "id": "Q2fzTjX--cz-",
        "colab_type": "code",
        "colab": {
          "base_uri": "https://localhost:8080/",
          "height": 51
        },
        "outputId": "5d0fe757-78bf-4eea-e07b-0368a879c1c4"
      },
      "source": [
        "example3 = ['a', 'b', 'c'] \n",
        "example10 = ['a', 'b', 'c', 'd', 'e', 'f', 'g', 'h', 'i', 'j']\n",
        "print(mutate(example3))\n",
        "print(mutate(example10)) "
      ],
      "execution_count": null,
      "outputs": [
        {
          "output_type": "stream",
          "text": [
            "['a', 'b', 'c']\n",
            "['d', 'b', 'c', 'd', 'e', 'f', 'g', 'h', 'i', 'j']\n"
          ],
          "name": "stdout"
        }
      ]
    },
    {
      "cell_type": "code",
      "metadata": {
        "id": "PAOgsjcI_ipV",
        "colab_type": "code",
        "colab": {
          "base_uri": "https://localhost:8080/",
          "height": 34
        },
        "outputId": "9ae3d487-d331-4f2c-ef0b-dc7ef1bb877e"
      },
      "source": [
        "example1 = ['a', 'b', 'c']\n",
        "example2 = ['f', 'g', 'h']\n",
        "print(crossover(example1, example2))"
      ],
      "execution_count": null,
      "outputs": [
        {
          "output_type": "stream",
          "text": [
            "['a', 'g', 'h']\n"
          ],
          "name": "stdout"
        }
      ]
    },
    {
      "cell_type": "code",
      "metadata": {
        "id": "zvhZmGfXM-bo",
        "colab_type": "code",
        "colab": {
          "base_uri": "https://localhost:8080/",
          "height": 1000
        },
        "outputId": "97c2467f-c9ed-4800-bac5-b54da6b9cf1c"
      },
      "source": [
        "populationSize = 50\n",
        "def makeContests():\n",
        "  contestants = [[choice(charset) for _ in range(stringLength)] for _ in range(populationSize)]\n",
        "  print(\"contestants\" ,contestants)\n",
        "  return contestants\n",
        "goal = [\"f\",\"i\",\"t\"]\n",
        "million = goal[0]\n",
        "counter = 0 \n",
        "switch = ''\n",
        "contestants = makeContests()\n",
        "doors = []\n",
        "\n",
        "\n",
        "def MHcondition(individual):\n",
        "    counter = 0\n",
        "    #for individual in contestants:  \n",
        "      #for char in individual:\n",
        "    if million in individual:\n",
        "      counter += 1          \n",
        "    if counter == 1:\n",
        "      return True\n",
        "    else:\n",
        "      return False\n",
        "    \n",
        "    counter = 0\n",
        "temp = []\n",
        "# MH problem filters the data for us\n",
        "def MHparadox(contestants):\n",
        "  # will be pop[i]\n",
        "    for i in contestants:\n",
        "      if MHcondition(i):\n",
        "        \n",
        "        temp = i\n",
        "        \n",
        "        doors.append(i)\n",
        "        #print(doors)\n",
        "        #print(\"i ----> \",i)\n",
        " \n",
        "\n",
        "        #print (\"temp\" , temp)\n",
        "        pick = choice(temp)\n",
        "        #print (\"pick\" , pick)\n",
        "        temp.remove(pick) # remove the random choice \n",
        "        #print(\"i ----> \",i)\n",
        "        for char in temp:\n",
        "          if char!= million:\n",
        "            goat = char     # MP chosen goat\n",
        "        #print(\"goat\",goat)\n",
        "        temp.remove(goat) # MP removes goat from set of options\n",
        "        #print(\"i ----> \",i)\n",
        "        newdoor = temp.copy() \n",
        "        #print(\"ND\",newdoor)\n",
        "        switch = temp\n",
        "        print(\"switch\")\n",
        "        #newdoor[1] = switch\n",
        "        \n",
        "        print(\"switch\",switch)\n",
        "        print(\"-------------------\")\n",
        "        \n",
        "      else:\n",
        "        print(\"all goats\")\n",
        "    #print(doors)\n",
        "    return switch\n",
        "    \n",
        "\n",
        "\n",
        "   \n",
        "MHparadox(contestants)\n",
        "  "
      ],
      "execution_count": null,
      "outputs": [
        {
          "output_type": "stream",
          "text": [
            "contestants [['q', 'j', 'o'], ['q', 'h', 'd'], ['h', 'q', 's'], ['x', 'e', 'p'], ['x', 'u', 'i'], ['r', 'j', 'v'], ['s', 'q', 'j'], ['f', 'd', 'r'], ['a', 's', 'k'], ['j', 'i', 'q'], ['t', 'r', 'n'], ['v', 'i', 'b'], ['x', 'e', 'b'], ['m', 'v', 'y'], ['q', 'v', 'v'], ['x', 'p', 'v'], ['w', 'v', 'v'], ['s', 'l', 'k'], ['p', 't', 'b'], ['o', 'l', 'b'], ['v', 'a', 'o'], ['u', 'q', 'e'], ['x', 'v', 'h'], ['s', 'h', 'x'], ['a', 'f', 'm'], ['u', 'e', 'i'], ['j', 'i', 'q'], ['t', 'q', 'm'], ['k', 'h', 'u'], ['s', 'p', 'e'], ['j', 'u', 'w'], ['w', 'o', 'p'], ['l', 'z', 'z'], ['p', 'c', 'm'], ['g', 'y', 'j'], ['y', 'g', 'l'], ['c', 'w', 'l'], ['p', 'y', 'z'], ['j', 'n', 'm'], ['j', 'u', 'x'], ['p', 'n', 'm'], ['t', 'j', 's'], ['r', 'l', 'l'], ['b', 'x', 'b'], ['p', 's', 'v'], ['k', 'p', 'x'], ['p', 'b', 'n'], ['u', 'k', 's'], ['l', 'w', 'k'], ['g', 'g', 'c']]\n",
            "all goats\n",
            "all goats\n",
            "all goats\n",
            "all goats\n",
            "all goats\n",
            "all goats\n",
            "all goats\n",
            "switch\n",
            "switch ['f']\n",
            "-------------------\n",
            "all goats\n",
            "all goats\n",
            "all goats\n",
            "all goats\n",
            "all goats\n",
            "all goats\n",
            "all goats\n",
            "all goats\n",
            "all goats\n",
            "all goats\n",
            "all goats\n",
            "all goats\n",
            "all goats\n",
            "all goats\n",
            "all goats\n",
            "all goats\n",
            "switch\n",
            "switch ['a']\n",
            "-------------------\n",
            "all goats\n",
            "all goats\n",
            "all goats\n",
            "all goats\n",
            "all goats\n",
            "all goats\n",
            "all goats\n",
            "all goats\n",
            "all goats\n",
            "all goats\n",
            "all goats\n",
            "all goats\n",
            "all goats\n",
            "all goats\n",
            "all goats\n",
            "all goats\n",
            "all goats\n",
            "all goats\n",
            "all goats\n",
            "all goats\n",
            "all goats\n",
            "all goats\n",
            "all goats\n",
            "all goats\n",
            "all goats\n"
          ],
          "name": "stdout"
        },
        {
          "output_type": "execute_result",
          "data": {
            "text/plain": [
              "['a']"
            ]
          },
          "metadata": {
            "tags": []
          },
          "execution_count": 21
        }
      ]
    },
    {
      "cell_type": "code",
      "metadata": {
        "id": "yWfqIteovJsc",
        "colab_type": "code",
        "colab": {
          "base_uri": "https://localhost:8080/",
          "height": 1000
        },
        "outputId": "ba02a98a-ff3e-419a-aab7-c2e03edfcd27"
      },
      "source": [
        "populationSize = 50\n",
        "def makeContests():\n",
        "  contestants = [[choice(charset) for _ in range(stringLength)] for _ in range(populationSize)]\n",
        "  print(\"contestants\" ,contestants)\n",
        "  return contestants\n",
        "goal = [\"f\",\"i\",\"t\"]\n",
        "million = goal[0]\n",
        "counter = 0 \n",
        "switch = ''\n",
        "contestants = makeContests()\n",
        "doors = []\n",
        "\n",
        "\n",
        "def MHcondition(individual):\n",
        "    counter = 0\n",
        "    #for individual in contestants:  \n",
        "      #for char in individual:\n",
        "    if million in individual:\n",
        "      counter += 1          \n",
        "    if counter == 1:\n",
        "      return True\n",
        "    else:\n",
        "      return False\n",
        "    counter = 0\n",
        " \n",
        "\n",
        "def MHparadox(contestants):\n",
        "  # will be pop[i]\n",
        "    for i in contestants:\n",
        "      if MHcondition(i):\n",
        "        \n",
        "        temp = i\n",
        "        \n",
        "        doors.append(i)\n",
        "        print(doors)\n",
        "        print(\"i ----> \",i)\n",
        " \n",
        "\n",
        "        print (\"temp\" , temp)\n",
        "        pick = choice(temp)\n",
        "        print (\"pick\" , pick)\n",
        "        temp.remove(pick) # remove the random choice \n",
        "        print(\"i ----> \",i)\n",
        "        for char in temp:\n",
        "          if char!= million:\n",
        "            goat = char\n",
        "        else:\n",
        "          goat = choice(charset)\n",
        "        print(\"goat\",goat)\n",
        "        \n",
        "        print(\"i ----> \",i)\n",
        "        switch = temp\n",
        "        print(\"switch\",switch)\n",
        "        print(\"-------------------\")\n",
        "        \n",
        "      else:\n",
        "        print(\"all goats\")\n",
        "    print(doors)\n",
        "    return switch\n",
        "    \n",
        "\n",
        "\n",
        "   \n",
        "MHparadox(contestants)\n",
        "  "
      ],
      "execution_count": null,
      "outputs": [
        {
          "output_type": "stream",
          "text": [
            "contestants [['c', 'k', 'i'], ['x', 'p', 'a'], ['t', 'a', 's'], ['v', 't', 'n'], ['e', 's', 'u'], ['u', 's', 'r'], ['d', 'z', 'j'], ['a', 'k', 'c'], ['v', 'y', 'l'], ['b', 'j', 'j'], ['c', 'k', 'y'], ['e', 'o', 'x'], ['b', 'l', 'd'], ['f', 'u', 'a'], ['a', 'j', 'z'], ['k', 'o', 'l'], ['y', 'n', 'q'], ['t', 'u', 'y'], ['b', 'm', 'd'], ['z', 'x', 'q'], ['e', 'y', 'a'], ['k', 'n', 'h'], ['k', 'b', 'e'], ['z', 's', 'y'], ['l', 'n', 'b'], ['y', 'd', 'k'], ['r', 'd', 'r'], ['f', 'c', 'm'], ['z', 'f', 'h'], ['h', 'r', 'p'], ['j', 'i', 'c'], ['w', 'b', 's'], ['p', 'i', 'o'], ['u', 'o', 'e'], ['u', 'e', 'k'], ['t', 'n', 'i'], ['t', 'e', 'p'], ['a', 'p', 'p'], ['m', 'f', 'b'], ['t', 'c', 'l'], ['u', 'l', 'k'], ['l', 'z', 'm'], ['b', 'i', 'r'], ['a', 'l', 'n'], ['x', 'e', 'k'], ['u', 'j', 'a'], ['m', 'i', 'w'], ['k', 'b', 'f'], ['b', 's', 'w'], ['z', 'j', 'f']]\n",
            "all goats\n",
            "all goats\n",
            "all goats\n",
            "all goats\n",
            "all goats\n",
            "all goats\n",
            "all goats\n",
            "all goats\n",
            "all goats\n",
            "all goats\n",
            "all goats\n",
            "all goats\n",
            "all goats\n",
            "[['f', 'u', 'a']]\n",
            "i ---->  ['f', 'u', 'a']\n",
            "temp ['f', 'u', 'a']\n",
            "pick f\n",
            "i ---->  ['u', 'a']\n",
            "goat n\n",
            "i ---->  ['u', 'a']\n",
            "switch ['u', 'a']\n",
            "-------------------\n",
            "all goats\n",
            "all goats\n",
            "all goats\n",
            "all goats\n",
            "all goats\n",
            "all goats\n",
            "all goats\n",
            "all goats\n",
            "all goats\n",
            "all goats\n",
            "all goats\n",
            "all goats\n",
            "all goats\n",
            "[['u', 'a'], ['f', 'c', 'm']]\n",
            "i ---->  ['f', 'c', 'm']\n",
            "temp ['f', 'c', 'm']\n",
            "pick f\n",
            "i ---->  ['c', 'm']\n",
            "goat x\n",
            "i ---->  ['c', 'm']\n",
            "switch ['c', 'm']\n",
            "-------------------\n",
            "[['u', 'a'], ['c', 'm'], ['z', 'f', 'h']]\n",
            "i ---->  ['z', 'f', 'h']\n",
            "temp ['z', 'f', 'h']\n",
            "pick z\n",
            "i ---->  ['f', 'h']\n",
            "goat w\n",
            "i ---->  ['f', 'h']\n",
            "switch ['f', 'h']\n",
            "-------------------\n",
            "all goats\n",
            "all goats\n",
            "all goats\n",
            "all goats\n",
            "all goats\n",
            "all goats\n",
            "all goats\n",
            "all goats\n",
            "all goats\n",
            "[['u', 'a'], ['c', 'm'], ['f', 'h'], ['m', 'f', 'b']]\n",
            "i ---->  ['m', 'f', 'b']\n",
            "temp ['m', 'f', 'b']\n",
            "pick f\n",
            "i ---->  ['m', 'b']\n",
            "goat c\n",
            "i ---->  ['m', 'b']\n",
            "switch ['m', 'b']\n",
            "-------------------\n",
            "all goats\n",
            "all goats\n",
            "all goats\n",
            "all goats\n",
            "all goats\n",
            "all goats\n",
            "all goats\n",
            "all goats\n",
            "[['u', 'a'], ['c', 'm'], ['f', 'h'], ['m', 'b'], ['k', 'b', 'f']]\n",
            "i ---->  ['k', 'b', 'f']\n",
            "temp ['k', 'b', 'f']\n",
            "pick b\n",
            "i ---->  ['k', 'f']\n",
            "goat r\n",
            "i ---->  ['k', 'f']\n",
            "switch ['k', 'f']\n",
            "-------------------\n",
            "all goats\n",
            "[['u', 'a'], ['c', 'm'], ['f', 'h'], ['m', 'b'], ['k', 'f'], ['z', 'j', 'f']]\n",
            "i ---->  ['z', 'j', 'f']\n",
            "temp ['z', 'j', 'f']\n",
            "pick f\n",
            "i ---->  ['z', 'j']\n",
            "goat t\n",
            "i ---->  ['z', 'j']\n",
            "switch ['z', 'j']\n",
            "-------------------\n",
            "[['u', 'a'], ['c', 'm'], ['f', 'h'], ['m', 'b'], ['k', 'f'], ['z', 'j']]\n"
          ],
          "name": "stdout"
        },
        {
          "output_type": "execute_result",
          "data": {
            "text/plain": [
              "['z', 'j']"
            ]
          },
          "metadata": {
            "tags": []
          },
          "execution_count": 22
        }
      ]
    },
    {
      "cell_type": "markdown",
      "metadata": {
        "id": "l9UievyeonnI",
        "colab_type": "text"
      },
      "source": [
        "Now we have the ingredients for the genetic algorithm itself:"
      ]
    },
    {
      "cell_type": "code",
      "metadata": {
        "id": "RM6GikO5kBnQ",
        "colab_type": "code",
        "colab": {
          "base_uri": "https://localhost:8080/",
          "height": 537
        },
        "outputId": "5efbb316-1492-4fe1-d02a-c87b93250fcb"
      },
      "source": [
        " \n",
        "populationSize = 2\n",
        "population1 = [[\"f\",\"x\",\"y\"],[\"a\",\"b\",\"c\"]]\n",
        " population2 = [[\"h\",\"f\",\"y\"],[\"a\",\"i\",\"c\"]]\n",
        "population3 = [[\"h\",\"x\",\"y\"],[\"a\",\"f\",\"c\"]]\n",
        " goat = '' \n",
        "million = goal[0]\n",
        " pick = population1[0]\n",
        "switch = ''\n",
        "  \n",
        "counter = 0  \n",
        " def MHcondition(population):\n",
        "    counter = 0\n",
        "    for individual in population:  \n",
        "      #for char in individual:\n",
        "       if million in individual:\n",
        "          counter += 1\n",
        "    if counter == 1:\n",
        "      return True\n",
        "    else:\n",
        "      return False\n",
        "    counter = 0\n",
        " \n",
        "\n",
        "def MHparadox(population):\n",
        "  # will be pop[i]\n",
        "    for i in range(populationSize):\n",
        "      temp = population[i]\n",
        "      print (\"temp\" , temp)\n",
        "      pick = choice(temp)\n",
        "      print (\"pick\" , pick)\n",
        "      temp.remove(pick) # remove the random choice \n",
        "      for char in temp:\n",
        "        if char!= million:\n",
        "          goat = char\n",
        "          temp.remove(goat)\n",
        "        else: # this is accounting for an error I'm not sure why I have when a value is not assigned to goat despite the individual satisfying MH problem condition... Not super important because we don't care much about the goat value\n",
        "          goat = choice(charset) \n",
        "      print(\"goat\",goat)     \n",
        "      switch = temp\n",
        "      print(\"switch\",switch)\n",
        "      print(\"-------------------\")\n",
        "    return switch\n",
        "\n",
        "\n",
        "if MHcondition(population1): \n",
        "   MHparadox(population1)\n",
        "else:\n",
        "   print(\"all goats\")\n",
        "   print(\"-------------------\")\n",
        "\n",
        "if MHcondition(population2): \n",
        "   MHparadox(population2)\n",
        "else:\n",
        "  print(\"all goats\")\n",
        "  print(\"-------------------\")\n",
        "\n",
        "if MHcondition(population3): \n",
        "   MHparadox( population3)\n",
        "else:\n",
        "  print(\"all goats\")\n",
        "  print(\"-------------------\")\n",
        "\n",
        "\n",
        "    \n",
        "    "
      ],
      "execution_count": null,
      "outputs": [
        {
          "output_type": "stream",
          "text": [
            "temp ['f', 'x', 'y']\n",
            "pick y\n",
            "goat x\n",
            "switch ['f']\n",
            "-------------------\n",
            "temp ['a', 'b', 'c']\n",
            "pick c\n",
            "goat a\n",
            "switch ['b']\n",
            "-------------------\n",
            "temp ['h', 'f', 'y']\n",
            "pick f\n",
            "goat h\n",
            "switch ['y']\n",
            "-------------------\n",
            "temp ['a', 'i', 'c']\n",
            "pick i\n",
            "goat a\n",
            "switch ['c']\n",
            "-------------------\n",
            "temp ['h', 'x', 'y']\n",
            "pick h\n",
            "goat x\n",
            "switch ['y']\n",
            "-------------------\n",
            "temp ['a', 'f', 'c']\n",
            "pick a\n",
            "goat c\n",
            "switch ['f']\n",
            "-------------------\n"
          ],
          "name": "stdout"
        }
      ]
    },
    {
      "cell_type": "code",
      "metadata": {
        "id": "b0L7wt7Dodgg",
        "colab_type": "code",
        "colab": {}
      },
      "source": [
        "populationSize = 50\n",
        "\n",
        "def geneticAlgorithm():\n",
        "  iterations = 0\n",
        "  makeContests()\n",
        "\n",
        "\n",
        "        \n",
        "  #if MHcondition(): # if there is one and only one letter from the goal in this individual:\n",
        "    \n",
        "    \n",
        "  \n",
        "  \n",
        "  # the initial population is populationSize random strings\n",
        "  population = [[choice(charset) for _ in range(stringLength)] for _ in range(populationSize)] # array of arrays\n",
        "  print(population)\n",
        "  \n",
        "  while True:\n",
        "    iterations += 1\n",
        "    # do any of our population's individuals satisfy the goal?\n",
        "    for individual in population:\n",
        "      if (isGoal(individual)): # sees if its all caps\n",
        "        print(f\"Found goal in {iterations} iterations at index {population.index(individual)}\")\n",
        "        return individual\n",
        "    \n",
        "    # if not, crossover and mutate to get a new generation\n",
        "    \n",
        "    # sort the current population by descending order of fitness\n",
        "    population.sort(key=fitness, reverse=True) # RANKING... better strings at top (sort does l to g)\n",
        "    \n",
        "    \n",
        "    # take the top 10 (arbitrary number) and make them parents of the new generation\n",
        "    parents = population[:10] # ---> top 10 candidates\n",
        "    # make the next generation by randomly selecting two parents to\n",
        "    # crossover, and then mutating the result, until we have 50 new individuals\n",
        "    population = [mutate(crossover(choice(parents),choice(parents))) for _ in range(populationSize)] # GENERATING NEW POPULATION FROM PARENTS\n",
        "  "
      ],
      "execution_count": null,
      "outputs": []
    },
    {
      "cell_type": "code",
      "metadata": {
        "id": "PJo8jO6iQQka",
        "colab_type": "code",
        "colab": {
          "base_uri": "https://localhost:8080/",
          "height": 106
        },
        "outputId": "4b7247e6-9747-429b-8bae-f25f1ae74c5b"
      },
      "source": [
        "geneticAlgorithm()"
      ],
      "execution_count": null,
      "outputs": [
        {
          "output_type": "stream",
          "text": [
            "contestants [['j', 'r', 'e'], ['n', 'c', 'l'], ['h', 'h', 'c'], ['b', 'd', 'l'], ['a', 'p', 'h'], ['j', 'c', 'x'], ['i', 'p', 'g'], ['u', 'e', 'g'], ['v', 'm', 'a'], ['v', 'o', 't'], ['o', 'p', 'k'], ['l', 'h', 'f'], ['a', 'z', 'g'], ['z', 'p', 'z'], ['h', 'e', 'j'], ['p', 'q', 'w'], ['i', 'z', 'y'], ['k', 'n', 'j'], ['k', 'x', 'm'], ['p', 'x', 'j'], ['r', 'p', 'l'], ['g', 'p', 'i'], ['j', 'i', 'l'], ['f', 'o', 'b'], ['i', 'l', 'j'], ['k', 'f', 'v'], ['g', 'z', 'p'], ['r', 'f', 't'], ['d', 'c', 't'], ['w', 'd', 'u'], ['f', 'x', 'a'], ['j', 'x', 'w'], ['i', 'd', 'd'], ['s', 't', 'g'], ['j', 'p', 'd'], ['r', 'u', 'k'], ['i', 'i', 'e'], ['g', 'l', 'x'], ['k', 'c', 'g'], ['l', 'z', 'y'], ['i', 'q', 'z'], ['s', 'i', 'n'], ['v', 't', 'y'], ['y', 'e', 'q'], ['w', 'b', 'u'], ['m', 'm', 'q'], ['l', 's', 'n'], ['c', 'o', 'c'], ['q', 'j', 'r'], ['k', 'g', 'q']]\n",
            "[['w', 'p', 'g'], ['v', 's', 'u'], ['h', 'i', 'd'], ['l', 'n', 'y'], ['d', 't', 'h'], ['b', 'n', 'r'], ['i', 'b', 'c'], ['n', 'x', 'd'], ['v', 'u', 'c'], ['z', 'x', 't'], ['f', 'p', 'l'], ['i', 'j', 'b'], ['w', 'l', 'w'], ['w', 'l', 'l'], ['s', 'i', 'd'], ['r', 'v', 'g'], ['w', 'd', 'x'], ['i', 'j', 'q'], ['d', 'i', 'w'], ['e', 'l', 'y'], ['u', 'h', 's'], ['h', 'z', 's'], ['s', 'u', 'v'], ['l', 'b', 'v'], ['l', 'b', 'x'], ['c', 'u', 'b'], ['k', 'f', 'f'], ['g', 'n', 'k'], ['a', 'l', 'o'], ['p', 'g', 'i'], ['c', 'o', 'h'], ['m', 'v', 'q'], ['a', 'v', 'r'], ['t', 'o', 'f'], ['o', 'm', 'f'], ['g', 'x', 'd'], ['b', 'j', 'b'], ['z', 'o', 'e'], ['w', 'x', 'l'], ['l', 'x', 'h'], ['z', 'e', 'r'], ['d', 't', 'g'], ['o', 'v', 'd'], ['s', 'l', 'z'], ['c', 'q', 'i'], ['x', 'r', 'i'], ['t', 'v', 'k'], ['i', 'r', 'k'], ['l', 'e', 'i'], ['s', 's', 'n']]\n",
            "Found goal in 720 iterations at index 29\n"
          ],
          "name": "stdout"
        },
        {
          "output_type": "execute_result",
          "data": {
            "text/plain": [
              "['f', 'i', 't']"
            ]
          },
          "metadata": {
            "tags": []
          },
          "execution_count": 25
        }
      ]
    },
    {
      "cell_type": "code",
      "metadata": {
        "id": "Wji3j8uFrpAg",
        "colab_type": "code",
        "colab": {
          "base_uri": "https://localhost:8080/",
          "height": 277
        },
        "outputId": "379e5752-360e-4784-cab9-9e4e8827055b"
      },
      "source": [
        " \n",
        "  \n",
        "population1 = [[\"f\",\"x\",\"y\"],[\"a\",\"b\",\"c\"]]\n",
        " population2 = [[\"h\",\"f\",\"y\"],[\"a\",\"i\",\"c\"]]\n",
        "population3 = [[\"h\",\"x\",\"y\"],[\"a\",\"f\",\"c\"]]\n",
        " goat = '' \n",
        "million = goal[0]\n",
        " pick = population1[0]\n",
        "switch = ''\n",
        "  \n",
        "counter = 0  \n",
        " def MHcondition(population):\n",
        "    counter = 0\n",
        "    for individual in population:  \n",
        "      #for char in individual:\n",
        "       if million in individual:\n",
        "          counter += 1\n",
        "    if counter == 1:\n",
        "      return True\n",
        "    else:\n",
        "      return False\n",
        "    counter = 0\n",
        " \n",
        "\n",
        "def MHparadox(population):\n",
        "  # will be pop[i]\n",
        "    #for i in range(populationSize)\n",
        "    temp = population[0]\n",
        "    print (\"temp\" , temp)\n",
        "    pick = choice(temp)\n",
        "    print (\"pick\" , pick)\n",
        "    temp.remove(pick) # remove the random choice \n",
        "    for char in temp:\n",
        "      if char!= million:\n",
        "        goat = char\n",
        "    print(\"goat\",goat)\n",
        "    temp.remove(goat)\n",
        "    switch = temp\n",
        "    print(\"switch\",switch)\n",
        "    print(\"-------------------\")\n",
        "    return switch\n",
        "\n",
        "\n",
        " if MHcondition(population1): \n",
        "  MHparadox( population1)\n",
        " else:\n",
        "  print(\"all goats\")\n",
        "  print(\"-------------------\")\n",
        " \n",
        " if MHcondition(population2): \n",
        "  MHparadox( population2)\n",
        " else:\n",
        "  print(\"all goats\")\n",
        "  print(\"-------------------\")\n",
        " \n",
        " if MHcondition(population3): \n",
        "  MHparadox( population3)\n",
        " else:\n",
        "  print(\"all goats\")\n",
        "  print(\"-------------------\")\n",
        "  \n",
        "\n",
        "    \n",
        "    "
      ],
      "execution_count": null,
      "outputs": [
        {
          "output_type": "stream",
          "text": [
            "temp ['f', 'x', 'y']\n",
            "pick x\n",
            "goat y\n",
            "switch ['f']\n",
            "-------------------\n",
            "temp ['h', 'f', 'y']\n",
            "pick y\n",
            "goat h\n",
            "switch ['f']\n",
            "-------------------\n",
            "temp ['h', 'x', 'y']\n",
            "pick h\n",
            "goat y\n",
            "switch ['x']\n",
            "-------------------\n"
          ],
          "name": "stdout"
        }
      ]
    }
  ]
}