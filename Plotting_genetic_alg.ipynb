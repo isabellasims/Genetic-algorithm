{
  "nbformat": 4,
  "nbformat_minor": 0,
  "metadata": {
    "colab": {
      "name": "Plotting genetic alg",
      "provenance": [],
      "collapsed_sections": [],
      "toc_visible": true,
      "include_colab_link": true
    },
    "kernelspec": {
      "name": "python3",
      "display_name": "Python 3"
    }
  },
  "cells": [
    {
      "cell_type": "markdown",
      "metadata": {
        "id": "view-in-github",
        "colab_type": "text"
      },
      "source": [
        "<a href=\"https://colab.research.google.com/github/isabellasims/Genetic-algorithm/blob/master/Plotting_genetic_alg.ipynb\" target=\"_parent\"><img src=\"https://colab.research.google.com/assets/colab-badge.svg\" alt=\"Open In Colab\"/></a>"
      ]
    },
    {
      "cell_type": "code",
      "metadata": {
        "id": "zduNSwN8kL6A",
        "colab_type": "code",
        "colab": {}
      },
      "source": [
        "from random import choice, random, randint, shuffle\n",
        "import numpy as np"
      ],
      "execution_count": 0,
      "outputs": []
    },
    {
      "cell_type": "code",
      "metadata": {
        "id": "TNyFWrljkUUa",
        "colab_type": "code",
        "colab": {}
      },
      "source": [
        "charset = list(\"abcdefghijklmnopqrstuvwxyz\")\n",
        "#goal = input(\"define a 3 letter gene you wish to generate : \")\n",
        "#goal = list(goal)\n",
        "\n",
        "goal = [\"f\",\"i\",\"t\"]\n",
        "stringLength = len(goal)\n",
        "million = goal[0] "
      ],
      "execution_count": 0,
      "outputs": []
    },
    {
      "cell_type": "code",
      "metadata": {
        "id": "Hkb0bAwukeSC",
        "colab_type": "code",
        "colab": {}
      },
      "source": [
        "def MHcondition(individual):\n",
        "    counter = 0    \n",
        "    if million in individual:\n",
        "      counter += 1          \n",
        "    if counter == 1:\n",
        "      return True\n",
        "    else:\n",
        "      return False    \n",
        "    counter = 0"
      ],
      "execution_count": 0,
      "outputs": []
    },
    {
      "cell_type": "code",
      "metadata": {
        "id": "xtKTDv_qkhMZ",
        "colab_type": "code",
        "colab": {}
      },
      "source": [
        "def fitness(individual):\n",
        "  f = 0\n",
        "  if MHcondition(individual) == True: \n",
        "    f +=1 # add 1 to fitness for combinations with correct condition for MH problem \n",
        "    if getSwitch(individual) == million:\n",
        "      f+=2 # add 2 to fitness when MH problem works\n",
        "  return f"
      ],
      "execution_count": 0,
      "outputs": []
    },
    {
      "cell_type": "code",
      "metadata": {
        "id": "a9PkCK34kkNX",
        "colab_type": "code",
        "colab": {}
      },
      "source": [
        "def isGoal(individual):  \n",
        "  if individual == goal:\n",
        "    return True"
      ],
      "execution_count": 0,
      "outputs": []
    },
    {
      "cell_type": "code",
      "metadata": {
        "id": "GZSJR-O6kw09",
        "colab_type": "code",
        "colab": {}
      },
      "source": [
        "def getSwitch(individual): \n",
        "  temp = individual\n",
        "  pick = choice(temp)\n",
        "  temp.remove(pick) # remove the random choice \n",
        "  for char in temp:\n",
        "    if char!= million:\n",
        "      goat = char\n",
        "      temp.remove(goat)\n",
        "    else: # this is accounting for an error I'm not sure why I have when a value is not assigned to goat despite the individual satisfying MH problem condition... Not super important because we don't care much about the goat value\n",
        "      goat = choice(charset) \n",
        "  switch = temp\n",
        "  #switch = np.array(switch,ndmin = 1) # fixes switch issue     \n",
        "  return switch"
      ],
      "execution_count": 0,
      "outputs": []
    },
    {
      "cell_type": "code",
      "metadata": {
        "id": "s2YYxyNztF8j",
        "colab_type": "code",
        "colab": {
          "base_uri": "https://localhost:8080/",
          "height": 51
        },
        "outputId": "44e6bea7-0579-4ce1-8397-cdb3c9f23270"
      },
      "source": [
        "print(getSwitch([\"f\",\"o\",\"h\"]))\n",
        "print(getSwitch([\"p\",\"o\",\"h\"]))"
      ],
      "execution_count": 775,
      "outputs": [
        {
          "output_type": "stream",
          "text": [
            "['h']\n",
            "['o']\n"
          ],
          "name": "stdout"
        }
      ]
    },
    {
      "cell_type": "code",
      "metadata": {
        "id": "lQKrOk3hldtb",
        "colab_type": "code",
        "colab": {}
      },
      "source": [
        "populationSize = 50\n",
        "stringLength = 3\n",
        "population = []\n",
        "def makeContests():\n",
        "  contestants = [[choice(charset) for _ in range(stringLength)] for _ in range(populationSize)]\n",
        "  #print(\"contestants\" ,contestants)\n",
        "  return contestants"
      ],
      "execution_count": 0,
      "outputs": []
    },
    {
      "cell_type": "code",
      "metadata": {
        "id": "JK8c9fmrlSQ6",
        "colab_type": "code",
        "colab": {}
      },
      "source": [
        "doors = []\n",
        "goatDoors = []\n",
        "def mhProblem(contestants):\n",
        "    goat = ''\n",
        "    pick = ''\n",
        "    temp = ''   \n",
        "    evolvedTemp = []  \n",
        "\n",
        "    for i in contestants:       \n",
        "      if MHcondition(i): \n",
        "        for j in i:\n",
        "          evolvedTemp.append(j)         \n",
        "        temp = i              \n",
        "        switch = getSwitch(temp) \n",
        "        switch = np.array(switch,ndmin = 1) # fixes switch issue     \n",
        "        #print(\"switch\" , switch[0])\n",
        "        evolvedTemp.remove(switch[0])\n",
        "        evolvedTemp.insert(0, switch[0])\n",
        "        doors.append(evolvedTemp)\n",
        "        evolvedTemp = []\n",
        "      else: \n",
        "        goatDoors.append(i) \n",
        "    return doors"
      ],
      "execution_count": 0,
      "outputs": []
    },
    {
      "cell_type": "code",
      "metadata": {
        "id": "B1v5YCjhlgF7",
        "colab_type": "code",
        "colab": {
          "base_uri": "https://localhost:8080/",
          "height": 89
        },
        "outputId": "d9d2f3f5-d09d-45e8-a9bf-149bc083f8d8"
      },
      "source": [
        "contestants = makeContests()\n",
        "print(\"contestants\" , contestants)\n",
        "Doors = mhProblem(contestants)\n",
        "print(\"MH solved\" , Doors, \"Eligable for MH: \" , len(Doors))\n",
        "population = Doors\n",
        "population.extend(goatDoors)\n",
        "print(population)\n",
        "\n",
        "\n",
        "\n",
        "#ndmin : int, optional"
      ],
      "execution_count": 778,
      "outputs": [
        {
          "output_type": "stream",
          "text": [
            "contestants [['i', 'z', 'k'], ['s', 'k', 'c'], ['s', 'i', 'd'], ['c', 'c', 'l'], ['u', 'b', 'b'], ['x', 's', 'g'], ['m', 'w', 'n'], ['h', 'k', 's'], ['b', 'v', 'k'], ['z', 'p', 't'], ['v', 'e', 'd'], ['t', 'k', 'h'], ['f', 'r', 'b'], ['r', 'j', 'm'], ['p', 'n', 'd'], ['u', 'w', 'm'], ['w', 'u', 'l'], ['n', 'w', 'r'], ['h', 'h', 'k'], ['i', 'm', 'd'], ['i', 'w', 'k'], ['w', 'h', 'v'], ['y', 'l', 'o'], ['w', 'n', 'q'], ['i', 'g', 'd'], ['l', 's', 'q'], ['d', 'g', 'w'], ['k', 'r', 'p'], ['n', 's', 'i'], ['f', 'l', 'v'], ['q', 'b', 'm'], ['i', 'f', 'i'], ['f', 'd', 'q'], ['u', 'r', 'e'], ['t', 'c', 'k'], ['n', 'q', 'e'], ['d', 'x', 'h'], ['k', 'z', 'i'], ['q', 'p', 'o'], ['c', 'e', 'c'], ['f', 'o', 's'], ['r', 'o', 'j'], ['t', 's', 'r'], ['t', 'c', 'c'], ['p', 'q', 'j'], ['r', 'd', 'i'], ['h', 'b', 'i'], ['c', 't', 'o'], ['j', 'r', 'q'], ['d', 'u', 's']]\n",
            "MH solved [['f', 'r', 'b'], ['v', 'f', 'l'], ['f', 'i', 'i'], ['f', 'd', 'q'], ['s', 'f', 'o']] Eligable for MH:  5\n",
            "[['f', 'r', 'b'], ['v', 'f', 'l'], ['f', 'i', 'i'], ['f', 'd', 'q'], ['s', 'f', 'o'], ['i', 'z', 'k'], ['s', 'k', 'c'], ['s', 'i', 'd'], ['c', 'c', 'l'], ['u', 'b', 'b'], ['x', 's', 'g'], ['m', 'w', 'n'], ['h', 'k', 's'], ['b', 'v', 'k'], ['z', 'p', 't'], ['v', 'e', 'd'], ['t', 'k', 'h'], ['r', 'j', 'm'], ['p', 'n', 'd'], ['u', 'w', 'm'], ['w', 'u', 'l'], ['n', 'w', 'r'], ['h', 'h', 'k'], ['i', 'm', 'd'], ['i', 'w', 'k'], ['w', 'h', 'v'], ['y', 'l', 'o'], ['w', 'n', 'q'], ['i', 'g', 'd'], ['l', 's', 'q'], ['d', 'g', 'w'], ['k', 'r', 'p'], ['n', 's', 'i'], ['q', 'b', 'm'], ['u', 'r', 'e'], ['t', 'c', 'k'], ['n', 'q', 'e'], ['d', 'x', 'h'], ['k', 'z', 'i'], ['q', 'p', 'o'], ['c', 'e', 'c'], ['r', 'o', 'j'], ['t', 's', 'r'], ['t', 'c', 'c'], ['p', 'q', 'j'], ['r', 'd', 'i'], ['h', 'b', 'i'], ['c', 't', 'o'], ['j', 'r', 'q'], ['d', 'u', 's']]\n"
          ],
          "name": "stdout"
        }
      ]
    },
    {
      "cell_type": "code",
      "metadata": {
        "id": "rt0Qe7TDHP0Q",
        "colab_type": "code",
        "colab": {}
      },
      "source": [
        "mutationRate = .5\n",
        "def mutate(example):\n",
        "  if MHcondition(example) == True:\n",
        "    switch = getSwitch(example) \n",
        "    if len(switch) == 0: # Filtering out empty switch values\n",
        "      genebank = [goal[0],choice(charset),choice(charset)] \n",
        "      return genebank\n",
        "    #switch = np.array(switch,ndmin = 1)\n",
        "    if any(isinstance(i, list) for i in switch): # if switch is a nested list (it is once everytime for some reason & this breaks the genetic alg) then retrieve the string value\n",
        "      switch = switch[0]\n",
        "    #switch = np.array(switch,ndmin = 1)\n",
        "    switch = switch[0]\n",
        "    genebank = [switch,choice(charset),choice(charset)] # idea is you put the switched value in here and try again for the rest try for another goal value bc MH condition should make you 2/3 sure that the switch is there]  \n",
        "    return genebank\n",
        "  else: # if the condition is not true here, force satisfy MH condition at first index if mutation \n",
        "    genebank = [goal[0],choice(charset),choice(charset)] \n",
        "    return genebank\n",
        "def crossover(parent1, parent2): \n",
        "  combine = parent1 + parent2\n",
        "  shuffle(combine)\n",
        "  return combine[:3]"
      ],
      "execution_count": 0,
      "outputs": []
    },
    {
      "cell_type": "code",
      "metadata": {
        "id": "NI5pCDYeQe1V",
        "colab_type": "code",
        "colab": {
          "base_uri": "https://localhost:8080/",
          "height": 51
        },
        "outputId": "9d98de67-78f6-4567-965d-b75de45bceb9"
      },
      "source": [
        "print(mutate(['a','b','c']))\n",
        "print(mutate(['f','b','c']))"
      ],
      "execution_count": 780,
      "outputs": [
        {
          "output_type": "stream",
          "text": [
            "['f', 'd', 'q']\n",
            "['c', 'l', 'k']\n"
          ],
          "name": "stdout"
        }
      ]
    },
    {
      "cell_type": "code",
      "metadata": {
        "id": "9odwIM7MHpkF",
        "colab_type": "code",
        "colab": {}
      },
      "source": [
        "populationSize = 50\n",
        "stringLength = 3\n",
        "x = []\n",
        "y = []\n",
        "\n",
        "\n",
        "\n",
        "\n",
        "def geneticAlgorithm():\n",
        "  iterations = 0\n",
        "\n",
        "  # the initial population is populationSize random strings\n",
        "  \n",
        "  \n",
        "  while True:\n",
        " \n",
        "   \n",
        "    populationSize = 50\n",
        "    contestants = makeContests()\n",
        "    print(contestants)\n",
        "    Doors = mhProblem(contestants)\n",
        "    population = Doors\n",
        "    population.extend(goatDoors)\n",
        "    print(\"population:\",population)\n",
        "\n",
        "\n",
        "  \n",
        "    # populationSize = 50\n",
        "    # contestants = makeContests()\n",
        "    # print(contestants)\n",
        "    # population = mhProblem(contestants)\n",
        "    # print(population)\n",
        "\n",
        "\n",
        "    while True:\n",
        "      iterations += 1\n",
        "      #mhProblem(contestants)\n",
        "      for individual in population:\n",
        "        if (isGoal(individual)):\n",
        "          print(f\"Found gene in {iterations} iterations at index {population.index(individual)}\")\n",
        "          return individual\n",
        "\n",
        "\n",
        "      population.sort(key=fitness, reverse=True)\n",
        "      \n",
        "      parents = population[:10] # ---> top 10 candidates  \n",
        "      population = [mutate(crossover(choice(parents),choice(parents))) for _ in range(populationSize)] # G\n",
        "      for i in population: # final filter on population\n",
        "        if len(i) != 3:\n",
        "          population.pop(i)\n",
        "      print(\"population sorted:\",population)\n",
        "      \n",
        "    \n",
        "     \n",
        "  \n",
        "  "
      ],
      "execution_count": 0,
      "outputs": []
    },
    {
      "cell_type": "code",
      "metadata": {
        "id": "9SrUCltaHwUL",
        "colab_type": "code",
        "colab": {
          "base_uri": "https://localhost:8080/",
          "height": 245
        },
        "outputId": "f8aec2a1-c434-49a7-f0eb-ba5ecf9e7950"
      },
      "source": [
        "geneticAlgorithm()"
      ],
      "execution_count": 785,
      "outputs": [
        {
          "output_type": "stream",
          "text": [
            "[['i', 'g', 'a'], ['z', 'b', 'n'], ['e', 'q', 'd'], ['x', 'z', 'i'], ['o', 'i', 'w'], ['q', 'm', 'z'], ['j', 'y', 'b'], ['v', 'm', 'q'], ['u', 'q', 'v'], ['w', 'b', 'q'], ['u', 'y', 'e'], ['v', 'o', 'r'], ['p', 'x', 'h'], ['f', 'c', 'z'], ['y', 'r', 'u'], ['a', 'm', 'r'], ['p', 'j', 'u'], ['h', 'e', 'w'], ['x', 'k', 'i'], ['l', 'q', 'w'], ['f', 'a', 'k'], ['p', 'e', 'p'], ['u', 'p', 'c'], ['c', 'z', 'v'], ['i', 's', 'v'], ['c', 'c', 'i'], ['j', 'f', 'm'], ['y', 'x', 'b'], ['g', 't', 'p'], ['q', 'f', 'k'], ['k', 'm', 'a'], ['s', 's', 't'], ['u', 'a', 'v'], ['w', 'x', 'h'], ['i', 't', 's'], ['f', 'b', 'g'], ['c', 'b', 'r'], ['g', 'x', 'k'], ['c', 'y', 's'], ['f', 't', 'l'], ['r', 'q', 'w'], ['h', 'w', 'c'], ['y', 'r', 'l'], ['e', 'e', 'm'], ['l', 'z', 'q'], ['d', 'p', 'z'], ['b', 'w', 'x'], ['x', 'e', 'e'], ['c', 'z', 'n'], ['e', 'q', 'o']]\n",
            "population: [[], [], [], ['f'], ['m'], ['d'], [], [], [], [], [], [], [], [], ['d'], ['c'], ['b'], ['q'], ['m'], ['b'], ['i', 'z', 'k'], ['s', 'k', 'c'], ['s', 'i', 'd'], ['c', 'c', 'l'], ['u', 'b', 'b'], ['x', 's', 'g'], ['m', 'w', 'n'], ['h', 'k', 's'], ['b', 'v', 'k'], ['z', 'p', 't'], ['v', 'e', 'd'], ['t', 'k', 'h'], ['r', 'j', 'm'], ['p', 'n', 'd'], ['u', 'w', 'm'], ['w', 'u', 'l'], ['n', 'w', 'r'], ['h', 'h', 'k'], ['i', 'm', 'd'], ['i', 'w', 'k'], ['w', 'h', 'v'], ['y', 'l', 'o'], ['w', 'n', 'q'], ['i', 'g', 'd'], ['l', 's', 'q'], ['d', 'g', 'w'], ['k', 'r', 'p'], ['n', 's', 'i'], ['q', 'b', 'm'], ['u', 'r', 'e'], ['t', 'c', 'k'], ['n', 'q', 'e'], ['d', 'x', 'h'], ['k', 'z', 'i'], ['q', 'p', 'o'], ['c', 'e', 'c'], ['r', 'o', 'j'], ['t', 's', 'r'], ['t', 'c', 'c'], ['p', 'q', 'j'], ['r', 'd', 'i'], ['h', 'b', 'i'], ['c', 't', 'o'], ['j', 'r', 'q'], ['d', 'u', 's'], ['i', 'z', 'k'], ['s', 'k', 'c'], ['s', 'i', 'd'], ['c', 'c', 'l'], ['u', 'b', 'b'], ['x', 's', 'g'], ['m', 'w', 'n'], ['h', 'k', 's'], ['b', 'v', 'k'], ['z', 'p', 't'], ['v', 'e', 'd'], ['t', 'k', 'h'], ['r', 'j', 'm'], ['p', 'n', 'd'], ['u', 'w', 'm'], ['w', 'u', 'l'], ['n', 'w', 'r'], ['h', 'h', 'k'], ['i', 'm', 'd'], ['i', 'w', 'k'], ['w', 'h', 'v'], ['y', 'l', 'o'], ['w', 'n', 'q'], ['i', 'g', 'd'], ['l', 's', 'q'], ['d', 'g', 'w'], ['k', 'r', 'p'], ['n', 's', 'i'], ['q', 'b', 'm'], ['u', 'r', 'e'], ['t', 'c', 'k'], ['n', 'q', 'e'], ['d', 'x', 'h'], ['k', 'z', 'i'], ['q', 'p', 'o'], ['c', 'e', 'c'], ['r', 'o', 'j'], ['t', 's', 'r'], ['t', 'c', 'c'], ['p', 'q', 'j'], ['r', 'd', 'i'], ['h', 'b', 'i'], ['c', 't', 'o'], ['j', 'r', 'q'], ['d', 'u', 's'], ['m', 'w', 'l'], ['x', 't', 'n'], ['j', 'e', 'o'], ['k', 'w', 't'], ['b', 'x', 'i'], ['j', 'i', 't'], ['u', 'y', 'e'], ['x', 'r', 'b'], ['r', 'x', 'b'], ['d', 'g', 'z'], ['x', 'h', 'j'], ['q', 'v', 'v'], ['m', 'd', 'b'], ['g', 'v', 'c'], ['g', 'j', 'p'], ['z', 't', 'p'], ['s', 't', 'j'], ['y', 'r', 'i'], ['n', 'b', 'z'], ['x', 'c', 'v'], ['p', 'm', 'x'], ['g', 'j', 'h'], ['b', 'z', 'r'], ['p', 'v', 'u'], ['m', 'g', 'j'], ['x', 'z', 'o'], ['s', 'a', 'o'], ['j', 'l', 'y'], ['e', 'l', 'l'], ['w', 'y', 'b'], ['o', 'o', 'j'], ['t', 'r', 'a'], ['l', 'a', 'a'], ['h', 's', 'm'], ['w', 'l', 'd'], ['h', 'l', 'r'], ['e', 'l', 'q'], ['j', 'i', 't'], ['j', 's', 'p'], ['c', 'x', 's'], ['b', 'b', 'j'], ['u', 'o', 'a'], ['v', 'w', 'n'], ['i', 'z', 'k'], ['s', 'k', 'c'], ['s', 'i', 'd'], ['c', 'c', 'l'], ['u', 'b', 'b'], ['x', 's', 'g'], ['m', 'w', 'n'], ['h', 'k', 's'], ['b', 'v', 'k'], ['z', 'p', 't'], ['v', 'e', 'd'], ['t', 'k', 'h'], ['r', 'j', 'm'], ['p', 'n', 'd'], ['u', 'w', 'm'], ['w', 'u', 'l'], ['n', 'w', 'r'], ['h', 'h', 'k'], ['i', 'm', 'd'], ['i', 'w', 'k'], ['w', 'h', 'v'], ['y', 'l', 'o'], ['w', 'n', 'q'], ['i', 'g', 'd'], ['l', 's', 'q'], ['d', 'g', 'w'], ['k', 'r', 'p'], ['n', 's', 'i'], ['q', 'b', 'm'], ['u', 'r', 'e'], ['t', 'c', 'k'], ['n', 'q', 'e'], ['d', 'x', 'h'], ['k', 'z', 'i'], ['q', 'p', 'o'], ['c', 'e', 'c'], ['r', 'o', 'j'], ['t', 's', 'r'], ['t', 'c', 'c'], ['p', 'q', 'j'], ['r', 'd', 'i'], ['h', 'b', 'i'], ['c', 't', 'o'], ['j', 'r', 'q'], ['d', 'u', 's'], ['m', 'w', 'l'], ['x', 't', 'n'], ['j', 'e', 'o'], ['k', 'w', 't'], ['b', 'x', 'i'], ['j', 'i', 't'], ['u', 'y', 'e'], ['x', 'r', 'b'], ['r', 'x', 'b'], ['d', 'g', 'z'], ['x', 'h', 'j'], ['q', 'v', 'v'], ['m', 'd', 'b'], ['g', 'v', 'c'], ['g', 'j', 'p'], ['z', 't', 'p'], ['s', 't', 'j'], ['y', 'r', 'i'], ['n', 'b', 'z'], ['x', 'c', 'v'], ['p', 'm', 'x'], ['g', 'j', 'h'], ['b', 'z', 'r'], ['p', 'v', 'u'], ['m', 'g', 'j'], ['x', 'z', 'o'], ['s', 'a', 'o'], ['j', 'l', 'y'], ['e', 'l', 'l'], ['w', 'y', 'b'], ['o', 'o', 'j'], ['t', 'r', 'a'], ['l', 'a', 'a'], ['h', 's', 'm'], ['w', 'l', 'd'], ['h', 'l', 'r'], ['e', 'l', 'q'], ['j', 'i', 't'], ['j', 's', 'p'], ['c', 'x', 's'], ['b', 'b', 'j'], ['u', 'o', 'a'], ['v', 'w', 'n'], ['d', 'g', 'e'], ['s', 'k', 'd'], ['a', 'j', 's'], ['j', 'b', 'b'], ['b', 't', 'i'], ['o', 'p', 'k'], ['n', 'z', 'g'], ['o', 'a', 'n'], ['p', 'n', 'w'], ['c', 'u', 'u'], ['o', 's', 'r'], ['w', 'm', 'l'], ['w', 'm', 's'], ['t', 'o', 'e'], ['h', 'a', 's'], ['z', 'x', 'r'], ['g', 'i', 'o'], ['s', 't', 'y'], ['n', 'j', 'c'], ['e', 'l', 'p'], ['p', 'j', 'r'], ['t', 'a', 't'], ['p', 'w', 'u'], ['m', 'c', 'w'], ['x', 'd', 'p'], ['k', 'i', 'z'], ['b', 'm', 'v'], ['g', 'c', 'a'], ['p', 'r', 'm'], ['z', 'e', 's'], ['v', 'z', 'l'], ['b', 's', 'o'], ['b', 'o', 'd'], ['u', 'k', 'g'], ['w', 'c', 'z'], ['s', 'k', 'z'], ['q', 'r', 'u'], ['t', 'r', 'm'], ['b', 'q', 'y'], ['n', 'u', 'r'], ['p', 'y', 'n'], ['y', 'i', 'x'], ['h', 'm', 'h'], ['n', 'h', 'x'], ['b', 'o', 'g'], ['i', 'z', 'k'], ['s', 'k', 'c'], ['s', 'i', 'd'], ['c', 'c', 'l'], ['u', 'b', 'b'], ['x', 's', 'g'], ['m', 'w', 'n'], ['h', 'k', 's'], ['b', 'v', 'k'], ['z', 'p', 't'], ['v', 'e', 'd'], ['t', 'k', 'h'], ['r', 'j', 'm'], ['p', 'n', 'd'], ['u', 'w', 'm'], ['w', 'u', 'l'], ['n', 'w', 'r'], ['h', 'h', 'k'], ['i', 'm', 'd'], ['i', 'w', 'k'], ['w', 'h', 'v'], ['y', 'l', 'o'], ['w', 'n', 'q'], ['i', 'g', 'd'], ['l', 's', 'q'], ['d', 'g', 'w'], ['k', 'r', 'p'], ['n', 's', 'i'], ['q', 'b', 'm'], ['u', 'r', 'e'], ['t', 'c', 'k'], ['n', 'q', 'e'], ['d', 'x', 'h'], ['k', 'z', 'i'], ['q', 'p', 'o'], ['c', 'e', 'c'], ['r', 'o', 'j'], ['t', 's', 'r'], ['t', 'c', 'c'], ['p', 'q', 'j'], ['r', 'd', 'i'], ['h', 'b', 'i'], ['c', 't', 'o'], ['j', 'r', 'q'], ['d', 'u', 's'], ['m', 'w', 'l'], ['x', 't', 'n'], ['j', 'e', 'o'], ['k', 'w', 't'], ['b', 'x', 'i'], ['j', 'i', 't'], ['u', 'y', 'e'], ['x', 'r', 'b'], ['r', 'x', 'b'], ['d', 'g', 'z'], ['x', 'h', 'j'], ['q', 'v', 'v'], ['m', 'd', 'b'], ['g', 'v', 'c'], ['g', 'j', 'p'], ['z', 't', 'p'], ['s', 't', 'j'], ['y', 'r', 'i'], ['n', 'b', 'z'], ['x', 'c', 'v'], ['p', 'm', 'x'], ['g', 'j', 'h'], ['b', 'z', 'r'], ['p', 'v', 'u'], ['m', 'g', 'j'], ['x', 'z', 'o'], ['s', 'a', 'o'], ['j', 'l', 'y'], ['e', 'l', 'l'], ['w', 'y', 'b'], ['o', 'o', 'j'], ['t', 'r', 'a'], ['l', 'a', 'a'], ['h', 's', 'm'], ['w', 'l', 'd'], ['h', 'l', 'r'], ['e', 'l', 'q'], ['j', 'i', 't'], ['j', 's', 'p'], ['c', 'x', 's'], ['b', 'b', 'j'], ['u', 'o', 'a'], ['v', 'w', 'n'], ['d', 'g', 'e'], ['s', 'k', 'd'], ['a', 'j', 's'], ['j', 'b', 'b'], ['b', 't', 'i'], ['o', 'p', 'k'], ['n', 'z', 'g'], ['o', 'a', 'n'], ['p', 'n', 'w'], ['c', 'u', 'u'], ['o', 's', 'r'], ['w', 'm', 'l'], ['w', 'm', 's'], ['t', 'o', 'e'], ['h', 'a', 's'], ['z', 'x', 'r'], ['g', 'i', 'o'], ['s', 't', 'y'], ['n', 'j', 'c'], ['e', 'l', 'p'], ['p', 'j', 'r'], ['t', 'a', 't'], ['p', 'w', 'u'], ['m', 'c', 'w'], ['x', 'd', 'p'], ['k', 'i', 'z'], ['b', 'm', 'v'], ['g', 'c', 'a'], ['p', 'r', 'm'], ['z', 'e', 's'], ['v', 'z', 'l'], ['b', 's', 'o'], ['b', 'o', 'd'], ['u', 'k', 'g'], ['w', 'c', 'z'], ['s', 'k', 'z'], ['q', 'r', 'u'], ['t', 'r', 'm'], ['b', 'q', 'y'], ['n', 'u', 'r'], ['p', 'y', 'n'], ['y', 'i', 'x'], ['h', 'm', 'h'], ['n', 'h', 'x'], ['b', 'o', 'g'], ['v', 'o', 'x'], ['a', 'p', 'z'], ['e', 'o', 'e'], ['u', 't', 'l'], ['q', 'x', 'p'], ['k', 'g', 'r'], ['l', 'a', 'i'], ['g', 'r', 'h'], ['w', 'm', 'h'], ['z', 'q', 'k'], ['n', 'b', 'c'], ['n', 'b', 't'], ['x', 'q', 'c'], ['t', 'o', 'y'], ['u', 'e', 'q'], ['i', 'u', 'a'], ['y', 'o', 'b'], ['m', 'l', 'u'], ['a', 'y', 'k'], ['a', 'n', 'w'], ['h', 'm', 'z'], ['u', 'z', 'a'], ['j', 'j', 'p'], ['l', 'c', 'j'], ['t', 'b', 'a'], ['c', 'r', 'o'], ['p', 'b', 'q'], ['k', 'v', 'p'], ['l', 'j', 'o'], ['u', 'q', 'i'], ['l', 'u', 'u'], ['c', 'b', 'z'], ['q', 'n', 'i'], ['i', 'k', 'u'], ['m', 'j', 'u'], ['l', 'o', 'c'], ['y', 'u', 'z'], ['p', 'r', 'w'], ['h', 'l', 'r'], ['a', 'u', 'm'], ['a', 'l', 'e'], ['e', 'd', 'h'], ['k', 's', 's'], ['h', 'h', 'y'], ['b', 't', 'n'], ['h', 'o', 'x'], ['s', 'x', 'i'], ['f', 'c', 'z'], ['k', 'f', 'a'], ['m', 'j', 'f'], ['k', 'q', 'f'], ['g', 'f', 'b'], ['f', 't', 'l'], ['i', 'z', 'k'], ['s', 'k', 'c'], ['s', 'i', 'd'], ['c', 'c', 'l'], ['u', 'b', 'b'], ['x', 's', 'g'], ['m', 'w', 'n'], ['h', 'k', 's'], ['b', 'v', 'k'], ['z', 'p', 't'], ['v', 'e', 'd'], ['t', 'k', 'h'], ['r', 'j', 'm'], ['p', 'n', 'd'], ['u', 'w', 'm'], ['w', 'u', 'l'], ['n', 'w', 'r'], ['h', 'h', 'k'], ['i', 'm', 'd'], ['i', 'w', 'k'], ['w', 'h', 'v'], ['y', 'l', 'o'], ['w', 'n', 'q'], ['i', 'g', 'd'], ['l', 's', 'q'], ['d', 'g', 'w'], ['k', 'r', 'p'], ['n', 's', 'i'], ['q', 'b', 'm'], ['u', 'r', 'e'], ['t', 'c', 'k'], ['n', 'q', 'e'], ['d', 'x', 'h'], ['k', 'z', 'i'], ['q', 'p', 'o'], ['c', 'e', 'c'], ['r', 'o', 'j'], ['t', 's', 'r'], ['t', 'c', 'c'], ['p', 'q', 'j'], ['r', 'd', 'i'], ['h', 'b', 'i'], ['c', 't', 'o'], ['j', 'r', 'q'], ['d', 'u', 's'], ['m', 'w', 'l'], ['x', 't', 'n'], ['j', 'e', 'o'], ['k', 'w', 't'], ['b', 'x', 'i'], ['j', 'i', 't'], ['u', 'y', 'e'], ['x', 'r', 'b'], ['r', 'x', 'b'], ['d', 'g', 'z'], ['x', 'h', 'j'], ['q', 'v', 'v'], ['m', 'd', 'b'], ['g', 'v', 'c'], ['g', 'j', 'p'], ['z', 't', 'p'], ['s', 't', 'j'], ['y', 'r', 'i'], ['n', 'b', 'z'], ['x', 'c', 'v'], ['p', 'm', 'x'], ['g', 'j', 'h'], ['b', 'z', 'r'], ['p', 'v', 'u'], ['m', 'g', 'j'], ['x', 'z', 'o'], ['s', 'a', 'o'], ['j', 'l', 'y'], ['e', 'l', 'l'], ['w', 'y', 'b'], ['o', 'o', 'j'], ['t', 'r', 'a'], ['l', 'a', 'a'], ['h', 's', 'm'], ['w', 'l', 'd'], ['h', 'l', 'r'], ['e', 'l', 'q'], ['j', 'i', 't'], ['j', 's', 'p'], ['c', 'x', 's'], ['b', 'b', 'j'], ['u', 'o', 'a'], ['v', 'w', 'n'], ['d', 'g', 'e'], ['s', 'k', 'd'], ['a', 'j', 's'], ['j', 'b', 'b'], ['b', 't', 'i'], ['o', 'p', 'k'], ['n', 'z', 'g'], ['o', 'a', 'n'], ['p', 'n', 'w'], ['c', 'u', 'u'], ['o', 's', 'r'], ['w', 'm', 'l'], ['w', 'm', 's'], ['t', 'o', 'e'], ['h', 'a', 's'], ['z', 'x', 'r'], ['g', 'i', 'o'], ['s', 't', 'y'], ['n', 'j', 'c'], ['e', 'l', 'p'], ['p', 'j', 'r'], ['t', 'a', 't'], ['p', 'w', 'u'], ['m', 'c', 'w'], ['x', 'd', 'p'], ['k', 'i', 'z'], ['b', 'm', 'v'], ['g', 'c', 'a'], ['p', 'r', 'm'], ['z', 'e', 's'], ['v', 'z', 'l'], ['b', 's', 'o'], ['b', 'o', 'd'], ['u', 'k', 'g'], ['w', 'c', 'z'], ['s', 'k', 'z'], ['q', 'r', 'u'], ['t', 'r', 'm'], ['b', 'q', 'y'], ['n', 'u', 'r'], ['p', 'y', 'n'], ['y', 'i', 'x'], ['h', 'm', 'h'], ['n', 'h', 'x'], ['b', 'o', 'g'], ['v', 'o', 'x'], ['a', 'p', 'z'], ['e', 'o', 'e'], ['u', 't', 'l'], ['q', 'x', 'p'], ['k', 'g', 'r'], ['l', 'a', 'i'], ['g', 'r', 'h'], ['w', 'm', 'h'], ['z', 'q', 'k'], ['n', 'b', 'c'], ['n', 'b', 't'], ['x', 'q', 'c'], ['t', 'o', 'y'], ['u', 'e', 'q'], ['i', 'u', 'a'], ['y', 'o', 'b'], ['m', 'l', 'u'], ['a', 'y', 'k'], ['a', 'n', 'w'], ['h', 'm', 'z'], ['u', 'z', 'a'], ['j', 'j', 'p'], ['l', 'c', 'j'], ['t', 'b', 'a'], ['c', 'r', 'o'], ['p', 'b', 'q'], ['k', 'v', 'p'], ['l', 'j', 'o'], ['u', 'q', 'i'], ['l', 'u', 'u'], ['c', 'b', 'z'], ['q', 'n', 'i'], ['i', 'k', 'u'], ['m', 'j', 'u'], ['l', 'o', 'c'], ['y', 'u', 'z'], ['p', 'r', 'w'], ['h', 'l', 'r'], ['a', 'u', 'm'], ['a', 'l', 'e'], ['e', 'd', 'h'], ['k', 's', 's'], ['h', 'h', 'y'], ['b', 't', 'n'], ['h', 'o', 'x'], ['s', 'x', 'i'], ['i', 'g', 'a'], ['z', 'b', 'n'], ['e', 'q', 'd'], ['x', 'z', 'i'], ['o', 'i', 'w'], ['q', 'm', 'z'], ['j', 'y', 'b'], ['v', 'm', 'q'], ['u', 'q', 'v'], ['w', 'b', 'q'], ['u', 'y', 'e'], ['v', 'o', 'r'], ['p', 'x', 'h'], ['y', 'r', 'u'], ['a', 'm', 'r'], ['p', 'j', 'u'], ['h', 'e', 'w'], ['x', 'k', 'i'], ['l', 'q', 'w'], ['p', 'e', 'p'], ['u', 'p', 'c'], ['c', 'z', 'v'], ['i', 's', 'v'], ['c', 'c', 'i'], ['y', 'x', 'b'], ['g', 't', 'p'], ['k', 'm', 'a'], ['s', 's', 't'], ['u', 'a', 'v'], ['w', 'x', 'h'], ['i', 't', 's'], ['c', 'b', 'r'], ['g', 'x', 'k'], ['c', 'y', 's'], ['r', 'q', 'w'], ['h', 'w', 'c'], ['y', 'r', 'l'], ['e', 'e', 'm'], ['l', 'z', 'q'], ['d', 'p', 'z'], ['b', 'w', 'x'], ['x', 'e', 'e'], ['c', 'z', 'n'], ['e', 'q', 'o']]\n",
            "population sorted: [['f', 'a', 'n'], ['f', 'c', 'a'], ['f', 'z', 'e'], ['f', 'f', 'q'], ['f', 'u', 'g'], ['f', 'r', 'p'], ['f', 'u', 'k'], ['f', 'i', 's'], ['f', 'v', 'h'], ['f', 'o', 'f'], ['f', 'w', 'p'], ['f', 'q', 'y'], ['f', 'c', 'i'], ['f', 'x', 'v'], ['f', 'o', 'i'], ['f', 'u', 'x'], ['f', 'o', 'q'], ['f', 'x', 'x'], ['f', 's', 'r'], ['f', 'k', 's'], ['f', 'y', 'd'], ['f', 'a', 'l'], ['f', 'c', 'y'], ['f', 'z', 'm'], ['f', 'e', 'i'], ['f', 'h', 'b'], ['f', 'y', 'r'], ['f', 'u', 'x'], ['f', 'v', 'm'], ['f', 'f', 'g'], ['f', 'd', 'q'], ['f', 'd', 'm'], ['f', 'p', 'a'], ['f', 'f', 'w'], ['f', 'f', 'j'], ['f', 'u', 'z'], ['f', 'z', 'd'], ['f', 'h', 'r'], ['f', 'p', 'j'], ['f', 'p', 'e'], ['f', 'w', 'd'], ['f', 'b', 'd'], ['f', 'i', 'k'], ['f', 'a', 'g'], ['f', 'z', 'b'], ['f', 'n', 'a'], ['f', 'a', 'j'], ['f', 'y', 'd'], ['f', 'p', 'm'], ['f', 'k', 'j']]\n",
            "population sorted: [['f', 'k', 'r'], ['f', 'o', 'x'], ['f', 'p', 'p'], ['f', 't', 'h'], ['f', 'm', 'x'], ['f', 'g', 'f'], ['f', 'g', 'q'], ['f', 'n', 't'], ['f', 'v', 'c'], ['f', 'h', 't'], ['f', 'g', 'h'], ['f', 'c', 'o'], ['f', 'g', 'l'], ['f', 'i', 'f'], ['f', 'm', 'd'], ['f', 'h', 'l'], ['f', 'k', 'k'], ['f', 'u', 't'], ['f', 'u', 'b'], ['f', 'r', 'g'], ['f', 'n', 'v'], ['f', 's', 'i'], ['f', 'p', 'b'], ['f', 'k', 'n'], ['f', 'o', 'd'], ['f', 'f', 'r'], ['f', 'c', 's'], ['f', 'j', 'g'], ['f', 'v', 'b'], ['f', 'u', 'q'], ['f', 'j', 'v'], ['f', 'k', 'l'], ['f', 'y', 'y'], ['f', 'a', 'r'], ['f', 'v', 'y'], ['f', 'y', 'h'], ['f', 'u', 'v'], ['f', 'r', 'l'], ['f', 'k', 'c'], ['f', 'b', 'i'], ['f', 'a', 'j'], ['f', 'j', 'h'], ['f', 'q', 'p'], ['f', 'h', 't'], ['f', 'y', 'e'], ['f', 'i', 'r'], ['f', 'j', 'u'], ['f', 'x', 's'], ['f', 'n', 'n'], ['f', 'i', 'm']]\n",
            "population sorted: [['f', 'g', 'b'], ['f', 'i', 'f'], ['f', 't', 'f'], ['f', 'w', 'i'], ['f', 'e', 's'], ['f', 'r', 'v'], ['f', 'c', 'g'], ['f', 'e', 'j'], ['f', 'x', 'o'], ['f', 'y', 'b'], ['f', 'z', 'm'], ['f', 't', 'd'], ['f', 'n', 'r'], ['f', 'c', 'x'], ['f', 'k', 'h'], ['f', 'o', 'g'], ['f', 'h', 'c'], ['f', 'z', 'f'], ['f', 'x', 'i'], ['f', 'n', 'f'], ['f', 'p', 'v'], ['f', 'x', 's'], ['f', 'f', 't'], ['f', 'l', 'y'], ['f', 'e', 'g'], ['f', 'u', 'h'], ['f', 'u', 'c'], ['f', 'k', 'g'], ['f', 'z', 'k'], ['f', 'w', 'p'], ['f', 'b', 'p'], ['f', 'g', 'd'], ['f', 'm', 'b'], ['f', 'l', 'w'], ['f', 'b', 'z'], ['f', 'z', 'o'], ['f', 'm', 'h'], ['f', 'm', 'p'], ['f', 'e', 't'], ['f', 'z', 'u'], ['f', 'q', 't'], ['f', 'g', 'o'], ['f', 'o', 'h'], ['f', 'w', 'x'], ['f', 'z', 'm'], ['f', 'a', 'e'], ['f', 's', 'f'], ['f', 'm', 'y'], ['f', 'o', 'u'], ['f', 'd', 'y']]\n",
            "population sorted: [['f', 'l', 'r'], ['f', 'g', 'd'], ['f', 'g', 'k'], ['f', 'm', 'q'], ['f', 'i', 'n'], ['f', 'k', 'c'], ['f', 'o', 'z'], ['f', 'z', 's'], ['f', 'd', 'p'], ['f', 'h', 'h'], ['f', 'y', 'x'], ['f', 's', 'q'], ['f', 's', 'n'], ['f', 'x', 'a'], ['f', 'm', 'f'], ['f', 'a', 'q'], ['f', 'x', 'q'], ['f', 't', 'p'], ['f', 'y', 'e'], ['f', 'p', 'k'], ['f', 'u', 'i'], ['f', 'r', 'r'], ['f', 'i', 'p'], ['f', 'x', 'p'], ['f', 'i', 'b'], ['f', 'y', 'n'], ['f', 'j', 'i'], ['f', 'q', 'd'], ['f', 'w', 'e'], ['f', 'k', 'v'], ['f', 'i', 'r'], ['f', 'u', 's'], ['f', 'w', 'h'], ['f', 'z', 'l'], ['f', 'h', 'w'], ['f', 'v', 'z'], ['f', 't', 'q'], ['f', 'c', 'l'], ['f', 'c', 'g'], ['f', 'e', 'z'], ['f', 'm', 'x'], ['f', 'b', 'g'], ['f', 's', 'z'], ['f', 't', 'g'], ['f', 'c', 'p'], ['f', 'p', 'v'], ['f', 'a', 'h'], ['f', 'g', 'h'], ['f', 'd', 'x'], ['f', 'o', 'b']]\n",
            "population sorted: [['f', 'q', 's'], ['f', 'j', 'i'], ['f', 'l', 't'], ['f', 't', 'y'], ['f', 'x', 'b'], ['f', 'j', 'v'], ['f', 'e', 'b'], ['f', 'q', 'f'], ['f', 'x', 'q'], ['f', 'b', 'g'], ['f', 'j', 'k'], ['f', 'g', 'w'], ['f', 'l', 'v'], ['f', 'r', 'b'], ['f', 'q', 'i'], ['f', 'd', 'i'], ['f', 'c', 'j'], ['f', 'h', 'n'], ['f', 'f', 'a'], ['f', 'b', 'b'], ['f', 'v', 'h'], ['f', 'p', 'h'], ['f', 'm', 'n'], ['f', 's', 'a'], ['f', 'm', 'q'], ['f', 'n', 'm'], ['f', 'm', 'q'], ['f', 'p', 'w'], ['f', 'y', 'z'], ['f', 'q', 'b'], ['f', 't', 'p'], ['f', 'v', 'a'], ['f', 'h', 'k'], ['f', 'o', 'd'], ['f', 'r', 'r'], ['f', 'q', 'i'], ['f', 'm', 'b'], ['f', 'z', 'r'], ['f', 'o', 'y'], ['f', 'p', 's'], ['f', 'g', 'y'], ['f', 'q', 'x'], ['f', 'j', 'i'], ['f', 'c', 'z'], ['f', 'e', 'o'], ['f', 'm', 'z'], ['f', 'f', 'z'], ['f', 'm', 'u'], ['f', 'o', 'e'], ['f', 'a', 'p']]\n",
            "population sorted: [['f', 'a', 'p'], ['f', 'r', 'z'], ['f', 'y', 'd'], ['f', 'i', 'b'], ['f', 'g', 'm'], ['f', 'p', 'z'], ['f', 'b', 'e'], ['f', 'v', 'r'], ['f', 'b', 'j'], ['f', 'd', 'j'], ['f', 'j', 'e'], ['f', 'e', 'k'], ['f', 'u', 'y'], ['f', 'f', 'g'], ['f', 'h', 'g'], ['f', 'x', 'z'], ['f', 'd', 'z'], ['f', 'r', 'u'], ['f', 't', 'y'], ['f', 's', 'd'], ['f', 'u', 'q'], ['f', 'x', 'z'], ['f', 'y', 'k'], ['f', 'p', 'm'], ['f', 'z', 'y'], ['f', 's', 'a'], ['f', 'b', 'g'], ['f', 't', 'b'], ['f', 's', 'x'], ['f', 'w', 'g'], ['f', 'n', 'i'], ['f', 'u', 'h'], ['f', 'w', 'i'], ['f', 'q', 'p'], ['f', 'l', 'c'], ['f', 'f', 'm'], ['f', 'f', 'a'], ['f', 'v', 'o'], ['f', 'd', 'v'], ['f', 'l', 'o'], ['f', 'k', 'u'], ['f', 'c', 'q'], ['f', 'a', 'c'], ['f', 'i', 'j'], ['f', 'i', 'y'], ['f', 'm', 'w'], ['f', 'm', 'n'], ['f', 'm', 'z'], ['f', 'r', 'r'], ['f', 'b', 'g']]\n",
            "population sorted: [['f', 'g', 'z'], ['f', 'l', 'm'], ['f', 'i', 'a'], ['f', 'p', 'j'], ['f', 'g', 'k'], ['f', 'u', 'r'], ['f', 'n', 'v'], ['f', 'y', 'w'], ['f', 'w', 'r'], ['f', 's', 'z'], ['f', 'y', 'a'], ['f', 'b', 'k'], ['f', 'f', 'c'], ['f', 'l', 't'], ['f', 'c', 'f'], ['f', 'a', 'k'], ['f', 'k', 'g'], ['f', 'a', 'm'], ['f', 'r', 'h'], ['f', 'a', 'z'], ['f', 'a', 'a'], ['f', 'z', 'w'], ['f', 'b', 'y'], ['f', 'f', 'q'], ['f', 'b', 's'], ['f', 'o', 'x'], ['f', 't', 'j'], ['f', 'b', 'i'], ['f', 'e', 'r'], ['f', 't', 'w'], ['f', 'r', 'c'], ['f', 'p', 'y'], ['f', 'b', 'o'], ['f', 'x', 'l'], ['f', 'l', 'k'], ['f', 'x', 'x'], ['f', 'a', 'l'], ['f', 'q', 'z'], ['f', 'b', 'l'], ['f', 'i', 's'], ['f', 'o', 'y'], ['f', 'f', 'l'], ['f', 'k', 's'], ['f', 'l', 's'], ['f', 'c', 'g'], ['f', 'v', 'o'], ['f', 'c', 'y'], ['f', 't', 'a'], ['f', 'b', 'g'], ['f', 'o', 'y']]\n",
            "population sorted: [['f', 'h', 'z'], ['f', 'q', 'g'], ['f', 'g', 'e'], ['f', 'f', 'a'], ['f', 'r', 'z'], ['f', 'p', 'z'], ['f', 't', 'o'], ['f', 'h', 'y'], ['f', 'o', 'o'], ['f', 'i', 'p'], ['f', 'o', 'l'], ['f', 'u', 's'], ['f', 'g', 'k'], ['f', 'l', 's'], ['f', 'b', 's'], ['f', 'q', 'p'], ['f', 'c', 'i'], ['f', 'j', 'h'], ['f', 'h', 'o'], ['f', 'x', 'h'], ['f', 'f', 'y'], ['f', 'o', 'h'], ['f', 'x', 'm'], ['f', 'b', 'l'], ['f', 'm', 'w'], ['f', 'q', 'a'], ['f', 'q', 'u'], ['f', 'd', 'm'], ['f', 'p', 'n'], ['f', 'o', 'w'], ['f', 'h', 'b'], ['f', 'o', 'v'], ['f', 'i', 't'], ['f', 'd', 'k'], ['f', 's', 'r'], ['f', 'v', 'y'], ['f', 'l', 'f'], ['f', 'u', 'v'], ['f', 'z', 'g'], ['f', 'o', 'b'], ['f', 't', 'c'], ['f', 'o', 'd'], ['f', 'q', 'j'], ['f', 'k', 'v'], ['f', 'f', 'x'], ['f', 'w', 'z'], ['f', 'h', 'x'], ['f', 'q', 'q'], ['f', 'h', 'p'], ['f', 'd', 'b']]\n",
            "Found gene in 9 iterations at index 32\n"
          ],
          "name": "stdout"
        },
        {
          "output_type": "execute_result",
          "data": {
            "text/plain": [
              "['f', 'i', 't']"
            ]
          },
          "metadata": {
            "tags": []
          },
          "execution_count": 785
        }
      ]
    }
  ]
}