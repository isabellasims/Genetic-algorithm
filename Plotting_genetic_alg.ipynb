{
  "nbformat": 4,
  "nbformat_minor": 0,
  "metadata": {
    "colab": {
      "name": "Plotting genetic alg",
      "provenance": [],
      "collapsed_sections": [],
      "toc_visible": true,
      "include_colab_link": true
    },
    "kernelspec": {
      "name": "python3",
      "display_name": "Python 3"
    }
  },
  "cells": [
    {
      "cell_type": "markdown",
      "metadata": {
        "id": "view-in-github",
        "colab_type": "text"
      },
      "source": [
        "<a href=\"https://colab.research.google.com/github/isabellasims/Genetic-algorithm/blob/master/Plotting_genetic_alg.ipynb\" target=\"_parent\"><img src=\"https://colab.research.google.com/assets/colab-badge.svg\" alt=\"Open In Colab\"/></a>"
      ]
    },
    {
      "cell_type": "code",
      "metadata": {
        "id": "zduNSwN8kL6A",
        "colab_type": "code",
        "colab": {}
      },
      "source": [
        "from random import choice, random, randint, shuffle\n",
        "import numpy as np"
      ],
      "execution_count": 0,
      "outputs": []
    },
    {
      "cell_type": "code",
      "metadata": {
        "id": "TNyFWrljkUUa",
        "colab_type": "code",
        "colab": {}
      },
      "source": [
        "charset = list(\"abcdefghijklmnopqrstuvwxyz\")\n",
        "#goal = input(\"define a 3 letter gene you wish to generate : \")\n",
        "#goal = list(goal)\n",
        "\n",
        "goal = [\"f\",\"i\",\"t\"]\n",
        "stringLength = len(goal)\n",
        "million = goal[0] "
      ],
      "execution_count": 0,
      "outputs": []
    },
    {
      "cell_type": "code",
      "metadata": {
        "id": "Hkb0bAwukeSC",
        "colab_type": "code",
        "colab": {}
      },
      "source": [
        "def MHcondition(individual):\n",
        "    counter = 0    \n",
        "    if million in individual:\n",
        "      counter += 1          \n",
        "    if counter == 1:\n",
        "      return True\n",
        "    else:\n",
        "      return False    \n",
        "    counter = 0"
      ],
      "execution_count": 0,
      "outputs": []
    },
    {
      "cell_type": "code",
      "metadata": {
        "id": "xtKTDv_qkhMZ",
        "colab_type": "code",
        "colab": {}
      },
      "source": [
        "def fitness(individual):\n",
        "  f = 0\n",
        "  if MHcondition(individual) == True: \n",
        "    f +=1 # add 1 to fitness for combinations with correct condition for MH problem \n",
        "    if getSwitch(individual) == million:\n",
        "      f+=2 # add 2 to fitness when MH problem works\n",
        "  return f"
      ],
      "execution_count": 0,
      "outputs": []
    },
    {
      "cell_type": "code",
      "metadata": {
        "id": "a9PkCK34kkNX",
        "colab_type": "code",
        "colab": {}
      },
      "source": [
        "def isGoal(individual):  \n",
        "  if individual == goal:\n",
        "    return True"
      ],
      "execution_count": 0,
      "outputs": []
    },
    {
      "cell_type": "code",
      "metadata": {
        "id": "GZSJR-O6kw09",
        "colab_type": "code",
        "colab": {}
      },
      "source": [
        "def getSwitch(individual): \n",
        "  temp = individual\n",
        "  pick = choice(temp)\n",
        "  temp.remove(pick) # remove the random choice \n",
        "  for char in temp:\n",
        "    if char!= million:\n",
        "      goat = char\n",
        "      temp.remove(goat)\n",
        "    else: # this is accounting for an error I'm not sure why I have when a value is not assigned to goat despite the individual satisfying MH problem condition... Not super important because we don't care much about the goat value\n",
        "      goat = choice(charset) \n",
        "  switch = temp[0]\n",
        "  return switch"
      ],
      "execution_count": 0,
      "outputs": []
    },
    {
      "cell_type": "code",
      "metadata": {
        "id": "s2YYxyNztF8j",
        "colab_type": "code",
        "colab": {
          "base_uri": "https://localhost:8080/",
          "height": 51
        },
        "outputId": "edf24506-f029-4d9b-8ab9-6187ded0c7f6"
      },
      "source": [
        "print(getSwitch([\"f\",\"o\",\"h\"]))\n",
        "print(getSwitch([\"p\",\"o\",\"h\"]))"
      ],
      "execution_count": 396,
      "outputs": [
        {
          "output_type": "stream",
          "text": [
            "h\n",
            "h\n"
          ],
          "name": "stdout"
        }
      ]
    },
    {
      "cell_type": "code",
      "metadata": {
        "id": "lQKrOk3hldtb",
        "colab_type": "code",
        "colab": {}
      },
      "source": [
        "populationSize = 50\n",
        "stringLength = 3\n",
        "population = []\n",
        "def makeContests():\n",
        "  contestants = [[choice(charset) for _ in range(stringLength)] for _ in range(populationSize)]\n",
        "  #print(\"contestants\" ,contestants)\n",
        "  return contestants"
      ],
      "execution_count": 0,
      "outputs": []
    },
    {
      "cell_type": "code",
      "metadata": {
        "id": "JK8c9fmrlSQ6",
        "colab_type": "code",
        "colab": {}
      },
      "source": [
        "doors = []\n",
        "goatDoors = []\n",
        "def mhProblem(contestants):\n",
        "    goat = ''\n",
        "    pick = ''\n",
        "    temp = ''\n",
        "    \n",
        "    evolvedTemp = []\n",
        "    \n",
        "    for i in contestants:       \n",
        "      if MHcondition(i): \n",
        "        for j in i:\n",
        "          evolvedTemp.append(j)         \n",
        "        temp = i              \n",
        "        switch = getSwitch(temp) \n",
        "        switch = np.array(switch,ndmin = 1)         \n",
        "        #print(\"switch\" , switch[0])\n",
        "        evolvedTemp.remove(switch[0])\n",
        "        evolvedTemp.insert(0, switch[0])\n",
        "        doors.append(evolvedTemp)\n",
        "        evolvedTemp = []\n",
        "      else: \n",
        "        goatDoors.append(i) \n",
        "    return doors"
      ],
      "execution_count": 0,
      "outputs": []
    },
    {
      "cell_type": "code",
      "metadata": {
        "id": "B1v5YCjhlgF7",
        "colab_type": "code",
        "colab": {
          "base_uri": "https://localhost:8080/",
          "height": 89
        },
        "outputId": "a8631254-31b5-4ea9-ac08-cf7e52ba172d"
      },
      "source": [
        "contestants = makeContests()\n",
        "print(\"contestants\" , contestants)\n",
        "Doors = mhProblem(contestants)\n",
        "print(\"MH solved\" , Doors, \"Eligable for MH: \" , len(Doors))\n",
        "population = Doors\n",
        "population.extend(goatDoors)\n",
        "print(population)\n",
        "\n",
        "\n",
        "\n",
        "#ndmin : int, optional"
      ],
      "execution_count": 399,
      "outputs": [
        {
          "output_type": "stream",
          "text": [
            "contestants [['s', 'o', 'g'], ['m', 'k', 'i'], ['g', 'p', 'b'], ['h', 'k', 'g'], ['j', 'm', 'w'], ['s', 'e', 'x'], ['r', 'x', 'q'], ['j', 'v', 'i'], ['q', 'r', 'a'], ['i', 'n', 'b'], ['s', 't', 'l'], ['e', 'o', 'e'], ['j', 'e', 'g'], ['a', 'n', 'd'], ['g', 'm', 'j'], ['b', 'p', 'm'], ['f', 'l', 'k'], ['d', 'e', 'd'], ['b', 's', 'f'], ['k', 'n', 'a'], ['p', 'd', 'w'], ['t', 'v', 'b'], ['w', 'u', 'i'], ['z', 'y', 'w'], ['v', 'j', 'q'], ['o', 'w', 'o'], ['v', 'a', 'c'], ['i', 'p', 'a'], ['v', 'd', 'g'], ['w', 'd', 'o'], ['l', 'v', 'f'], ['t', 'c', 'z'], ['u', 'i', 'c'], ['y', 'v', 'z'], ['j', 'v', 'c'], ['i', 'j', 'a'], ['l', 'b', 'l'], ['b', 'q', 'r'], ['m', 'n', 'j'], ['z', 'u', 'p'], ['i', 'a', 'r'], ['t', 'w', 'w'], ['l', 'h', 't'], ['a', 'p', 'k'], ['f', 'h', 'p'], ['t', 't', 'b'], ['i', 'z', 'f'], ['b', 'y', 'd'], ['l', 'e', 'u'], ['f', 'r', 'r']]\n",
            "MH solved [['f', 'l', 'k'], ['f', 'b', 's'], ['f', 'l', 'v'], ['f', 'h', 'p'], ['f', 'i', 'z'], ['f', 'r', 'r']] Eligable for MH:  6\n",
            "[['f', 'l', 'k'], ['f', 'b', 's'], ['f', 'l', 'v'], ['f', 'h', 'p'], ['f', 'i', 'z'], ['f', 'r', 'r'], ['s', 'o', 'g'], ['m', 'k', 'i'], ['g', 'p', 'b'], ['h', 'k', 'g'], ['j', 'm', 'w'], ['s', 'e', 'x'], ['r', 'x', 'q'], ['j', 'v', 'i'], ['q', 'r', 'a'], ['i', 'n', 'b'], ['s', 't', 'l'], ['e', 'o', 'e'], ['j', 'e', 'g'], ['a', 'n', 'd'], ['g', 'm', 'j'], ['b', 'p', 'm'], ['d', 'e', 'd'], ['k', 'n', 'a'], ['p', 'd', 'w'], ['t', 'v', 'b'], ['w', 'u', 'i'], ['z', 'y', 'w'], ['v', 'j', 'q'], ['o', 'w', 'o'], ['v', 'a', 'c'], ['i', 'p', 'a'], ['v', 'd', 'g'], ['w', 'd', 'o'], ['t', 'c', 'z'], ['u', 'i', 'c'], ['y', 'v', 'z'], ['j', 'v', 'c'], ['i', 'j', 'a'], ['l', 'b', 'l'], ['b', 'q', 'r'], ['m', 'n', 'j'], ['z', 'u', 'p'], ['i', 'a', 'r'], ['t', 'w', 'w'], ['l', 'h', 't'], ['a', 'p', 'k'], ['t', 't', 'b'], ['b', 'y', 'd'], ['l', 'e', 'u']]\n"
          ],
          "name": "stdout"
        }
      ]
    },
    {
      "cell_type": "code",
      "metadata": {
        "id": "rt0Qe7TDHP0Q",
        "colab_type": "code",
        "colab": {}
      },
      "source": [
        "mutationRate = .5\n",
        "def mutate(example):\n",
        "  if MHcondition(example) == True:\n",
        "    switch = getSwitch(example) \n",
        "    if any(isinstance(i, list) for i in switch): # if switch is a nested list (it is once everytime for some reason & this breaks the genetic alg) then retrieve the string value\n",
        "      switch = switch[0]\n",
        "    genebank = [switch,choice(charset),choice(charset)] # idea is you put the switched value in here and try again for the rest try for another goal value bc MH condition should make you 2/3 sure that the switch is there]  \n",
        "    return genebank\n",
        "  else: # if the condition is not true here, force satisfy MH condition at first index if mutation \n",
        "    genebank = [goal[0],choice(charset),choice(charset)] \n",
        "    return genebank\n",
        "def crossover(parent1, parent2): \n",
        "  combine = parent1 + parent2\n",
        "  shuffle(combine)\n",
        "  return combine[:3]"
      ],
      "execution_count": 0,
      "outputs": []
    },
    {
      "cell_type": "code",
      "metadata": {
        "id": "9odwIM7MHpkF",
        "colab_type": "code",
        "colab": {}
      },
      "source": [
        "populationSize = 50\n",
        "stringLength = 3\n",
        "x = []\n",
        "y = []\n",
        "\n",
        "\n",
        "\n",
        "\n",
        "def geneticAlgorithm():\n",
        "  iterations = 0\n",
        "\n",
        "  # the initial population is populationSize random strings\n",
        "  \n",
        "  \n",
        "  while True:\n",
        " \n",
        "   \n",
        "    populationSize = 50\n",
        "    contestants = makeContests()\n",
        "    print(contestants)\n",
        "    Doors = mhProblem(contestants)\n",
        "    population = doors\n",
        "    population.extend(goatDoors)\n",
        "    print(\"population:\",population)\n",
        "\n",
        "\n",
        "  \n",
        "    # populationSize = 50\n",
        "    # contestants = makeContests()\n",
        "    # print(contestants)\n",
        "    # population = mhProblem(contestants)\n",
        "    # print(population)\n",
        "\n",
        "\n",
        "    while True:\n",
        "      iterations += 1\n",
        "      #mhProblem(contestants)\n",
        "      for individual in population:\n",
        "        if (isGoal(individual)):\n",
        "          print(f\"Found gene in {iterations} iterations at index {population.index(individual)}\")\n",
        "          return individual\n",
        "\n",
        "\n",
        "      population.sort(key=fitness, reverse=True)\n",
        "      parents = population[:10] # ---> top 10 candidates  \n",
        "      population = [mutate(crossover(choice(parents),choice(parents))) for _ in range(populationSize)] # G\n",
        "      print(\"population:\",population)\n",
        "    \n",
        "     \n",
        "  \n",
        "  "
      ],
      "execution_count": 0,
      "outputs": []
    },
    {
      "cell_type": "code",
      "metadata": {
        "id": "9SrUCltaHwUL",
        "colab_type": "code",
        "colab": {
          "base_uri": "https://localhost:8080/",
          "height": 348
        },
        "outputId": "631a1683-ea3f-41d5-80cc-2f4830628ff4"
      },
      "source": [
        "geneticAlgorithm()"
      ],
      "execution_count": 402,
      "outputs": [
        {
          "output_type": "stream",
          "text": [
            "[['g', 'v', 'n'], ['a', 'e', 'n'], ['u', 'i', 'c'], ['o', 'v', 'b'], ['j', 'm', 'm'], ['d', 'u', 'q'], ['o', 'z', 'x'], ['y', 'l', 'b'], ['x', 'y', 'g'], ['v', 't', 'f'], ['s', 'p', 'u'], ['t', 'd', 'k'], ['u', 'g', 'x'], ['g', 'z', 'z'], ['k', 'n', 'x'], ['y', 'u', 'd'], ['s', 'j', 'i'], ['z', 'p', 'a'], ['t', 'o', 'c'], ['h', 'c', 'b'], ['b', 'n', 'd'], ['m', 'q', 's'], ['t', 'z', 's'], ['j', 'b', 'j'], ['e', 'x', 'r'], ['b', 'n', 'c'], ['w', 'w', 'w'], ['r', 'v', 'z'], ['m', 'c', 'q'], ['p', 'i', 'q'], ['y', 'l', 'n'], ['c', 'm', 'q'], ['q', 's', 'v'], ['t', 'b', 's'], ['j', 'u', 'q'], ['i', 's', 'w'], ['q', 'k', 'r'], ['d', 'n', 'f'], ['c', 'e', 'h'], ['u', 'l', 't'], ['q', 'l', 'i'], ['o', 'g', 'b'], ['t', 'm', 'w'], ['d', 'm', 'j'], ['f', 'o', 'j'], ['o', 'i', 'f'], ['p', 'g', 'q'], ['o', 'n', 'm'], ['e', 'w', 't'], ['y', 'o', 'v']]\n",
            "population: [['f', 'l', 'k'], ['f', 'b', 's'], ['f', 'l', 'v'], ['f', 'h', 'p'], ['f', 'i', 'z'], ['f', 'r', 'r'], ['s', 'o', 'g'], ['m', 'k', 'i'], ['g', 'p', 'b'], ['h', 'k', 'g'], ['j', 'm', 'w'], ['s', 'e', 'x'], ['r', 'x', 'q'], ['j', 'v', 'i'], ['q', 'r', 'a'], ['i', 'n', 'b'], ['s', 't', 'l'], ['e', 'o', 'e'], ['j', 'e', 'g'], ['a', 'n', 'd'], ['g', 'm', 'j'], ['b', 'p', 'm'], ['d', 'e', 'd'], ['k', 'n', 'a'], ['p', 'd', 'w'], ['t', 'v', 'b'], ['w', 'u', 'i'], ['z', 'y', 'w'], ['v', 'j', 'q'], ['o', 'w', 'o'], ['v', 'a', 'c'], ['i', 'p', 'a'], ['v', 'd', 'g'], ['w', 'd', 'o'], ['t', 'c', 'z'], ['u', 'i', 'c'], ['y', 'v', 'z'], ['j', 'v', 'c'], ['i', 'j', 'a'], ['l', 'b', 'l'], ['b', 'q', 'r'], ['m', 'n', 'j'], ['z', 'u', 'p'], ['i', 'a', 'r'], ['t', 'w', 'w'], ['l', 'h', 't'], ['a', 'p', 'k'], ['t', 't', 'b'], ['b', 'y', 'd'], ['l', 'e', 'u'], ['t', 'v', 'f'], ['f', 'd', 'n'], ['f', 'o', 'j'], ['f', 'o', 'i'], ['s', 'o', 'g'], ['m', 'k', 'i'], ['g', 'p', 'b'], ['h', 'k', 'g'], ['j', 'm', 'w'], ['s', 'e', 'x'], ['r', 'x', 'q'], ['j', 'v', 'i'], ['q', 'r', 'a'], ['i', 'n', 'b'], ['s', 't', 'l'], ['e', 'o', 'e'], ['j', 'e', 'g'], ['a', 'n', 'd'], ['g', 'm', 'j'], ['b', 'p', 'm'], ['d', 'e', 'd'], ['k', 'n', 'a'], ['p', 'd', 'w'], ['t', 'v', 'b'], ['w', 'u', 'i'], ['z', 'y', 'w'], ['v', 'j', 'q'], ['o', 'w', 'o'], ['v', 'a', 'c'], ['i', 'p', 'a'], ['v', 'd', 'g'], ['w', 'd', 'o'], ['t', 'c', 'z'], ['u', 'i', 'c'], ['y', 'v', 'z'], ['j', 'v', 'c'], ['i', 'j', 'a'], ['l', 'b', 'l'], ['b', 'q', 'r'], ['m', 'n', 'j'], ['z', 'u', 'p'], ['i', 'a', 'r'], ['t', 'w', 'w'], ['l', 'h', 't'], ['a', 'p', 'k'], ['t', 't', 'b'], ['b', 'y', 'd'], ['l', 'e', 'u'], ['g', 'v', 'n'], ['a', 'e', 'n'], ['u', 'i', 'c'], ['o', 'v', 'b'], ['j', 'm', 'm'], ['d', 'u', 'q'], ['o', 'z', 'x'], ['y', 'l', 'b'], ['x', 'y', 'g'], ['s', 'p', 'u'], ['t', 'd', 'k'], ['u', 'g', 'x'], ['g', 'z', 'z'], ['k', 'n', 'x'], ['y', 'u', 'd'], ['s', 'j', 'i'], ['z', 'p', 'a'], ['t', 'o', 'c'], ['h', 'c', 'b'], ['b', 'n', 'd'], ['m', 'q', 's'], ['t', 'z', 's'], ['j', 'b', 'j'], ['e', 'x', 'r'], ['b', 'n', 'c'], ['w', 'w', 'w'], ['r', 'v', 'z'], ['m', 'c', 'q'], ['p', 'i', 'q'], ['y', 'l', 'n'], ['c', 'm', 'q'], ['q', 's', 'v'], ['t', 'b', 's'], ['j', 'u', 'q'], ['i', 's', 'w'], ['q', 'k', 'r'], ['c', 'e', 'h'], ['u', 'l', 't'], ['q', 'l', 'i'], ['o', 'g', 'b'], ['t', 'm', 'w'], ['d', 'm', 'j'], ['p', 'g', 'q'], ['o', 'n', 'm'], ['e', 'w', 't'], ['y', 'o', 'v']]\n"
          ],
          "name": "stdout"
        },
        {
          "output_type": "error",
          "ename": "IndexError",
          "evalue": "ignored",
          "traceback": [
            "\u001b[0;31m---------------------------------------------------------------------------\u001b[0m",
            "\u001b[0;31mIndexError\u001b[0m                                Traceback (most recent call last)",
            "\u001b[0;32m<ipython-input-402-6d031ad1fe84>\u001b[0m in \u001b[0;36m<module>\u001b[0;34m()\u001b[0m\n\u001b[0;32m----> 1\u001b[0;31m \u001b[0mgeneticAlgorithm\u001b[0m\u001b[0;34m(\u001b[0m\u001b[0;34m)\u001b[0m\u001b[0;34m\u001b[0m\u001b[0;34m\u001b[0m\u001b[0m\n\u001b[0m",
            "\u001b[0;32m<ipython-input-401-0f82a35d788c>\u001b[0m in \u001b[0;36mgeneticAlgorithm\u001b[0;34m()\u001b[0m\n\u001b[1;32m     44\u001b[0m       \u001b[0mpopulation\u001b[0m\u001b[0;34m.\u001b[0m\u001b[0msort\u001b[0m\u001b[0;34m(\u001b[0m\u001b[0mkey\u001b[0m\u001b[0;34m=\u001b[0m\u001b[0mfitness\u001b[0m\u001b[0;34m,\u001b[0m \u001b[0mreverse\u001b[0m\u001b[0;34m=\u001b[0m\u001b[0;32mTrue\u001b[0m\u001b[0;34m)\u001b[0m\u001b[0;34m\u001b[0m\u001b[0;34m\u001b[0m\u001b[0m\n\u001b[1;32m     45\u001b[0m       \u001b[0mparents\u001b[0m \u001b[0;34m=\u001b[0m \u001b[0mpopulation\u001b[0m\u001b[0;34m[\u001b[0m\u001b[0;34m:\u001b[0m\u001b[0;36m10\u001b[0m\u001b[0;34m]\u001b[0m \u001b[0;31m# ---> top 10 candidates\u001b[0m\u001b[0;34m\u001b[0m\u001b[0;34m\u001b[0m\u001b[0m\n\u001b[0;32m---> 46\u001b[0;31m       \u001b[0mpopulation\u001b[0m \u001b[0;34m=\u001b[0m \u001b[0;34m[\u001b[0m\u001b[0mmutate\u001b[0m\u001b[0;34m(\u001b[0m\u001b[0mcrossover\u001b[0m\u001b[0;34m(\u001b[0m\u001b[0mchoice\u001b[0m\u001b[0;34m(\u001b[0m\u001b[0mparents\u001b[0m\u001b[0;34m)\u001b[0m\u001b[0;34m,\u001b[0m\u001b[0mchoice\u001b[0m\u001b[0;34m(\u001b[0m\u001b[0mparents\u001b[0m\u001b[0;34m)\u001b[0m\u001b[0;34m)\u001b[0m\u001b[0;34m)\u001b[0m \u001b[0;32mfor\u001b[0m \u001b[0m_\u001b[0m \u001b[0;32min\u001b[0m \u001b[0mrange\u001b[0m\u001b[0;34m(\u001b[0m\u001b[0mpopulationSize\u001b[0m\u001b[0;34m)\u001b[0m\u001b[0;34m]\u001b[0m \u001b[0;31m# G\u001b[0m\u001b[0;34m\u001b[0m\u001b[0;34m\u001b[0m\u001b[0m\n\u001b[0m\u001b[1;32m     47\u001b[0m       \u001b[0mprint\u001b[0m\u001b[0;34m(\u001b[0m\u001b[0;34m\"population:\"\u001b[0m\u001b[0;34m,\u001b[0m\u001b[0mpopulation\u001b[0m\u001b[0;34m)\u001b[0m\u001b[0;34m\u001b[0m\u001b[0;34m\u001b[0m\u001b[0m\n\u001b[1;32m     48\u001b[0m \u001b[0;34m\u001b[0m\u001b[0m\n",
            "\u001b[0;32m<ipython-input-401-0f82a35d788c>\u001b[0m in \u001b[0;36m<listcomp>\u001b[0;34m(.0)\u001b[0m\n\u001b[1;32m     44\u001b[0m       \u001b[0mpopulation\u001b[0m\u001b[0;34m.\u001b[0m\u001b[0msort\u001b[0m\u001b[0;34m(\u001b[0m\u001b[0mkey\u001b[0m\u001b[0;34m=\u001b[0m\u001b[0mfitness\u001b[0m\u001b[0;34m,\u001b[0m \u001b[0mreverse\u001b[0m\u001b[0;34m=\u001b[0m\u001b[0;32mTrue\u001b[0m\u001b[0;34m)\u001b[0m\u001b[0;34m\u001b[0m\u001b[0;34m\u001b[0m\u001b[0m\n\u001b[1;32m     45\u001b[0m       \u001b[0mparents\u001b[0m \u001b[0;34m=\u001b[0m \u001b[0mpopulation\u001b[0m\u001b[0;34m[\u001b[0m\u001b[0;34m:\u001b[0m\u001b[0;36m10\u001b[0m\u001b[0;34m]\u001b[0m \u001b[0;31m# ---> top 10 candidates\u001b[0m\u001b[0;34m\u001b[0m\u001b[0;34m\u001b[0m\u001b[0m\n\u001b[0;32m---> 46\u001b[0;31m       \u001b[0mpopulation\u001b[0m \u001b[0;34m=\u001b[0m \u001b[0;34m[\u001b[0m\u001b[0mmutate\u001b[0m\u001b[0;34m(\u001b[0m\u001b[0mcrossover\u001b[0m\u001b[0;34m(\u001b[0m\u001b[0mchoice\u001b[0m\u001b[0;34m(\u001b[0m\u001b[0mparents\u001b[0m\u001b[0;34m)\u001b[0m\u001b[0;34m,\u001b[0m\u001b[0mchoice\u001b[0m\u001b[0;34m(\u001b[0m\u001b[0mparents\u001b[0m\u001b[0;34m)\u001b[0m\u001b[0;34m)\u001b[0m\u001b[0;34m)\u001b[0m \u001b[0;32mfor\u001b[0m \u001b[0m_\u001b[0m \u001b[0;32min\u001b[0m \u001b[0mrange\u001b[0m\u001b[0;34m(\u001b[0m\u001b[0mpopulationSize\u001b[0m\u001b[0;34m)\u001b[0m\u001b[0;34m]\u001b[0m \u001b[0;31m# G\u001b[0m\u001b[0;34m\u001b[0m\u001b[0;34m\u001b[0m\u001b[0m\n\u001b[0m\u001b[1;32m     47\u001b[0m       \u001b[0mprint\u001b[0m\u001b[0;34m(\u001b[0m\u001b[0;34m\"population:\"\u001b[0m\u001b[0;34m,\u001b[0m\u001b[0mpopulation\u001b[0m\u001b[0;34m)\u001b[0m\u001b[0;34m\u001b[0m\u001b[0;34m\u001b[0m\u001b[0m\n\u001b[1;32m     48\u001b[0m \u001b[0;34m\u001b[0m\u001b[0m\n",
            "\u001b[0;32m<ipython-input-400-1037cfe1d51f>\u001b[0m in \u001b[0;36mmutate\u001b[0;34m(example)\u001b[0m\n\u001b[1;32m      2\u001b[0m \u001b[0;32mdef\u001b[0m \u001b[0mmutate\u001b[0m\u001b[0;34m(\u001b[0m\u001b[0mexample\u001b[0m\u001b[0;34m)\u001b[0m\u001b[0;34m:\u001b[0m\u001b[0;34m\u001b[0m\u001b[0;34m\u001b[0m\u001b[0m\n\u001b[1;32m      3\u001b[0m   \u001b[0;32mif\u001b[0m \u001b[0mMHcondition\u001b[0m\u001b[0;34m(\u001b[0m\u001b[0mexample\u001b[0m\u001b[0;34m)\u001b[0m \u001b[0;34m==\u001b[0m \u001b[0;32mTrue\u001b[0m\u001b[0;34m:\u001b[0m\u001b[0;34m\u001b[0m\u001b[0;34m\u001b[0m\u001b[0m\n\u001b[0;32m----> 4\u001b[0;31m     \u001b[0mswitch\u001b[0m \u001b[0;34m=\u001b[0m \u001b[0mgetSwitch\u001b[0m\u001b[0;34m(\u001b[0m\u001b[0mexample\u001b[0m\u001b[0;34m)\u001b[0m\u001b[0;34m\u001b[0m\u001b[0;34m\u001b[0m\u001b[0m\n\u001b[0m\u001b[1;32m      5\u001b[0m     \u001b[0;32mif\u001b[0m \u001b[0many\u001b[0m\u001b[0;34m(\u001b[0m\u001b[0misinstance\u001b[0m\u001b[0;34m(\u001b[0m\u001b[0mi\u001b[0m\u001b[0;34m,\u001b[0m \u001b[0mlist\u001b[0m\u001b[0;34m)\u001b[0m \u001b[0;32mfor\u001b[0m \u001b[0mi\u001b[0m \u001b[0;32min\u001b[0m \u001b[0mswitch\u001b[0m\u001b[0;34m)\u001b[0m\u001b[0;34m:\u001b[0m \u001b[0;31m# if switch is a nested list (it is once everytime for some reason & this breaks the genetic alg) then retrieve the string value\u001b[0m\u001b[0;34m\u001b[0m\u001b[0;34m\u001b[0m\u001b[0m\n\u001b[1;32m      6\u001b[0m       \u001b[0mswitch\u001b[0m \u001b[0;34m=\u001b[0m \u001b[0mswitch\u001b[0m\u001b[0;34m[\u001b[0m\u001b[0;36m0\u001b[0m\u001b[0;34m]\u001b[0m\u001b[0;34m\u001b[0m\u001b[0;34m\u001b[0m\u001b[0m\n",
            "\u001b[0;32m<ipython-input-395-7fff17d1ad9e>\u001b[0m in \u001b[0;36mgetSwitch\u001b[0;34m(individual)\u001b[0m\n\u001b[1;32m      9\u001b[0m     \u001b[0;32melse\u001b[0m\u001b[0;34m:\u001b[0m \u001b[0;31m# this is accounting for an error I'm not sure why I have when a value is not assigned to goat despite the individual satisfying MH problem condition... Not super important because we don't care much about the goat value\u001b[0m\u001b[0;34m\u001b[0m\u001b[0;34m\u001b[0m\u001b[0m\n\u001b[1;32m     10\u001b[0m       \u001b[0mgoat\u001b[0m \u001b[0;34m=\u001b[0m \u001b[0mchoice\u001b[0m\u001b[0;34m(\u001b[0m\u001b[0mcharset\u001b[0m\u001b[0;34m)\u001b[0m\u001b[0;34m\u001b[0m\u001b[0;34m\u001b[0m\u001b[0m\n\u001b[0;32m---> 11\u001b[0;31m   \u001b[0mswitch\u001b[0m \u001b[0;34m=\u001b[0m \u001b[0mtemp\u001b[0m\u001b[0;34m[\u001b[0m\u001b[0;36m0\u001b[0m\u001b[0;34m]\u001b[0m\u001b[0;34m\u001b[0m\u001b[0;34m\u001b[0m\u001b[0m\n\u001b[0m\u001b[1;32m     12\u001b[0m   \u001b[0;32mreturn\u001b[0m \u001b[0mswitch\u001b[0m\u001b[0;34m\u001b[0m\u001b[0;34m\u001b[0m\u001b[0m\n",
            "\u001b[0;31mIndexError\u001b[0m: list index out of range"
          ]
        }
      ]
    }
  ]
}