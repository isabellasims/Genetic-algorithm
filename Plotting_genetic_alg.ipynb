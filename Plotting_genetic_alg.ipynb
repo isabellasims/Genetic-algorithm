{
  "nbformat": 4,
  "nbformat_minor": 0,
  "metadata": {
    "colab": {
      "name": "Plotting genetic alg",
      "provenance": [],
      "collapsed_sections": [],
      "toc_visible": true,
      "include_colab_link": true
    },
    "kernelspec": {
      "name": "python3",
      "display_name": "Python 3"
    }
  },
  "cells": [
    {
      "cell_type": "markdown",
      "metadata": {
        "id": "view-in-github",
        "colab_type": "text"
      },
      "source": [
        "<a href=\"https://colab.research.google.com/github/isabellasims/Genetic-algorithm/blob/master/Plotting_genetic_alg.ipynb\" target=\"_parent\"><img src=\"https://colab.research.google.com/assets/colab-badge.svg\" alt=\"Open In Colab\"/></a>"
      ]
    },
    {
      "cell_type": "code",
      "metadata": {
        "id": "zduNSwN8kL6A",
        "colab_type": "code",
        "colab": {}
      },
      "source": [
        "from random import choice, random, randint, shuffle\n",
        "import numpy as np\n",
        "import matplotlib.pyplot as plt"
      ],
      "execution_count": 0,
      "outputs": []
    },
    {
      "cell_type": "code",
      "metadata": {
        "id": "TNyFWrljkUUa",
        "colab_type": "code",
        "colab": {}
      },
      "source": [
        "charset = list(\"abcdefghijklmnopqrstuvwxyz\")\n",
        "#goal = input(\"define a 3 letter gene you wish to generate : \")\n",
        "#goal = list(goal)\n",
        "\n",
        "goal = [\"f\",\"i\",\"t\"]\n",
        "stringLength = len(goal)\n",
        "million = goal[0] "
      ],
      "execution_count": 0,
      "outputs": []
    },
    {
      "cell_type": "code",
      "metadata": {
        "id": "Hkb0bAwukeSC",
        "colab_type": "code",
        "colab": {}
      },
      "source": [
        "def MHcondition(individual):\n",
        "    counter = 0    \n",
        "    if million in individual:\n",
        "      counter += 1          \n",
        "    if counter == 1:\n",
        "      return True\n",
        "    else:\n",
        "      return False    \n",
        "    counter = 0"
      ],
      "execution_count": 0,
      "outputs": []
    },
    {
      "cell_type": "code",
      "metadata": {
        "id": "xtKTDv_qkhMZ",
        "colab_type": "code",
        "colab": {}
      },
      "source": [
        "def fitness(individual):\n",
        "  f = 0\n",
        "  \n",
        "  if MHcondition(individual) == True: \n",
        "    f +=1 # add 1 to fitness for combinations with correct condition for MH problem \n",
        "    if getSwitch(individual) == million:\n",
        "      f+=2 # add 2 to fitness when MH problem works\n",
        "  return f"
      ],
      "execution_count": 0,
      "outputs": []
    },
    {
      "cell_type": "code",
      "metadata": {
        "id": "a9PkCK34kkNX",
        "colab_type": "code",
        "colab": {}
      },
      "source": [
        "def isGoal(individual):  \n",
        "  if individual == goal:\n",
        "    return True"
      ],
      "execution_count": 0,
      "outputs": []
    },
    {
      "cell_type": "code",
      "metadata": {
        "id": "GZSJR-O6kw09",
        "colab_type": "code",
        "colab": {}
      },
      "source": [
        "def getSwitch(individual): \n",
        "  temp = individual\n",
        "  pick = choice(temp)\n",
        "  temp.remove(pick) # remove the random choice \n",
        "  for char in temp:\n",
        "    if char!= million:\n",
        "      goat = char\n",
        "      temp.remove(goat)\n",
        "    else: # this is accounting for an error I'm not sure why I have when a value is not assigned to goat despite the individual satisfying MH problem condition... Not super important because we don't care much about the goat value\n",
        "      goat = choice(charset) \n",
        "  switch = temp\n",
        "  #switch = np.array(switch,ndmin = 1) # fixes switch issue     \n",
        "  return switch"
      ],
      "execution_count": 0,
      "outputs": []
    },
    {
      "cell_type": "code",
      "metadata": {
        "id": "s2YYxyNztF8j",
        "colab_type": "code",
        "colab": {
          "base_uri": "https://localhost:8080/",
          "height": 51
        },
        "outputId": "ca893c31-a47a-4665-f457-556b7373d095"
      },
      "source": [
        "print(getSwitch([\"f\",\"o\",\"h\"]))\n",
        "print(getSwitch([\"p\",\"o\",\"h\"]))"
      ],
      "execution_count": 1480,
      "outputs": [
        {
          "output_type": "stream",
          "text": [
            "['h']\n",
            "['o']\n"
          ],
          "name": "stdout"
        }
      ]
    },
    {
      "cell_type": "code",
      "metadata": {
        "id": "lQKrOk3hldtb",
        "colab_type": "code",
        "colab": {}
      },
      "source": [
        "populationSize = 50\n",
        "stringLength = 3\n",
        "population = []\n",
        "def makeContests():\n",
        "  contestants = [[choice(charset) for _ in range(stringLength)] for _ in range(populationSize)]\n",
        "  #print(\"contestants\" ,contestants)\n",
        "  return contestants"
      ],
      "execution_count": 0,
      "outputs": []
    },
    {
      "cell_type": "code",
      "metadata": {
        "id": "JK8c9fmrlSQ6",
        "colab_type": "code",
        "colab": {}
      },
      "source": [
        "doors = []\n",
        "goatDoors = []\n",
        "def mhProblem(contestants):\n",
        "    goat = ''\n",
        "    pick = ''\n",
        "    temp = ''   \n",
        "    evolvedTemp = []  \n",
        "\n",
        "    for i in contestants:       \n",
        "      if MHcondition(i): \n",
        "        for j in i:\n",
        "          evolvedTemp.append(j)         \n",
        "        temp = i              \n",
        "        switch = getSwitch(temp) \n",
        "        switch = np.array(switch,ndmin = 1) # fixes switch issue     \n",
        "        #print(\"switch\" , switch[0])\n",
        "        evolvedTemp.remove(switch[0])\n",
        "        evolvedTemp.insert(0, switch[0])\n",
        "        doors.append(evolvedTemp)\n",
        "        evolvedTemp = []\n",
        "      else: \n",
        "        goatDoors.append(i) \n",
        "    return doors"
      ],
      "execution_count": 0,
      "outputs": []
    },
    {
      "cell_type": "code",
      "metadata": {
        "id": "B1v5YCjhlgF7",
        "colab_type": "code",
        "colab": {}
      },
      "source": [
        "# contestants = makeContests()\n",
        "# print(\"contestants\" , contestants)\n",
        "# Doors = mhProblem(contestants)\n",
        "# print(\"MH solved\" , Doors, \"Eligable for MH: \" , len(Doors))\n",
        "# population = Doors\n",
        "# population.extend(goatDoors)\n",
        "# print(population)\n",
        "\n",
        "\n",
        "\n",
        "#ndmin : int, optional"
      ],
      "execution_count": 0,
      "outputs": []
    },
    {
      "cell_type": "code",
      "metadata": {
        "id": "rt0Qe7TDHP0Q",
        "colab_type": "code",
        "colab": {}
      },
      "source": [
        "mutationRate = .1\n",
        "def mutate(example):\n",
        "  if MHcondition(example) == True:\n",
        "    switch = getSwitch(example) \n",
        "    if len(switch) == 0: # Filtering out empty switch values\n",
        "      genebank = [goal[0],choice(charset),choice(charset)] \n",
        "      return genebank\n",
        "    switch = switch[0]\n",
        "    genebank = [switch,choice(charset),choice(charset)] # idea is you put the switched value in here and try again for the rest try for another goal value bc MH condition should make you 2/3 sure that the switch is there]  \n",
        "    return genebank\n",
        "  else: # if the condition is not true here, force satisfy MH condition at first index if mutation \n",
        "    genebank = [goal[0],choice(charset),choice(charset)] \n",
        "    return genebank\n",
        "def crossover(parent1, parent2): \n",
        "  combine = parent1 + parent2\n",
        "  shuffle(combine)\n",
        "  return combine[:3]"
      ],
      "execution_count": 0,
      "outputs": []
    },
    {
      "cell_type": "code",
      "metadata": {
        "id": "NI5pCDYeQe1V",
        "colab_type": "code",
        "colab": {
          "base_uri": "https://localhost:8080/",
          "height": 69
        },
        "outputId": "5864e24a-c9ad-46ca-d79d-fe6f625b663b"
      },
      "source": [
        "print(mutate(['a','b','c']))\n",
        "print(mutate(['f','b','c']))\n",
        "print(crossover(mutate(['a','b','c']),mutate(['f','b','c'])))\n",
        "#print(mutate(crossover(['a','b','c']),mutate(['f','b','c'])))"
      ],
      "execution_count": 1485,
      "outputs": [
        {
          "output_type": "stream",
          "text": [
            "['f', 'v', 'k']\n",
            "['f', 'm', 'y']\n",
            "['l', 'f', 'f']\n"
          ],
          "name": "stdout"
        }
      ]
    },
    {
      "cell_type": "code",
      "metadata": {
        "id": "9odwIM7MHpkF",
        "colab_type": "code",
        "colab": {}
      },
      "source": [
        "populationSize = 50\n",
        "stringLength = 3\n",
        "x = []\n",
        "y = []\n",
        "cords = []\n",
        "\n",
        "\n",
        "\n",
        "\n",
        "def geneticAlgorithm():\n",
        "    iterations = 0   \n",
        "    #while True:  \n",
        "    populationSize = 50\n",
        "    contestants = makeContests()\n",
        "    print(contestants)\n",
        "    Doors = mhProblem(contestants)\n",
        "    population = Doors\n",
        "    population.extend(goatDoors)\n",
        "    print(\"population:\",population)\n",
        "\n",
        "    while True:\n",
        "      iterations += 1\n",
        "      #mhProblem(contestants)\n",
        "      for individual in population:\n",
        "        if (isGoal(individual)):\n",
        "          print(f\"Found gene in {iterations} iterations at index {population.index(individual)}\")\n",
        "          cords.append(x)\n",
        "          cords.append(y)\n",
        "          return individual\n",
        "\n",
        "\n",
        "      population.sort(key=fitness, reverse=True)\n",
        "      \n",
        "      parents = population[:10] # ---> top 10 candidates  \n",
        "      fittest = population[:1]\n",
        "      fittest = fittest[0] # unnesting list in order to plot and guage fitness\n",
        "   \n",
        "   \n",
        "      x.append(iterations) \n",
        "      y.append(fitness(fittest))  \n",
        "      population = [mutate(crossover(choice(parents),choice(parents))) for _ in range(populationSize)] # G\n",
        "      for i in population: # final filter on population\n",
        "        if len(i) != 3:\n",
        "          population.pop(i)\n",
        "      print(\"population sorted:\",population)\n",
        "  \n",
        "  "
      ],
      "execution_count": 0,
      "outputs": []
    },
    {
      "cell_type": "code",
      "metadata": {
        "id": "9SrUCltaHwUL",
        "colab_type": "code",
        "colab": {
          "base_uri": "https://localhost:8080/",
          "height": 331
        },
        "outputId": "856b2982-b3a9-4a30-e4e7-09e57174c188"
      },
      "source": [
        "geneticAlgorithm()"
      ],
      "execution_count": 1487,
      "outputs": [
        {
          "output_type": "stream",
          "text": [
            "[['x', 'd', 'x'], ['g', 'o', 'h'], ['r', 'i', 'i'], ['i', 'w', 'a'], ['e', 'j', 'm'], ['p', 'q', 'l'], ['y', 'z', 'w'], ['t', 'o', 'c'], ['f', 'r', 'f'], ['f', 'w', 'e'], ['j', 'e', 'z'], ['v', 'w', 'r'], ['c', 'z', 'j'], ['a', 'b', 'b'], ['i', 'c', 'z'], ['r', 'u', 'j'], ['b', 'n', 'f'], ['o', 't', 'd'], ['k', 'q', 'g'], ['l', 'e', 'i'], ['j', 'r', 'p'], ['p', 'd', 'a'], ['i', 'g', 'd'], ['e', 'h', 'y'], ['l', 'y', 'j'], ['j', 'i', 't'], ['i', 'g', 'g'], ['w', 's', 'f'], ['z', 'y', 'n'], ['l', 'z', 'i'], ['o', 'n', 'e'], ['m', 'm', 'h'], ['k', 'c', 'n'], ['f', 'f', 'u'], ['i', 'o', 'q'], ['d', 'g', 'h'], ['m', 'r', 'n'], ['h', 'h', 'a'], ['b', 'e', 'z'], ['w', 'c', 'p'], ['i', 'x', 'z'], ['c', 'z', 'p'], ['g', 'c', 'k'], ['r', 'x', 'o'], ['p', 'e', 'r'], ['k', 'l', 'r'], ['o', 't', 'y'], ['x', 'f', 'j'], ['n', 'g', 'd'], ['o', 'x', 'x']]\n",
            "population: [['f', 'r', 'f'], ['e', 'f', 'w'], ['n', 'b', 'f'], ['f', 'w', 's'], ['f', 'f', 'u'], ['j', 'x', 'f'], ['x', 'd', 'x'], ['g', 'o', 'h'], ['r', 'i', 'i'], ['i', 'w', 'a'], ['e', 'j', 'm'], ['p', 'q', 'l'], ['y', 'z', 'w'], ['t', 'o', 'c'], ['j', 'e', 'z'], ['v', 'w', 'r'], ['c', 'z', 'j'], ['a', 'b', 'b'], ['i', 'c', 'z'], ['r', 'u', 'j'], ['o', 't', 'd'], ['k', 'q', 'g'], ['l', 'e', 'i'], ['j', 'r', 'p'], ['p', 'd', 'a'], ['i', 'g', 'd'], ['e', 'h', 'y'], ['l', 'y', 'j'], ['j', 'i', 't'], ['i', 'g', 'g'], ['z', 'y', 'n'], ['l', 'z', 'i'], ['o', 'n', 'e'], ['m', 'm', 'h'], ['k', 'c', 'n'], ['i', 'o', 'q'], ['d', 'g', 'h'], ['m', 'r', 'n'], ['h', 'h', 'a'], ['b', 'e', 'z'], ['w', 'c', 'p'], ['i', 'x', 'z'], ['c', 'z', 'p'], ['g', 'c', 'k'], ['r', 'x', 'o'], ['p', 'e', 'r'], ['k', 'l', 'r'], ['o', 't', 'y'], ['n', 'g', 'd'], ['o', 'x', 'x']]\n",
            "population sorted: [['f', 'q', 'e'], ['f', 'z', 't'], ['f', 'q', 't'], ['f', 'w', 'w'], ['f', 'e', 'm'], ['f', 'o', 'c'], ['f', 's', 'j'], ['f', 'u', 'v'], ['f', 't', 'f'], ['f', 'f', 'f'], ['i', 'w', 'v'], ['i', 'i', 'z'], ['h', 's', 'k'], ['f', 'i', 'l'], ['f', 'g', 'l'], ['f', 'i', 'm'], ['f', 'l', 'w'], ['f', 'c', 'c'], ['f', 'a', 'j'], ['f', 'c', 'v'], ['f', 'c', 'p'], ['f', 'd', 'o'], ['f', 'd', 't'], ['f', 'j', 'n'], ['f', 'x', 'h'], ['f', 'e', 'x'], ['f', 'u', 'i'], ['f', 'c', 'p'], ['f', 'o', 's'], ['f', 'b', 'a'], ['f', 'u', 'x'], ['f', 'a', 'h'], ['f', 'f', 'w'], ['f', 'v', 'i'], ['f', 'k', 's'], ['f', 'j', 'y'], ['h', 'j', 'b'], ['r', 'g', 'h'], ['f', 'y', 'v'], ['f', 'k', 'i'], ['f', 'i', 'u'], ['f', 'v', 'u'], ['r', 'o', 'x'], ['f', 'n', 'c'], ['f', 'r', 'c'], ['f', 'f', 'u'], ['f', 'f', 'v'], ['f', 'a', 'h'], ['i', 'n', 's'], ['f', 'k', 'r']]\n",
            "population sorted: [['f', 'o', 'o'], ['f', 'n', 'h'], ['f', 'o', 'q'], ['f', 'z', 'b'], ['f', 'o', 'o'], ['f', 'y', 'm'], ['f', 'j', 'w'], ['f', 'a', 'v'], ['f', 'q', 'v'], ['f', 'h', 'z'], ['f', 'h', 'm'], ['f', 'o', 'j'], ['f', 'h', 'q'], ['f', 'g', 'm'], ['f', 's', 'o'], ['f', 'e', 'q'], ['f', 'q', 'g'], ['f', 'o', 's'], ['f', 'f', 'd'], ['f', 'z', 'i'], ['f', 's', 'z'], ['f', 'h', 'b'], ['f', 'g', 'r'], ['f', 'j', 'o'], ['f', 'n', 'g'], ['f', 'r', 'e'], ['f', 'n', 'j'], ['f', 'i', 'g'], ['f', 'q', 'd'], ['f', 'z', 'm'], ['f', 'e', 'b'], ['f', 'i', 'z'], ['f', 'g', 'i'], ['f', 'd', 's'], ['f', 'q', 't'], ['f', 'k', 'j'], ['f', 'c', 'p'], ['f', 'm', 'n'], ['f', 'x', 'x'], ['f', 'w', 'a'], ['f', 'i', 'p'], ['f', 'm', 'r'], ['f', 'j', 'p'], ['f', 'v', 'q'], ['f', 'b', 'z'], ['f', 'k', 'j'], ['f', 'j', 'i'], ['f', 'v', 'n'], ['f', 'g', 'j'], ['f', 'h', 'v']]\n",
            "population sorted: [['f', 'p', 'g'], ['f', 'w', 'a'], ['f', 'p', 'f'], ['f', 'h', 'q'], ['f', 'd', 'o'], ['f', 'g', 'h'], ['f', 'v', 'e'], ['f', 'g', 'l'], ['f', 'y', 'f'], ['f', 'j', 'v'], ['f', 'g', 'b'], ['f', 'u', 'f'], ['f', 'a', 'y'], ['f', 'o', 'w'], ['f', 'k', 'u'], ['f', 't', 't'], ['f', 'z', 'i'], ['f', 'x', 'q'], ['f', 'l', 'b'], ['f', 'b', 'n'], ['f', 'o', 'x'], ['f', 'b', 'c'], ['f', 'u', 'a'], ['f', 'h', 'w'], ['f', 'b', 's'], ['f', 'g', 'f'], ['f', 'w', 'u'], ['f', 'o', 'n'], ['f', 'p', 'p'], ['f', 'w', 'p'], ['f', 'g', 't'], ['f', 'w', 'x'], ['f', 'o', 'j'], ['f', 'p', 'n'], ['f', 'd', 'n'], ['f', 'f', 'x'], ['f', 'a', 'a'], ['f', 'n', 'v'], ['f', 'w', 'q'], ['f', 'd', 'n'], ['f', 'g', 'i'], ['f', 'h', 's'], ['f', 'c', 'w'], ['f', 'j', 'c'], ['f', 'g', 'i'], ['f', 'c', 'w'], ['f', 'r', 'f'], ['f', 'i', 'u'], ['f', 'o', 'o'], ['f', 'u', 'd']]\n",
            "population sorted: [['f', 'q', 'q'], ['f', 't', 'm'], ['f', 'e', 'e'], ['f', 'm', 'j'], ['f', 'i', 'r'], ['f', 'u', 'b'], ['f', 'v', 'v'], ['f', 'v', 'i'], ['f', 'q', 't'], ['f', 'q', 'n'], ['f', 'b', 'm'], ['f', 'a', 'l'], ['f', 'l', 'r'], ['f', 'x', 'n'], ['f', 'h', 'e'], ['f', 'z', 'i'], ['f', 'k', 'd'], ['f', 'u', 't'], ['f', 'c', 'v'], ['f', 'v', 'm'], ['f', 'l', 'z'], ['f', 't', 'q'], ['f', 'b', 'o'], ['f', 'j', 'u'], ['f', 't', 'h'], ['f', 'e', 'j'], ['f', 'x', 'g'], ['f', 'r', 'w'], ['f', 'i', 'f'], ['f', 'd', 'f'], ['f', 's', 'c'], ['f', 'x', 'e'], ['f', 'h', 'j'], ['f', 'f', 'm'], ['f', 'u', 'e'], ['f', 'h', 'm'], ['f', 'h', 'c'], ['f', 'x', 'm'], ['f', 'a', 'u'], ['f', 'z', 'm'], ['f', 'z', 'k'], ['f', 'z', 'n'], ['f', 'g', 'd'], ['f', 'w', 'y'], ['f', 'p', 'k'], ['f', 'r', 'f'], ['f', 'e', 'm'], ['f', 'a', 's'], ['f', 'p', 'v'], ['f', 'x', 'x']]\n",
            "population sorted: [['f', 'l', 'e'], ['f', 'a', 'f'], ['f', 'i', 'w'], ['f', 'd', 'm'], ['f', 'i', 'w'], ['f', 's', 'u'], ['f', 'r', 'f'], ['f', 'w', 'n'], ['f', 'd', 'b'], ['f', 'z', 'y'], ['f', 'k', 'h'], ['f', 'a', 'c'], ['f', 'q', 'w'], ['f', 'q', 'd'], ['f', 'c', 'v'], ['f', 'v', 'g'], ['f', 'h', 'e'], ['f', 'f', 'j'], ['f', 'g', 'j'], ['f', 'a', 'y'], ['f', 'd', 'q'], ['f', 'x', 'r'], ['f', 'i', 'd'], ['f', 'u', 's'], ['f', 'u', 'f'], ['f', 'f', 'f'], ['f', 'b', 'v'], ['f', 'j', 'p'], ['f', 's', 'l'], ['f', 'i', 'w'], ['f', 'j', 'k'], ['f', 'u', 'y'], ['f', 'x', 'w'], ['f', 'p', 'x'], ['f', 'd', 'p'], ['f', 'q', 's'], ['f', 'l', 'f'], ['f', 'r', 'r'], ['f', 'w', 'q'], ['f', 'e', 'f'], ['f', 't', 'd'], ['f', 'b', 'k'], ['f', 'd', 'e'], ['f', 'q', 'u'], ['f', 'z', 'x'], ['f', 'a', 'x'], ['f', 'e', 'l'], ['f', 'l', 'p'], ['f', 'r', 'f'], ['f', 'h', 'j']]\n",
            "population sorted: [['f', 'h', 'j'], ['f', 'n', 'c'], ['f', 'p', 'd'], ['f', 'i', 'e'], ['f', 'z', 't'], ['f', 's', 't'], ['f', 'r', 'g'], ['f', 'b', 'm'], ['f', 'g', 'p'], ['f', 's', 'j'], ['f', 'p', 'j'], ['f', 'p', 'y'], ['f', 'j', 'h'], ['f', 'd', 'h'], ['f', 'd', 'q'], ['f', 'z', 'u'], ['f', 'j', 'v'], ['f', 'x', 'c'], ['f', 'u', 'i'], ['f', 'b', 'w'], ['f', 'x', 'k'], ['f', 's', 'b'], ['f', 'p', 'd'], ['f', 'd', 'g'], ['f', 'p', 'p'], ['f', 'g', 'x'], ['f', 't', 'l'], ['f', 'o', 'q'], ['f', 'g', 'h'], ['f', 'l', 'q'], ['f', 'x', 'c'], ['f', 'r', 'a'], ['f', 'z', 'i'], ['f', 'e', 'w'], ['f', 'k', 'd'], ['f', 'v', 'g'], ['f', 'e', 'v'], ['f', 'q', 'w'], ['f', 'j', 'b'], ['f', 's', 'w'], ['f', 'q', 'n'], ['f', 'e', 'x'], ['f', 'q', 'x'], ['f', 'e', 'k'], ['f', 'g', 'x'], ['f', 'e', 'u'], ['f', 'v', 'g'], ['f', 'h', 'j'], ['f', 'h', 'u'], ['f', 'u', 'c']]\n",
            "population sorted: [['f', 's', 'e'], ['f', 'r', 'm'], ['f', 'j', 'a'], ['f', 'h', 'm'], ['f', 'k', 'v'], ['f', 'l', 'b'], ['f', 'y', 'm'], ['f', 'x', 'q'], ['f', 'm', 'l'], ['f', 'r', 's'], ['f', 'f', 'f'], ['f', 'p', 'q'], ['f', 't', 'z'], ['f', 'n', 'r'], ['f', 'r', 't'], ['f', 'q', 'y'], ['f', 'e', 'o'], ['f', 'x', 'z'], ['f', 'k', 'y'], ['f', 's', 'm'], ['f', 'j', 't'], ['f', 'y', 'w'], ['f', 'e', 'l'], ['f', 'l', 'c'], ['f', 't', 'i'], ['f', 'o', 'p'], ['f', 'o', 'w'], ['f', 'm', 'v'], ['f', 'p', 'm'], ['f', 'v', 'o'], ['f', 'l', 'p'], ['f', 'j', 'z'], ['f', 'o', 'y'], ['f', 'f', 'q'], ['f', 'l', 'x'], ['f', 'c', 'c'], ['f', 'n', 'f'], ['f', 'x', 'd'], ['f', 'p', 'r'], ['f', 'k', 'e'], ['f', 'v', 'm'], ['f', 's', 'o'], ['f', 'v', 'a'], ['f', 'l', 'z'], ['f', 'p', 'j'], ['f', 'e', 'e'], ['f', 'v', 'z'], ['f', 'd', 'y'], ['f', 'f', 't'], ['f', 'f', 'a']]\n",
            "population sorted: [['f', 'q', 'm'], ['f', 'k', 'm'], ['f', 'o', 's'], ['f', 'g', 'v'], ['f', 'd', 'n'], ['f', 'q', 't'], ['f', 'o', 'o'], ['f', 'i', 'o'], ['f', 'b', 'a'], ['f', 'q', 'w'], ['f', 'h', 'h'], ['f', 'e', 's'], ['f', 'r', 'q'], ['f', 'o', 'r'], ['f', 'p', 'v'], ['f', 'b', 'j'], ['f', 'r', 'u'], ['f', 'r', 'n'], ['f', 'l', 'c'], ['f', 'p', 'h'], ['f', 'i', 'h'], ['f', 's', 'h'], ['f', 'y', 'q'], ['f', 't', 'm'], ['f', 'j', 'f'], ['f', 'm', 'z'], ['f', 'n', 'x'], ['f', 'g', 'y'], ['f', 'v', 'y'], ['f', 'f', 'h'], ['f', 'w', 'b'], ['f', 'h', 'z'], ['f', 'v', 's'], ['f', 'x', 's'], ['f', 'a', 'q'], ['f', 'v', 'm'], ['f', 'i', 'y'], ['f', 'a', 'c'], ['f', 'y', 'p'], ['f', 'b', 'i'], ['f', 'f', 'j'], ['f', 't', 'f'], ['f', 'q', 'k'], ['f', 's', 'd'], ['f', 'c', 'q'], ['f', 'a', 'p'], ['f', 'e', 'p'], ['f', 'i', 'j'], ['f', 't', 'l'], ['f', 's', 'b']]\n",
            "population sorted: [['f', 's', 'f'], ['f', 'i', 'c'], ['f', 'b', 's'], ['f', 'c', 'j'], ['f', 'j', 'j'], ['f', 'p', 'b'], ['f', 'r', 'o'], ['f', 'z', 'd'], ['f', 'g', 'q'], ['f', 'm', 'i'], ['f', 'y', 'x'], ['f', 'f', 'r'], ['f', 'k', 'u'], ['f', 'i', 'q'], ['f', 'z', 'j'], ['f', 'u', 'i'], ['f', 'y', 'j'], ['f', 'u', 'f'], ['f', 's', 'u'], ['f', 'i', 'o'], ['f', 's', 'r'], ['f', 'a', 'z'], ['f', 'y', 't'], ['f', 'q', 'd'], ['f', 'o', 'y'], ['f', 'b', 's'], ['f', 'g', 'e'], ['f', 'y', 'j'], ['f', 'u', 'w'], ['f', 'h', 'x'], ['f', 'j', 'w'], ['f', 'i', 'v'], ['f', 'y', 'y'], ['f', 'r', 'z'], ['f', 'x', 'n'], ['f', 'i', 'h'], ['f', 'l', 't'], ['f', 'x', 'w'], ['f', 'h', 'h'], ['f', 'k', 'v'], ['f', 'o', 'c'], ['f', 'b', 'z'], ['f', 'd', 'a'], ['f', 't', 'c'], ['f', 'c', 'b'], ['f', 'b', 'w'], ['f', 'y', 'n'], ['f', 'w', 'r'], ['f', 'q', 'a'], ['f', 'l', 'm']]\n",
            "population sorted: [['f', 'v', 'q'], ['f', 'u', 't'], ['f', 's', 'u'], ['f', 'r', 's'], ['f', 'w', 'y'], ['f', 'i', 'z'], ['f', 'u', 'f'], ['f', 'o', 'b'], ['f', 'o', 'u'], ['f', 'j', 'r'], ['f', 'u', 'y'], ['f', 'w', 'e'], ['f', 'r', 'q'], ['f', 'h', 'p'], ['f', 'l', 'q'], ['f', 'h', 'f'], ['f', 'r', 'u'], ['f', 'l', 'u'], ['f', 'g', 'f'], ['f', 'b', 'j'], ['f', 'p', 'c'], ['f', 'u', 'f'], ['f', 'v', 'r'], ['f', 'r', 'r'], ['f', 'b', 'm'], ['f', 'j', 'b'], ['f', 'b', 'c'], ['f', 'v', 'w'], ['f', 'v', 'w'], ['f', 'e', 'a'], ['f', 'j', 'z'], ['f', 'z', 'j'], ['f', 'u', 'p'], ['f', 'd', 'c'], ['f', 'k', 'y'], ['f', 'e', 'i'], ['f', 'w', 'b'], ['f', 'l', 'm'], ['f', 'e', 'r'], ['f', 't', 's'], ['f', 'k', 's'], ['f', 'y', 'j'], ['f', 'e', 'i'], ['f', 'c', 'h'], ['f', 'p', 't'], ['f', 'c', 'o'], ['f', 'w', 'n'], ['f', 'z', 'l'], ['f', 'e', 'q'], ['f', 'z', 'd']]\n",
            "population sorted: [['f', 'p', 'r'], ['f', 'j', 'q'], ['f', 'h', 'h'], ['f', 'x', 'q'], ['f', 'w', 'p'], ['f', 'a', 's'], ['f', 'y', 'x'], ['f', 'q', 'p'], ['f', 'd', 'q'], ['f', 'g', 'v'], ['f', 'p', 'b'], ['f', 's', 'b'], ['f', 'm', 'a'], ['f', 'd', 'q'], ['f', 'a', 'y'], ['f', 'o', 'm'], ['f', 'd', 'c'], ['f', 'l', 'b'], ['f', 't', 'i'], ['f', 'x', 'd'], ['f', 'a', 'x'], ['f', 'l', 'x'], ['f', 'x', 'f'], ['f', 's', 'o'], ['f', 'b', 'a'], ['f', 'v', 'f'], ['f', 'z', 'e'], ['f', 'z', 'b'], ['f', 'l', 'y'], ['f', 'b', 'l'], ['f', 'o', 'c'], ['f', 'o', 'f'], ['f', 'x', 'l'], ['f', 'q', 's'], ['f', 'j', 'b'], ['f', 'r', 'q'], ['f', 's', 'k'], ['f', 'h', 'b'], ['f', 'u', 'x'], ['f', 'k', 'w'], ['f', 'x', 'f'], ['f', 'n', 'g'], ['f', 'x', 'i'], ['f', 'n', 'c'], ['f', 'z', 'b'], ['f', 'c', 'z'], ['f', 'f', 'a'], ['f', 'x', 'b'], ['f', 'h', 'b'], ['f', 'e', 'r']]\n",
            "population sorted: [['f', 's', 'h'], ['f', 'l', 'p'], ['f', 'e', 'n'], ['f', 'l', 'q'], ['f', 'p', 'l'], ['f', 'y', 'y'], ['f', 'c', 'i'], ['f', 't', 'n'], ['f', 'u', 'n'], ['f', 'v', 'a'], ['f', 'x', 'm'], ['f', 'h', 'c'], ['f', 'g', 't'], ['f', 'h', 's'], ['f', 'h', 'z'], ['f', 'e', 's'], ['f', 's', 'o'], ['f', 'j', 'z'], ['f', 's', 'i'], ['f', 'q', 'd'], ['f', 'l', 'h'], ['f', 's', 'v'], ['f', 'u', 'q'], ['f', 'n', 'j'], ['f', 'z', 'c'], ['f', 'h', 'r'], ['f', 'e', 'h'], ['f', 'n', 'j'], ['f', 'e', 'd'], ['f', 's', 'q'], ['f', 'x', 'k'], ['f', 'i', 'y'], ['f', 'p', 'a'], ['f', 'a', 'w'], ['f', 'x', 'a'], ['f', 'v', 'f'], ['f', 'a', 'p'], ['f', 'p', 'f'], ['f', 'n', 'c'], ['f', 'b', 'z'], ['f', 'r', 'l'], ['f', 'i', 'n'], ['f', 'i', 'k'], ['f', 'b', 'l'], ['f', 's', 'h'], ['f', 'x', 'h'], ['f', 'g', 'c'], ['f', 't', 'q'], ['f', 'p', 't'], ['f', 'v', 'v']]\n",
            "population sorted: [['f', 'g', 'v'], ['f', 'm', 'v'], ['f', 'x', 'u'], ['f', 'u', 'y'], ['f', 'j', 'f'], ['f', 'h', 'q'], ['f', 'g', 'w'], ['f', 'k', 'a'], ['f', 'l', 'j'], ['f', 'w', 'z'], ['f', 'k', 'd'], ['f', 'i', 'f'], ['f', 'p', 'v'], ['f', 'u', 'h'], ['f', 'q', 'j'], ['f', 'e', 'u'], ['f', 'k', 'c'], ['f', 'j', 'z'], ['f', 's', 'y'], ['f', 'p', 'x'], ['f', 'v', 'o'], ['f', 'u', 'b'], ['f', 'r', 'v'], ['f', 'y', 'r'], ['f', 'e', 'i'], ['f', 'i', 'i'], ['f', 'i', 't'], ['f', 'q', 'l'], ['f', 'k', 't'], ['f', 'b', 'o'], ['f', 'd', 'f'], ['f', 'w', 'z'], ['f', 't', 'p'], ['f', 'z', 'c'], ['f', 'b', 'o'], ['f', 'c', 'n'], ['f', 'f', 'r'], ['f', 'p', 'j'], ['f', 'r', 'z'], ['f', 'r', 'w'], ['f', 'j', 'v'], ['f', 'e', 'f'], ['f', 'b', 'f'], ['f', 'r', 'i'], ['f', 'd', 'n'], ['f', 'c', 't'], ['f', 'o', 'f'], ['f', 'c', 'y'], ['f', 'j', 'v'], ['f', 'n', 'x']]\n",
            "Found gene in 14 iterations at index 26\n"
          ],
          "name": "stdout"
        },
        {
          "output_type": "execute_result",
          "data": {
            "text/plain": [
              "['f', 'i', 't']"
            ]
          },
          "metadata": {
            "tags": []
          },
          "execution_count": 1487
        }
      ]
    },
    {
      "cell_type": "code",
      "metadata": {
        "id": "2rcXu2uoWrjn",
        "colab_type": "code",
        "colab": {
          "base_uri": "https://localhost:8080/",
          "height": 303
        },
        "outputId": "fcae17e8-b5d7-4d12-ece4-dd7c4cd013f4"
      },
      "source": [
        "\n",
        "x = cords[0]\n",
        "y = cords[1]\n",
        "print(\"iterations\" , x)  \n",
        "print(\"most fit parent\" , y)\n",
        "plt.plot(x,y,\"o\")\n",
        "plt.show()"
      ],
      "execution_count": 1488,
      "outputs": [
        {
          "output_type": "stream",
          "text": [
            "iterations [1, 2, 3, 4, 5, 6, 7, 8, 9, 10, 11, 12, 13]\n",
            "most fit parent [1, 1, 1, 1, 0, 0, 1, 0, 1, 1, 0, 1, 1]\n"
          ],
          "name": "stdout"
        },
        {
          "output_type": "display_data",
          "data": {
            "image/png": "[encoded data removed]",
            "text/plain": [
              "<Figure size 432x288 with 1 Axes>"
            ]
          },
          "metadata": {
            "tags": []
          }
        }
      ]
    }
  ]
}