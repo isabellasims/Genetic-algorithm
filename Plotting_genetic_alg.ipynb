{
  "nbformat": 4,
  "nbformat_minor": 0,
  "metadata": {
    "colab": {
      "name": "Plotting genetic alg",
      "provenance": [],
      "collapsed_sections": [],
      "toc_visible": true,
      "include_colab_link": true
    },
    "kernelspec": {
      "name": "python3",
      "display_name": "Python 3"
    }
  },
  "cells": [
    {
      "cell_type": "markdown",
      "metadata": {
        "id": "view-in-github",
        "colab_type": "text"
      },
      "source": [
        "<a href=\"https://colab.research.google.com/github/isabellasims/Genetic-algorithm/blob/master/Plotting_genetic_alg.ipynb\" target=\"_parent\"><img src=\"https://colab.research.google.com/assets/colab-badge.svg\" alt=\"Open In Colab\"/></a>"
      ]
    },
    {
      "cell_type": "code",
      "metadata": {
        "id": "zduNSwN8kL6A",
        "colab_type": "code",
        "colab": {}
      },
      "source": [
        "from random import choice, random, randint, shuffle\n",
        "import numpy as np"
      ],
      "execution_count": 0,
      "outputs": []
    },
    {
      "cell_type": "code",
      "metadata": {
        "id": "TNyFWrljkUUa",
        "colab_type": "code",
        "colab": {}
      },
      "source": [
        "charset = list(\"abcdefghijklmnopqrstuvwxyz\")\n",
        "#goal = input(\"define a 3 letter gene you wish to generate : \")\n",
        "#goal = list(goal)\n",
        "\n",
        "goal = [\"f\",\"i\",\"t\"]\n",
        "stringLength = len(goal)\n",
        "million = goal[0] "
      ],
      "execution_count": 0,
      "outputs": []
    },
    {
      "cell_type": "code",
      "metadata": {
        "id": "Hkb0bAwukeSC",
        "colab_type": "code",
        "colab": {}
      },
      "source": [
        "def MHcondition(individual):\n",
        "    counter = 0    \n",
        "    if million in individual:\n",
        "      counter += 1          \n",
        "    if counter == 1:\n",
        "      return True\n",
        "    else:\n",
        "      return False    \n",
        "    counter = 0"
      ],
      "execution_count": 0,
      "outputs": []
    },
    {
      "cell_type": "code",
      "metadata": {
        "id": "xtKTDv_qkhMZ",
        "colab_type": "code",
        "colab": {}
      },
      "source": [
        "def fitness(individual):\n",
        "  f = 0\n",
        "  if MHcondition(individual) == True: \n",
        "    f +=1 # add 1 to fitness for combinations with correct condition for MH problem \n",
        "    if getSwitch(individual) == million:\n",
        "      f+=2 # add 2 to fitness when MH problem works\n",
        "  return f"
      ],
      "execution_count": 0,
      "outputs": []
    },
    {
      "cell_type": "code",
      "metadata": {
        "id": "a9PkCK34kkNX",
        "colab_type": "code",
        "colab": {}
      },
      "source": [
        "def isGoal(individual):  \n",
        "  if individual == goal:\n",
        "    return True"
      ],
      "execution_count": 0,
      "outputs": []
    },
    {
      "cell_type": "code",
      "metadata": {
        "id": "GZSJR-O6kw09",
        "colab_type": "code",
        "colab": {}
      },
      "source": [
        "def getSwitch(individual): \n",
        "  temp = individual\n",
        "  pick = choice(temp)\n",
        "  temp.remove(pick) # remove the random choice \n",
        "  for char in temp:\n",
        "    if char!= million:\n",
        "      goat = char\n",
        "      temp.remove(goat)\n",
        "    else: # this is accounting for an error I'm not sure why I have when a value is not assigned to goat despite the individual satisfying MH problem condition... Not super important because we don't care much about the goat value\n",
        "      goat = choice(charset) \n",
        "  switch = temp\n",
        "  #switch = np.array(switch,ndmin = 1) # fixes switch issue     \n",
        "  return switch"
      ],
      "execution_count": 0,
      "outputs": []
    },
    {
      "cell_type": "code",
      "metadata": {
        "id": "s2YYxyNztF8j",
        "colab_type": "code",
        "colab": {
          "base_uri": "https://localhost:8080/",
          "height": 51
        },
        "outputId": "1c6338e2-1afb-4580-a0ca-07bb629fd736"
      },
      "source": [
        "print(getSwitch([\"f\",\"o\",\"h\"]))\n",
        "print(getSwitch([\"p\",\"o\",\"h\"]))"
      ],
      "execution_count": 931,
      "outputs": [
        {
          "output_type": "stream",
          "text": [
            "['f']\n",
            "['h']\n"
          ],
          "name": "stdout"
        }
      ]
    },
    {
      "cell_type": "code",
      "metadata": {
        "id": "lQKrOk3hldtb",
        "colab_type": "code",
        "colab": {}
      },
      "source": [
        "populationSize = 50\n",
        "stringLength = 3\n",
        "population = []\n",
        "def makeContests():\n",
        "  contestants = [[choice(charset) for _ in range(stringLength)] for _ in range(populationSize)]\n",
        "  #print(\"contestants\" ,contestants)\n",
        "  return contestants"
      ],
      "execution_count": 0,
      "outputs": []
    },
    {
      "cell_type": "code",
      "metadata": {
        "id": "JK8c9fmrlSQ6",
        "colab_type": "code",
        "colab": {}
      },
      "source": [
        "doors = []\n",
        "goatDoors = []\n",
        "def mhProblem(contestants):\n",
        "    goat = ''\n",
        "    pick = ''\n",
        "    temp = ''   \n",
        "    evolvedTemp = []  \n",
        "\n",
        "    for i in contestants:       \n",
        "      if MHcondition(i): \n",
        "        for j in i:\n",
        "          evolvedTemp.append(j)         \n",
        "        temp = i              \n",
        "        switch = getSwitch(temp) \n",
        "        switch = np.array(switch,ndmin = 1) # fixes switch issue     \n",
        "        #print(\"switch\" , switch[0])\n",
        "        evolvedTemp.remove(switch[0])\n",
        "        evolvedTemp.insert(0, switch[0])\n",
        "        doors.append(evolvedTemp)\n",
        "        evolvedTemp = []\n",
        "      else: \n",
        "        goatDoors.append(i) \n",
        "    return doors"
      ],
      "execution_count": 0,
      "outputs": []
    },
    {
      "cell_type": "code",
      "metadata": {
        "id": "B1v5YCjhlgF7",
        "colab_type": "code",
        "colab": {
          "base_uri": "https://localhost:8080/",
          "height": 89
        },
        "outputId": "fe44de43-f13e-4b11-ac6b-992a13c0f43e"
      },
      "source": [
        "contestants = makeContests()\n",
        "print(\"contestants\" , contestants)\n",
        "Doors = mhProblem(contestants)\n",
        "print(\"MH solved\" , Doors, \"Eligable for MH: \" , len(Doors))\n",
        "population = Doors\n",
        "population.extend(goatDoors)\n",
        "print(population)\n",
        "\n",
        "\n",
        "\n",
        "#ndmin : int, optional"
      ],
      "execution_count": 934,
      "outputs": [
        {
          "output_type": "stream",
          "text": [
            "contestants [['x', 'r', 'y'], ['l', 'w', 'c'], ['c', 'u', 'a'], ['l', 'q', 'v'], ['t', 'k', 'j'], ['k', 'q', 'b'], ['h', 'i', 'n'], ['b', 'i', 'b'], ['i', 'j', 'z'], ['z', 'i', 'v'], ['o', 'p', 'z'], ['d', 'r', 'q'], ['f', 'p', 'f'], ['g', 'v', 'r'], ['k', 't', 'p'], ['b', 'x', 'u'], ['a', 'f', 'y'], ['a', 't', 'k'], ['g', 's', 'a'], ['v', 'c', 'n'], ['h', 'd', 'o'], ['q', 'u', 'r'], ['r', 'b', 'h'], ['c', 'q', 'z'], ['f', 'j', 'x'], ['g', 'h', 'l'], ['h', 'z', 'z'], ['d', 'j', 'e'], ['n', 'e', 'g'], ['r', 'f', 'l'], ['w', 'b', 'z'], ['t', 'u', 'h'], ['l', 'p', 'f'], ['n', 'p', 'w'], ['n', 'w', 'n'], ['v', 'y', 'e'], ['f', 'x', 'n'], ['y', 'o', 'f'], ['b', 'j', 'u'], ['j', 'e', 'x'], ['u', 'r', 'm'], ['l', 'y', 'd'], ['u', 'm', 'n'], ['z', 'a', 't'], ['z', 'r', 'y'], ['s', 'c', 't'], ['d', 'a', 'j'], ['q', 'x', 'i'], ['u', 'd', 'c'], ['m', 'n', 'j']]\n",
            "MH solved [['f', 'p', 'f'], ['f', 'a', 'y'], ['f', 'j', 'x'], ['f', 'r', 'l'], ['p', 'l', 'f'], ['n', 'f', 'x'], ['f', 'y', 'o']] Eligable for MH:  7\n",
            "[['f', 'p', 'f'], ['f', 'a', 'y'], ['f', 'j', 'x'], ['f', 'r', 'l'], ['p', 'l', 'f'], ['n', 'f', 'x'], ['f', 'y', 'o'], ['x', 'r', 'y'], ['l', 'w', 'c'], ['c', 'u', 'a'], ['l', 'q', 'v'], ['t', 'k', 'j'], ['k', 'q', 'b'], ['h', 'i', 'n'], ['b', 'i', 'b'], ['i', 'j', 'z'], ['z', 'i', 'v'], ['o', 'p', 'z'], ['d', 'r', 'q'], ['g', 'v', 'r'], ['k', 't', 'p'], ['b', 'x', 'u'], ['a', 't', 'k'], ['g', 's', 'a'], ['v', 'c', 'n'], ['h', 'd', 'o'], ['q', 'u', 'r'], ['r', 'b', 'h'], ['c', 'q', 'z'], ['g', 'h', 'l'], ['h', 'z', 'z'], ['d', 'j', 'e'], ['n', 'e', 'g'], ['w', 'b', 'z'], ['t', 'u', 'h'], ['n', 'p', 'w'], ['n', 'w', 'n'], ['v', 'y', 'e'], ['b', 'j', 'u'], ['j', 'e', 'x'], ['u', 'r', 'm'], ['l', 'y', 'd'], ['u', 'm', 'n'], ['z', 'a', 't'], ['z', 'r', 'y'], ['s', 'c', 't'], ['d', 'a', 'j'], ['q', 'x', 'i'], ['u', 'd', 'c'], ['m', 'n', 'j']]\n"
          ],
          "name": "stdout"
        }
      ]
    },
    {
      "cell_type": "code",
      "metadata": {
        "id": "rt0Qe7TDHP0Q",
        "colab_type": "code",
        "colab": {}
      },
      "source": [
        "mutationRate = .1\n",
        "def mutate(example):\n",
        "  if MHcondition(example) == True:\n",
        "    switch = getSwitch(example) \n",
        "    if len(switch) == 0: # Filtering out empty switch values\n",
        "      genebank = [goal[0],choice(charset),choice(charset)] \n",
        "      return genebank\n",
        "    switch = switch[0]\n",
        "    genebank = [switch,choice(charset),choice(charset)] # idea is you put the switched value in here and try again for the rest try for another goal value bc MH condition should make you 2/3 sure that the switch is there]  \n",
        "    return genebank\n",
        "  else: # if the condition is not true here, force satisfy MH condition at first index if mutation \n",
        "    genebank = [goal[0],choice(charset),choice(charset)] \n",
        "    return genebank\n",
        "def crossover(parent1, parent2): \n",
        "  combine = parent1 + parent2\n",
        "  shuffle(combine)\n",
        "  return combine[:3]"
      ],
      "execution_count": 0,
      "outputs": []
    },
    {
      "cell_type": "code",
      "metadata": {
        "id": "NI5pCDYeQe1V",
        "colab_type": "code",
        "colab": {
          "base_uri": "https://localhost:8080/",
          "height": 51
        },
        "outputId": "0d996053-eed5-4472-8f0b-6edcc3ced5aa"
      },
      "source": [
        "print(mutate(['a','b','c']))\n",
        "print(mutate(['f','b','c']))"
      ],
      "execution_count": 936,
      "outputs": [
        {
          "output_type": "stream",
          "text": [
            "['f', 'u', 'd']\n",
            "['f', 'v', 'j']\n"
          ],
          "name": "stdout"
        }
      ]
    },
    {
      "cell_type": "code",
      "metadata": {
        "id": "9odwIM7MHpkF",
        "colab_type": "code",
        "colab": {}
      },
      "source": [
        "populationSize = 50\n",
        "stringLength = 3\n",
        "x = []\n",
        "y = []\n",
        "cords = []\n",
        "\n",
        "\n",
        "\n",
        "def geneticAlgorithm():\n",
        "    iterations = 0   \n",
        "    #while True:  \n",
        "    populationSize = 50\n",
        "    contestants = makeContests()\n",
        "    print(contestants)\n",
        "    Doors = mhProblem(contestants)\n",
        "    population = Doors\n",
        "    population.extend(goatDoors)\n",
        "    print(\"population:\",population)\n",
        "\n",
        "    while True:\n",
        "      iterations += 1\n",
        "      #mhProblem(contestants)\n",
        "      for individual in population:\n",
        "        if (isGoal(individual)):\n",
        "          print(f\"Found gene in {iterations} iterations at index {population.index(individual)}\")\n",
        "          cords.append(x)\n",
        "          cords.append(y)\n",
        "          return individual\n",
        "\n",
        "\n",
        "      population.sort(key=fitness, reverse=True)\n",
        "      \n",
        "      parents = population[:10] # ---> top 10 candidates  \n",
        "      fittest = population[:1]\n",
        "      fittest = fittest[0] # unnesting list in order to plot and guage fitness\n",
        "   \n",
        "   \n",
        "      x.append(iterations) \n",
        "      y.append(fitness(fittest))  \n",
        "      population = [mutate(crossover(choice(parents),choice(parents))) for _ in range(populationSize)] # G\n",
        "      for i in population: # final filter on population\n",
        "        if len(i) != 3:\n",
        "          population.pop(i)\n",
        "      print(\"population sorted:\",population)\n",
        "      \n",
        "    \n",
        "     \n",
        "  \n",
        "  "
      ],
      "execution_count": 0,
      "outputs": []
    },
    {
      "cell_type": "code",
      "metadata": {
        "id": "9SrUCltaHwUL",
        "colab_type": "code",
        "colab": {
          "base_uri": "https://localhost:8080/",
          "height": 158
        },
        "outputId": "d03a65d9-d9dd-4ab0-8ce0-a87352e95979"
      },
      "source": [
        "geneticAlgorithm()"
      ],
      "execution_count": 938,
      "outputs": [
        {
          "output_type": "stream",
          "text": [
            "[['v', 'y', 'g'], ['u', 'g', 'k'], ['c', 'l', 'n'], ['k', 'r', 'd'], ['i', 'd', 'n'], ['k', 'o', 't'], ['m', 'i', 'f'], ['f', 'a', 'y'], ['x', 'z', 'p'], ['q', 'j', 'v'], ['g', 'm', 'j'], ['j', 'i', 'd'], ['k', 'u', 'x'], ['z', 'g', 'l'], ['y', 'o', 'y'], ['n', 'k', 'f'], ['j', 'h', 'g'], ['y', 'v', 'o'], ['p', 'n', 'q'], ['r', 'a', 'o'], ['w', 'b', 'w'], ['q', 't', 'i'], ['c', 'h', 'q'], ['c', 'c', 'w'], ['v', 'v', 'a'], ['p', 'j', 'o'], ['h', 'b', 's'], ['n', 'k', 'i'], ['q', 'j', 'w'], ['c', 'j', 'b'], ['b', 'e', 'a'], ['l', 'y', 'e'], ['y', 'm', 't'], ['h', 'h', 'g'], ['d', 'p', 'm'], ['t', 'k', 'r'], ['j', 'h', 'b'], ['s', 'l', 'r'], ['e', 'r', 'f'], ['h', 'q', 'h'], ['w', 'a', 'n'], ['a', 'u', 'm'], ['n', 'i', 'y'], ['x', 'p', 'g'], ['u', 'j', 'j'], ['c', 'f', 's'], ['p', 'f', 'k'], ['u', 'j', 'y'], ['y', 'i', 'f'], ['u', 'j', 'o']]\n",
            "population: [['f', 'p', 'f'], ['f', 'a', 'y'], ['f', 'j', 'x'], ['f', 'r', 'l'], ['p', 'l', 'f'], ['n', 'f', 'x'], ['f', 'y', 'o'], ['x', 'r', 'y'], ['l', 'w', 'c'], ['c', 'u', 'a'], ['l', 'q', 'v'], ['t', 'k', 'j'], ['k', 'q', 'b'], ['h', 'i', 'n'], ['b', 'i', 'b'], ['i', 'j', 'z'], ['z', 'i', 'v'], ['o', 'p', 'z'], ['d', 'r', 'q'], ['g', 'v', 'r'], ['k', 't', 'p'], ['b', 'x', 'u'], ['a', 't', 'k'], ['g', 's', 'a'], ['v', 'c', 'n'], ['h', 'd', 'o'], ['q', 'u', 'r'], ['r', 'b', 'h'], ['c', 'q', 'z'], ['g', 'h', 'l'], ['h', 'z', 'z'], ['d', 'j', 'e'], ['n', 'e', 'g'], ['w', 'b', 'z'], ['t', 'u', 'h'], ['n', 'p', 'w'], ['n', 'w', 'n'], ['v', 'y', 'e'], ['b', 'j', 'u'], ['j', 'e', 'x'], ['u', 'r', 'm'], ['l', 'y', 'd'], ['u', 'm', 'n'], ['z', 'a', 't'], ['z', 'r', 'y'], ['s', 'c', 't'], ['d', 'a', 'j'], ['q', 'x', 'i'], ['u', 'd', 'c'], ['m', 'n', 'j'], ['f', 'm', 'i'], ['f', 'a', 'y'], ['f', 'n', 'k'], ['f', 'e', 'r'], ['f', 'c', 's'], ['f', 'p', 'k'], ['f', 'y', 'i'], ['x', 'r', 'y'], ['l', 'w', 'c'], ['c', 'u', 'a'], ['l', 'q', 'v'], ['t', 'k', 'j'], ['k', 'q', 'b'], ['h', 'i', 'n'], ['b', 'i', 'b'], ['i', 'j', 'z'], ['z', 'i', 'v'], ['o', 'p', 'z'], ['d', 'r', 'q'], ['g', 'v', 'r'], ['k', 't', 'p'], ['b', 'x', 'u'], ['a', 't', 'k'], ['g', 's', 'a'], ['v', 'c', 'n'], ['h', 'd', 'o'], ['q', 'u', 'r'], ['r', 'b', 'h'], ['c', 'q', 'z'], ['g', 'h', 'l'], ['h', 'z', 'z'], ['d', 'j', 'e'], ['n', 'e', 'g'], ['w', 'b', 'z'], ['t', 'u', 'h'], ['n', 'p', 'w'], ['n', 'w', 'n'], ['v', 'y', 'e'], ['b', 'j', 'u'], ['j', 'e', 'x'], ['u', 'r', 'm'], ['l', 'y', 'd'], ['u', 'm', 'n'], ['z', 'a', 't'], ['z', 'r', 'y'], ['s', 'c', 't'], ['d', 'a', 'j'], ['q', 'x', 'i'], ['u', 'd', 'c'], ['m', 'n', 'j'], ['v', 'y', 'g'], ['u', 'g', 'k'], ['c', 'l', 'n'], ['k', 'r', 'd'], ['i', 'd', 'n'], ['k', 'o', 't'], ['x', 'z', 'p'], ['q', 'j', 'v'], ['g', 'm', 'j'], ['j', 'i', 'd'], ['k', 'u', 'x'], ['z', 'g', 'l'], ['y', 'o', 'y'], ['j', 'h', 'g'], ['y', 'v', 'o'], ['p', 'n', 'q'], ['r', 'a', 'o'], ['w', 'b', 'w'], ['q', 't', 'i'], ['c', 'h', 'q'], ['c', 'c', 'w'], ['v', 'v', 'a'], ['p', 'j', 'o'], ['h', 'b', 's'], ['n', 'k', 'i'], ['q', 'j', 'w'], ['c', 'j', 'b'], ['b', 'e', 'a'], ['l', 'y', 'e'], ['y', 'm', 't'], ['h', 'h', 'g'], ['d', 'p', 'm'], ['t', 'k', 'r'], ['j', 'h', 'b'], ['s', 'l', 'r'], ['h', 'q', 'h'], ['w', 'a', 'n'], ['a', 'u', 'm'], ['n', 'i', 'y'], ['x', 'p', 'g'], ['u', 'j', 'j'], ['u', 'j', 'y'], ['u', 'j', 'o']]\n",
            "population sorted: [['f', 'w', 'q'], ['f', 'n', 'i'], ['f', 'r', 'z'], ['f', 'p', 'd'], ['f', 'v', 's'], ['f', 's', 'r'], ['f', 'm', 'l'], ['f', 'q', 'z'], ['f', 'i', 'z'], ['f', 'r', 'w'], ['f', 'd', 'p'], ['f', 'v', 'z'], ['f', 'u', 'v'], ['f', 'w', 'k'], ['f', 'n', 'v'], ['f', 'v', 't'], ['f', 'o', 'r'], ['f', 'a', 'f'], ['f', 'f', 't'], ['f', 'd', 'l'], ['f', 'o', 'g'], ['f', 'p', 'u'], ['f', 'o', 'i'], ['f', 's', 'b'], ['f', 'm', 'b'], ['f', 'h', 'p'], ['f', 'w', 'p'], ['f', 'r', 'x'], ['f', 't', 'q'], ['f', 'z', 'i'], ['f', 'z', 'z'], ['f', 't', 'c'], ['f', 'c', 'u'], ['f', 'o', 'q'], ['f', 'x', 'l'], ['f', 'e', 'y'], ['f', 'h', 'w'], ['f', 'q', 'y'], ['f', 'o', 'v'], ['f', 'l', 'f'], ['f', 'g', 'b'], ['f', 'p', 'h'], ['f', 'o', 'q'], ['f', 'i', 'y'], ['f', 'z', 'c'], ['f', 's', 'i'], ['f', 'k', 'e'], ['f', 'm', 'h'], ['f', 'p', 'k'], ['f', 'k', 'q']]\n",
            "population sorted: [['f', 'm', 'e'], ['f', 'p', 'w'], ['f', 'f', 'w'], ['f', 'b', 'y'], ['f', 'a', 'g'], ['f', 'z', 'k'], ['f', 'u', 'r'], ['f', 'o', 'i'], ['f', 'w', 'o'], ['f', 'w', 'j'], ['f', 'r', 'g'], ['f', 'u', 'f'], ['f', 'w', 'l'], ['f', 'b', 'g'], ['f', 'r', 'c'], ['f', 'j', 'd'], ['f', 'u', 'f'], ['f', 'z', 'o'], ['f', 'v', 'f'], ['f', 'a', 'h'], ['f', 'x', 'v'], ['f', 'n', 'y'], ['f', 'd', 'i'], ['f', 'c', 's'], ['f', 'v', 'g'], ['f', 'c', 's'], ['f', 'i', 'c'], ['f', 'p', 'q'], ['f', 'p', 'p'], ['f', 'u', 'e'], ['f', 'o', 't'], ['f', 'h', 'a'], ['f', 'x', 'p'], ['f', 't', 'j'], ['f', 'a', 'd'], ['f', 'v', 'r'], ['f', 'a', 'v'], ['f', 'f', 'b'], ['f', 's', 'g'], ['f', 'a', 'a'], ['f', 'b', 'f'], ['f', 'p', 'a'], ['f', 'm', 'a'], ['f', 't', 'g'], ['f', 'y', 'e'], ['f', 'o', 'n'], ['f', 'd', 'l'], ['f', 'w', 'e'], ['f', 'a', 'b'], ['f', 'j', 'q']]\n",
            "population sorted: [['f', 'e', 'r'], ['f', 'x', 'j'], ['f', 'e', 'f'], ['f', 'r', 'd'], ['f', 's', 'm'], ['f', 'u', 'u'], ['f', 'r', 'r'], ['f', 'p', 'w'], ['f', 'k', 'u'], ['f', 'r', 'c'], ['f', 'q', 'p'], ['f', 'f', 'b'], ['f', 'e', 'm'], ['f', 't', 'b'], ['f', 'a', 'g'], ['f', 'f', 'o'], ['f', 'r', 's'], ['f', 'd', 'j'], ['f', 'q', 'd'], ['f', 'e', 'k'], ['f', 'e', 'h'], ['f', 'v', 'a'], ['f', 'z', 'i'], ['f', 'b', 'k'], ['f', 'f', 's'], ['f', 'i', 't'], ['f', 'x', 'l'], ['f', 'l', 'j'], ['f', 'b', 'n'], ['f', 'v', 't'], ['f', 'k', 'c'], ['f', 'k', 'a'], ['f', 'u', 'b'], ['f', 'j', 'e'], ['f', 'f', 'a'], ['f', 'd', 'r'], ['f', 'l', 'n'], ['f', 'i', 'v'], ['f', 'm', 'c'], ['f', 'k', 'f'], ['f', 't', 'x'], ['f', 'c', 'j'], ['f', 'y', 'z'], ['f', 'n', 'h'], ['f', 'd', 't'], ['f', 'q', 'r'], ['f', 'l', 'u'], ['f', 'j', 'n'], ['f', 'c', 'u'], ['f', 'v', 'c']]\n",
            "Found gene in 4 iterations at index 25\n"
          ],
          "name": "stdout"
        },
        {
          "output_type": "execute_result",
          "data": {
            "text/plain": [
              "['f', 'i', 't']"
            ]
          },
          "metadata": {
            "tags": []
          },
          "execution_count": 938
        }
      ]
    }
  ]
}