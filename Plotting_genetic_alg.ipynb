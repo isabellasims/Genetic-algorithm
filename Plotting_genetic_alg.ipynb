{
  "nbformat": 4,
  "nbformat_minor": 0,
  "metadata": {
    "colab": {
      "name": "Plotting genetic alg",
      "provenance": [],
      "collapsed_sections": [],
      "toc_visible": true,
      "include_colab_link": true
    },
    "kernelspec": {
      "name": "python3",
      "display_name": "Python 3"
    }
  },
  "cells": [
    {
      "cell_type": "markdown",
      "metadata": {
        "id": "view-in-github",
        "colab_type": "text"
      },
      "source": [
        "<a href=\"https://colab.research.google.com/github/isabellasims/Genetic-algorithm/blob/master/Plotting_genetic_alg.ipynb\" target=\"_parent\"><img src=\"https://colab.research.google.com/assets/colab-badge.svg\" alt=\"Open In Colab\"/></a>"
      ]
    },
    {
      "cell_type": "code",
      "metadata": {
        "id": "zduNSwN8kL6A",
        "colab_type": "code",
        "colab": {}
      },
      "source": [
        "from random import choice, random, randint, shuffle"
      ],
      "execution_count": 0,
      "outputs": []
    },
    {
      "cell_type": "code",
      "metadata": {
        "id": "TNyFWrljkUUa",
        "colab_type": "code",
        "colab": {}
      },
      "source": [
        "charset = list(\"abcdefghijklmnopqrstuvwxyz\")\n",
        "#goal = input(\"define a 3 letter gene you wish to generate : \")\n",
        "#goal = list(goal)\n",
        "\n",
        "goal = [\"f\",\"i\",\"t\"]\n",
        "stringLength = len(goal)\n",
        "million = goal[0] "
      ],
      "execution_count": 0,
      "outputs": []
    },
    {
      "cell_type": "code",
      "metadata": {
        "id": "Hkb0bAwukeSC",
        "colab_type": "code",
        "colab": {}
      },
      "source": [
        "def MHcondition(individual):\n",
        "    counter = 0    \n",
        "    if million in individual:\n",
        "      counter += 1          \n",
        "    if counter == 1:\n",
        "      return True\n",
        "    else:\n",
        "      return False    \n",
        "    counter = 0"
      ],
      "execution_count": 0,
      "outputs": []
    },
    {
      "cell_type": "code",
      "metadata": {
        "id": "xtKTDv_qkhMZ",
        "colab_type": "code",
        "colab": {}
      },
      "source": [
        "def fitness(individual):\n",
        "  f = 0\n",
        "  if MHcondition(individual) == True: \n",
        "    f +=1 # add 1 to fitness for combinations with correct condition for MH problem \n",
        "    if getSwitch(individual) == million:\n",
        "      f+=2 # add 2 to fitness when MH problem works\n",
        "  return f"
      ],
      "execution_count": 0,
      "outputs": []
    },
    {
      "cell_type": "code",
      "metadata": {
        "id": "a9PkCK34kkNX",
        "colab_type": "code",
        "colab": {}
      },
      "source": [
        "def isGoal(individual):  \n",
        "  if individual == goal:\n",
        "    return True"
      ],
      "execution_count": 0,
      "outputs": []
    },
    {
      "cell_type": "code",
      "metadata": {
        "id": "GZSJR-O6kw09",
        "colab_type": "code",
        "colab": {}
      },
      "source": [
        "def getSwitch(individual): \n",
        "  temp = individual\n",
        "  pick = choice(temp)\n",
        "  temp.remove(pick) # remove the random choice \n",
        "  for char in temp:\n",
        "    if char!= million:\n",
        "      goat = char\n",
        "      temp.remove(goat)\n",
        "    else: # this is accounting for an error I'm not sure why I have when a value is not assigned to goat despite the individual satisfying MH problem condition... Not super important because we don't care much about the goat value\n",
        "      goat = choice(charset) \n",
        "  switch = temp\n",
        "  return switch"
      ],
      "execution_count": 0,
      "outputs": []
    },
    {
      "cell_type": "code",
      "metadata": {
        "id": "s2YYxyNztF8j",
        "colab_type": "code",
        "colab": {
          "base_uri": "https://localhost:8080/",
          "height": 51
        },
        "outputId": "141d1e95-c2d1-40c4-d81c-d21f40b103e6"
      },
      "source": [
        "print(getSwitch([\"f\",\"o\",\"h\"]))\n",
        "print(getSwitch([\"p\",\"o\",\"h\"]))"
      ],
      "execution_count": 211,
      "outputs": [
        {
          "output_type": "stream",
          "text": [
            "['h']\n",
            "['h']\n"
          ],
          "name": "stdout"
        }
      ]
    },
    {
      "cell_type": "markdown",
      "metadata": {
        "id": "ETWa_QwOst0i",
        "colab_type": "text"
      },
      "source": [
        "# New Section"
      ]
    },
    {
      "cell_type": "markdown",
      "metadata": {
        "id": "vNqi6-Vgs2IP",
        "colab_type": "text"
      },
      "source": [
        "# New Section"
      ]
    },
    {
      "cell_type": "code",
      "metadata": {
        "id": "H2qWAwFMk0Tx",
        "colab_type": "code",
        "colab": {
          "base_uri": "https://localhost:8080/",
          "height": 51
        },
        "outputId": "952f3cb6-4cc4-457c-b1b3-ce629043483d"
      },
      "source": [
        "print(getSwitch([\"f\",\"o\",\"h\"]))\n",
        "print(getSwitch([\"p\",\"o\",\"h\"]))"
      ],
      "execution_count": 212,
      "outputs": [
        {
          "output_type": "stream",
          "text": [
            "['h']\n",
            "['o']\n"
          ],
          "name": "stdout"
        }
      ]
    },
    {
      "cell_type": "code",
      "metadata": {
        "id": "JK8c9fmrlSQ6",
        "colab_type": "code",
        "colab": {}
      },
      "source": [
        "doors = []\n",
        "goatDoors = []\n",
        "def mhProblem(contestants):\n",
        "    goat = ''\n",
        "    pick = ''\n",
        "    temp = ''\n",
        "    \n",
        "    evolvedTemp = []\n",
        "    \n",
        "    for i in contestants:       \n",
        "      if MHcondition(i): \n",
        "        for j in i:\n",
        "          evolvedTemp.append(j)         \n",
        "        temp = i              \n",
        "        switch = getSwitch(temp)           \n",
        "        #print(\"switch\" , switch[0])\n",
        "        evolvedTemp.remove(switch[0])\n",
        "        evolvedTemp.insert(0, switch[0])\n",
        "        doors.append(evolvedTemp)\n",
        "        evolvedTemp = []\n",
        "      else: \n",
        "        goatDoors.append(i) \n",
        "    return doors"
      ],
      "execution_count": 0,
      "outputs": []
    },
    {
      "cell_type": "code",
      "metadata": {
        "id": "lQKrOk3hldtb",
        "colab_type": "code",
        "colab": {}
      },
      "source": [
        "populationSize = 50\n",
        "stringLength = 3\n",
        "population = []\n",
        "def makeContests():\n",
        "  contestants = [[choice(charset) for _ in range(stringLength)] for _ in range(populationSize)]\n",
        "  #print(\"contestants\" ,contestants)\n",
        "  return contestants"
      ],
      "execution_count": 0,
      "outputs": []
    },
    {
      "cell_type": "code",
      "metadata": {
        "id": "B1v5YCjhlgF7",
        "colab_type": "code",
        "colab": {
          "base_uri": "https://localhost:8080/",
          "height": 89
        },
        "outputId": "ea13bf9a-6a51-482f-df96-a3cb48fd5bbb"
      },
      "source": [
        "contestants = makeContests()\n",
        "print(\"contestants\" , contestants)\n",
        "Doors = mhProblem(contestants)\n",
        "print(\"MH solved\" , Doors, \"Eligable for MH: \" , len(Doors))\n",
        "population = Doors\n",
        "population.extend(goatDoors)\n",
        "print(population)"
      ],
      "execution_count": 217,
      "outputs": [
        {
          "output_type": "stream",
          "text": [
            "contestants [['e', 'v', 'b'], ['g', 'q', 'v'], ['p', 'c', 'n'], ['a', 'e', 'n'], ['n', 'a', 'h'], ['n', 'r', 'i'], ['v', 'd', 'o'], ['z', 'y', 'v'], ['l', 's', 'l'], ['r', 'r', 'z'], ['k', 'v', 'y'], ['e', 'y', 'j'], ['e', 'u', 'i'], ['o', 'l', 'p'], ['l', 'y', 'u'], ['j', 'o', 'w'], ['a', 'f', 'l'], ['z', 'i', 'k'], ['q', 'e', 'v'], ['b', 'a', 'x'], ['u', 'a', 'p'], ['a', 'o', 'd'], ['a', 'o', 'b'], ['q', 'a', 'a'], ['z', 'h', 'b'], ['g', 'v', 'r'], ['q', 'p', 'c'], ['l', 'i', 'j'], ['i', 'n', 'a'], ['t', 'u', 'a'], ['n', 'k', 'u'], ['s', 'l', 't'], ['z', 'o', 'x'], ['w', 'p', 'q'], ['m', 'l', 'j'], ['j', 'w', 'u'], ['j', 's', 'k'], ['a', 'z', 'v'], ['y', 'y', 'b'], ['v', 'k', 'i'], ['g', 'i', 'l'], ['q', 'm', 'u'], ['d', 'w', 'e'], ['n', 'j', 'v'], ['y', 'k', 'k'], ['n', 'e', 'l'], ['k', 'k', 'h'], ['v', 'k', 'g'], ['k', 'e', 't'], ['i', 'm', 'k']]\n",
            "MH solved [['f', 'w', 'g'], ['r', 'x', 'f'], ['f', 'k', 'm'], ['f', 'h', 't'], ['o', 'g', 'f'], ['l', 'a', 'f']] Eligable for MH:  6\n",
            "[['f', 'w', 'g'], ['r', 'x', 'f'], ['f', 'k', 'm'], ['f', 'h', 't'], ['o', 'g', 'f'], ['l', 'a', 'f'], ['j', 'l', 'a'], ['c', 'j', 'p'], ['n', 'a', 'z'], ['m', 'x', 'd'], ['v', 's', 'y'], ['l', 'u', 'k'], ['t', 'h', 'g'], ['n', 'u', 'k'], ['w', 'n', 't'], ['j', 's', 'r'], ['i', 'd', 'n'], ['r', 'g', 'u'], ['v', 't', 'g'], ['z', 'q', 'b'], ['g', 'c', 'v'], ['w', 'c', 'n'], ['x', 'r', 'y'], ['h', 'd', 'b'], ['z', 'e', 'm'], ['x', 'y', 'w'], ['s', 'w', 'o'], ['r', 'z', 'y'], ['k', 'm', 'b'], ['w', 'q', 'j'], ['p', 'i', 'r'], ['o', 'g', 'e'], ['z', 'l', 'v'], ['u', 'i', 'd'], ['e', 'y', 'l'], ['n', 'h', 'l'], ['r', 's', 'n'], ['m', 'q', 'h'], ['h', 'i', 'q'], ['y', 'a', 'j'], ['r', 'w', 'k'], ['d', 'v', 'm'], ['z', 'c', 'z'], ['u', 'w', 'v'], ['w', 'v', 'k'], ['o', 'r', 'p'], ['p', 'b', 'g'], ['j', 'w', 'o'], ['c', 'r', 'b'], ['y', 'v', 'b'], ['z', 'w', 'r'], ['y', 'j', 'o'], ['s', 'g', 'w'], ['e', 'u', 'l'], ['g', 'u', 'p'], ['x', 'g', 'i'], ['y', 'n', 'l'], ['l', 'g', 'q'], ['j', 't', 'm'], ['j', 'a', 'g'], ['m', 'h', 'o'], ['h', 'x', 'g'], ['l', 'q', 'o'], ['o', 'o', 'e'], ['x', 'd', 'y'], ['e', 'y', 's'], ['o', 'd', 't'], ['w', 'a', 'j'], ['x', 'i', 'b'], ['s', 'p', 'y'], ['d', 'l', 'n'], ['c', 't', 'k'], ['t', 'v', 'a'], ['t', 'o', 'b'], ['d', 'v', 'w'], ['q', 'v', 'w'], ['v', 'k', 'h'], ['z', 'q', 'w'], ['p', 'm', 'm'], ['r', 'z', 'i'], ['y', 's', 'd'], ['o', 'k', 'u'], ['q', 'm', 'n'], ['d', 'x', 't'], ['s', 'q', 'e'], ['x', 'l', 'l'], ['u', 'g', 'h'], ['s', 'w', 'o'], ['x', 'm', 'k'], ['x', 'u', 'j'], ['q', 'h', 'd'], ['k', 'j', 'y'], ['u', 'l', 't'], ['p', 'c', 'h'], ['m', 'u', 'y'], ['i', 'w', 'y'], ['p', 'h', 'c'], ['a', 'k', 'j'], ['e', 'z', 'o'], ['m', 'r', 'y'], ['y', 'k', 'k'], ['e', 'v', 'b'], ['g', 'q', 'v'], ['p', 'c', 'n'], ['a', 'e', 'n'], ['n', 'a', 'h'], ['n', 'r', 'i'], ['v', 'd', 'o'], ['z', 'y', 'v'], ['l', 's', 'l'], ['r', 'r', 'z'], ['k', 'v', 'y'], ['e', 'y', 'j'], ['e', 'u', 'i'], ['o', 'l', 'p'], ['l', 'y', 'u'], ['j', 'o', 'w'], ['z', 'i', 'k'], ['q', 'e', 'v'], ['b', 'a', 'x'], ['u', 'a', 'p'], ['a', 'o', 'd'], ['a', 'o', 'b'], ['q', 'a', 'a'], ['z', 'h', 'b'], ['g', 'v', 'r'], ['q', 'p', 'c'], ['l', 'i', 'j'], ['i', 'n', 'a'], ['t', 'u', 'a'], ['n', 'k', 'u'], ['s', 'l', 't'], ['z', 'o', 'x'], ['w', 'p', 'q'], ['m', 'l', 'j'], ['j', 'w', 'u'], ['j', 's', 'k'], ['a', 'z', 'v'], ['y', 'y', 'b'], ['v', 'k', 'i'], ['g', 'i', 'l'], ['q', 'm', 'u'], ['d', 'w', 'e'], ['n', 'j', 'v'], ['y', 'k', 'k'], ['n', 'e', 'l'], ['k', 'k', 'h'], ['v', 'k', 'g'], ['k', 'e', 't'], ['i', 'm', 'k']]\n"
          ],
          "name": "stdout"
        }
      ]
    }
  ]
}