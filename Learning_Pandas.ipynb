{
  "nbformat": 4,
  "nbformat_minor": 0,
  "metadata": {
    "colab": {
      "name": "Learning Pandas",
      "provenance": [],
      "authorship_tag": "ABX9TyNQEHt6ZaZLVjls9Oynuyvq",
      "include_colab_link": true
    },
    "kernelspec": {
      "name": "python3",
      "display_name": "Python 3"
    }
  },
  "cells": [
    {
      "cell_type": "markdown",
      "metadata": {
        "id": "view-in-github",
        "colab_type": "text"
      },
      "source": [
        "<a href=\"https://colab.research.google.com/github/isabellasims/Genetic-algorithm/blob/master/Learning_Pandas.ipynb\" target=\"_parent\"><img src=\"https://colab.research.google.com/assets/colab-badge.svg\" alt=\"Open In Colab\"/></a>"
      ]
    },
    {
      "cell_type": "code",
      "metadata": {
        "id": "gKK9XVhtFNXz",
        "colab_type": "code",
        "colab": {}
      },
      "source": [
        "#!pip install codecademylib\n",
        "import pandas as pd"
      ],
      "execution_count": 2,
      "outputs": []
    },
    {
      "cell_type": "markdown",
      "metadata": {
        "id": "hv_IR3WLFbOj",
        "colab_type": "text"
      },
      "source": [
        "Data Frame = object that stores data as rowes and columns\n",
        "  - Each column as a name which is a string \n",
        "  - Each row has an index which is an integer\n",
        "\n",
        "pd.DataFrame()\n",
        "  - you can pass in dictionaries as dfs to pd.DataFrame()\n",
        "  - keys = column names\n",
        "  - values = list of column values\n",
        "    - all columns must be the same length \n"
      ]
    },
    {
      "cell_type": "markdown",
      "metadata": {
        "id": "QKLIw0VJcZr6",
        "colab_type": "text"
      },
      "source": [
        "**creating a df with dictionary**"
      ]
    },
    {
      "cell_type": "code",
      "metadata": {
        "id": "Mx8vjA3OG9A1",
        "colab_type": "code",
        "colab": {
          "base_uri": "https://localhost:8080/",
          "height": 85
        },
        "outputId": "c1e55647-7139-498b-bcf9-71a717285f23"
      },
      "source": [
        "# creates a DataFrame called df1: \n",
        "df1 = pd.DataFrame({\n",
        "    'name': ['John Smith', 'Jane Doe', 'Joe Schmo'],\n",
        "    'address': ['123 Main St.', '456 Maple Ave.', '789 Broadway'],\n",
        "    'age': [34, 28, 51]\n",
        "})\n",
        "print(df1)\n"
      ],
      "execution_count": 3,
      "outputs": [
        {
          "output_type": "stream",
          "text": [
            "         name         address  age\n",
            "0  John Smith    123 Main St.   34\n",
            "1    Jane Doe  456 Maple Ave.   28\n",
            "2   Joe Schmo    789 Broadway   51\n"
          ],
          "name": "stdout"
        }
      ]
    },
    {
      "cell_type": "markdown",
      "metadata": {
        "id": "UF9xOFpFLmj3",
        "colab_type": "text"
      },
      "source": [
        "**Creating a df with lists**"
      ]
    },
    {
      "cell_type": "code",
      "metadata": {
        "id": "RTefd6OvciLd",
        "colab_type": "code",
        "colab": {
          "base_uri": "https://localhost:8080/",
          "height": 68
        },
        "outputId": "f9548b72-fe02-4187-e996-a8f746f0220d"
      },
      "source": [
        "#df2 = pd.DataFrame(['John',34],['Jane',38], columns=['name','age'])\n",
        "df2 = pd.DataFrame([\n",
        "    ['John Smith',34],\n",
        "    ['Jane Doe', 28]], columns=['name','age'])\n",
        "print(df2)"
      ],
      "execution_count": 13,
      "outputs": [
        {
          "output_type": "stream",
          "text": [
            "         name  age\n",
            "0  John Smith   34\n",
            "1    Jane Doe   28\n"
          ],
          "name": "stdout"
        }
      ]
    }
  ]
}