{
  "nbformat": 4,
  "nbformat_minor": 0,
  "metadata": {
    "colab": {
      "name": "Genetic algorithm for MH problem",
      "provenance": [],
      "collapsed_sections": [],
      "include_colab_link": true
    },
    "kernelspec": {
      "name": "python3",
      "display_name": "Python 3"
    }
  },
  "cells": [
    {
      "cell_type": "markdown",
      "metadata": {
        "id": "view-in-github",
        "colab_type": "text"
      },
      "source": [
        "<a href=\"https://colab.research.google.com/github/isabellasims/Genetic-algorithm/blob/master/Genetic_algorithm_for_MH_problem.ipynb\" target=\"_parent\"><img src=\"https://colab.research.google.com/assets/colab-badge.svg\" alt=\"Open In Colab\"/></a>"
      ]
    },
    {
      "cell_type": "markdown",
      "metadata": {
        "id": "RwgXZ8Ewm71R",
        "colab_type": "text"
      },
      "source": [
        "**Problem description**"
      ]
    },
    {
      "cell_type": "markdown",
      "metadata": {
        "id": "9E8wfVnfnK_t",
        "colab_type": "text"
      },
      "source": [
        "To set up a problem for evolutionary computation, we need two things: 1) a representation for the space to be searched, and 2) a fitness function telling us how close we are to our goal.\n",
        "\n",
        "For this example we'll use 10-character strings as the problem space to be searched. They are both the genome and phenotype (the genome is a string, and the output we evaluate is the same string).\n",
        "\n",
        "We'll start with a goal of finding a string of all capital letters.\n",
        "\n",
        "Comment: Obviously if we wanted an all-caps string, we know how to produce one directly. But in more complicated evolutionary problems we won't know how to generate the desired output directly. This example shows how an algorithm can find an example meeting our desired criteria purely by being given a fitness function, without knowing anything specific about how to produce solutions."
      ]
    },
    {
      "cell_type": "code",
      "metadata": {
        "id": "1f9dkZQ2c_pk",
        "colab_type": "code",
        "colab": {}
      },
      "source": [
        "from random import choice, random, randint, shuffle"
      ],
      "execution_count": 0,
      "outputs": []
    },
    {
      "cell_type": "code",
      "metadata": {
        "id": "BvsKa_dXmnTY",
        "colab_type": "code",
        "colab": {}
      },
      "source": [
        "charset = list(\"abcdefghijklmnopqrstuvwxyz\")\n",
        "#goal = input(\"define a 3 letter gene you wish to generate : \")\n",
        "goal = [\"f\",\"i\",\"t\"]\n",
        "stringLength = len(goal)\n",
        "#goal = list(goal)\n",
        "\n",
        "\n",
        "million = goal[0]\n",
        "\n",
        "\n",
        "def MHcondition(individual):\n",
        "    counter = 0    \n",
        "    if million in individual:\n",
        "      counter += 1          \n",
        "    if counter == 1:\n",
        "      return True\n",
        "    else:\n",
        "      return False    \n",
        "    counter = 0\n",
        "\n",
        "\n",
        "\n",
        "def fitness(example):\n",
        "  f = 0\n",
        "  if MHcondition(example) == True: \n",
        "    f +=1 # add 1 to fitness for combinations with correct condition for MH problem \n",
        "    if getSwitch(example) == million:\n",
        "      f+=2 # add 2 to fitness when MH problem works\n",
        "  return f\n",
        "\n",
        "def isGoal(example):\n",
        "  \n",
        "  if example == goal:\n",
        "    return True \n",
        "  "
      ],
      "execution_count": 0,
      "outputs": []
    },
    {
      "cell_type": "code",
      "metadata": {
        "id": "Cx9nc7WEffVu",
        "colab_type": "code",
        "colab": {}
      },
      "source": [
        " \n",
        "# letter (door) switched to is pushed to the front\n",
        "# apply MH problem to contestants that fit the MH condition: (must have two letters not in the goal and one in the goal  ---> goats and one million)\n",
        "# Application: this alg goes through a list of 3 characters and treats/ assigns them like doors in the monty hall problem\n",
        "# # the switch variable is the selection after the computer has chosen two switch after removal of the goat (some letter not in our goal string)\n",
        "# # # the benefit for doors that fit the MH condition is that the switch choice is moved to the front of the array\n",
        "# # # # this gives a 2/3 probability that the first letter will be in the correct location\n",
        "# # # # # both the doors that fit the MH condition (and have thus been manipulated as described above) and the ones that do not are added to the population of doors\n",
        "# # # # # # doors that do not fit the condition are not changed\n",
        "\n",
        "doors = []\n",
        "\n",
        "\n",
        "def getSwitch(example):\n",
        "  # will be pop[i]\n",
        "  \n",
        "  temp = example\n",
        "  pick = choice(temp)\n",
        "  temp.remove(pick) # remove the random choice \n",
        "  for char in temp:\n",
        "    if char!= million:\n",
        "      goat = char\n",
        "      temp.remove(goat)\n",
        "    else: # this is accounting for an error I'm not sure why I have when a value is not assigned to goat despite the individual satisfying MH problem condition... Not super important because we don't care much about the goat value\n",
        "      goat = choice(charset) \n",
        "  switch = temp\n",
        "  return switch \n",
        "\n",
        "# def mhProblem(contestants):\n",
        "#     #switch = ''\n",
        "#     goat = ''\n",
        "#     pick = ''\n",
        "#     temp = ''\n",
        "    \n",
        "#     evolvedTemp = []\n",
        "#     #for j in range(len(contestants)):\n",
        "#     for i in contestants:\n",
        "      \n",
        "#         #print(\"evolved\" , evolvedTemp)\n",
        "        \n",
        "#       if MHcondition(i): \n",
        "#         #MHcondition(i) \n",
        "#         for j in i:\n",
        "#           evolvedTemp.append(j)\n",
        "#         temp = i       \n",
        "# #         pick = choice(temp) # pick a random door\n",
        "# #         temp.remove(pick) # remove the random choice bc you are switching to demonstrating monty hall problem\n",
        "# #         for char in temp:\n",
        "# #           if char!= million:\n",
        "# #             goat = char              \n",
        "# #           else: # this is accounting for an error I'm not sure why I have when a value is not assigned to goat despite the individual satisfying MH problem condition... Not super important because we don't care much about the goat value\n",
        "# #             goat = choice(charset)\n",
        "            \n",
        "#         switch = getSwitch(temp)           \n",
        "#         print(\"switch\" , switch[0])\n",
        "#         evolvedTemp.remove(switch[0])\n",
        "#         evolvedTemp.insert(0, switch[0])\n",
        "#         doors.append(evolvedTemp)\n",
        "#         #print(\"evolved\" , evolvedTemp)\n",
        "#         evolvedTemp = []\n",
        "\n",
        "#     return doors\n",
        "\n",
        "def MHparadox(population):\n",
        "  # will be pop[i]\n",
        "    #for i in range(populationSize)\n",
        "    temp = population[0]\n",
        "    print (\"temp\" , temp)\n",
        "    pick = choice(temp)\n",
        "    print (\"pick\" , pick)\n",
        "    temp.remove(pick) # remove the random choice \n",
        "    for char in temp:\n",
        "      if char!= million:\n",
        "        goat = char\n",
        "    print(\"goat\",goat)\n",
        "    temp.remove(goat)\n",
        "    switch = temp\n",
        "    print(\"switch\",switch)\n",
        "    print(\"-------------------\")\n",
        "    return switch\n"
      ],
      "execution_count": 0,
      "outputs": []
    },
    {
      "cell_type": "markdown",
      "metadata": {
        "id": "o6cNhgdqn9s_",
        "colab_type": "text"
      },
      "source": [
        "**Genetic Algorithm: Better than random guessing**\n",
        "\n",
        "A genetic algorithm will let us get to our goal faster, by keeping a *population* of random guesses, and mutating and crossing over only the closer guesses (\"more fit individuals\"), instead of guessing from scratch each time."
      ]
    },
    {
      "cell_type": "markdown",
      "metadata": {
        "id": "CurfVKS78uXM",
        "colab_type": "text"
      },
      "source": [
        "Let's first define those two utility functions: crossover and mutation."
      ]
    },
    {
      "cell_type": "code",
      "metadata": {
        "id": "DhvvxcY5oE_Q",
        "colab_type": "code",
        "colab": {}
      },
      "source": [
        "mutationRate = 0.01 # proportion of \"genes\" to randomly flip each time\n",
        "def mutatex(example):\n",
        "  return [(choice(charset) if random() < mutationRate else ch) for ch in example]"
      ],
      "execution_count": 0,
      "outputs": []
    },
    {
      "cell_type": "code",
      "metadata": {
        "id": "WcMf1SA33ois",
        "colab_type": "code",
        "colab": {}
      },
      "source": [
        "mutationRate = .5\n",
        "def mutate(example):\n",
        "  if MHcondition(example) == True:\n",
        "    switch = getSwitch(example)\n",
        "    if any(isinstance(i, list) for i in switch):\n",
        "      switch = switch[0]\n",
        "    genebank = [switch,choice(charset),choice(charset)] # idea is you put the switched value in here and try again for the rest try for another goal value bc MH condition should make you 2/3 sure that the switch is there]  \n",
        "    return genebank\n",
        "  else: # if the condition is not true here, force satisfy MH condition at first index if mutation \n",
        "    genebank = [goal[0],choice(charset),choice(charset)] \n",
        "    return genebank"
      ],
      "execution_count": 0,
      "outputs": []
    },
    {
      "cell_type": "code",
      "metadata": {
        "id": "DGy1egpIcIqO",
        "colab_type": "code",
        "colab": {}
      },
      "source": [
        "mutationRate = 1\n",
        "def mutateY(example):\n",
        "  if random() < mutationRate:\n",
        "    return mhProblem(example) "
      ],
      "execution_count": 0,
      "outputs": []
    },
    {
      "cell_type": "code",
      "metadata": {
        "id": "sbSIjp8DzK3M",
        "colab_type": "code",
        "outputId": "be45134d-9ee1-456d-d419-6a29dac231be",
        "colab": {
          "base_uri": "https://localhost:8080/",
          "height": 52
        }
      },
      "source": [
        "print(\"mutation when condition satisfied\" , mutate(['f', 'a', 'c']))\n",
        "print(mutate(['b', 'a', 'c']))"
      ],
      "execution_count": 205,
      "outputs": [
        {
          "output_type": "stream",
          "text": [
            "mutation when condition satisfied [['c'], 'r', 'd']\n",
            "['f', 'f', 'n']\n"
          ],
          "name": "stdout"
        }
      ]
    },
    {
      "cell_type": "code",
      "metadata": {
        "id": "UFVUlPTP-568",
        "colab_type": "code",
        "colab": {}
      },
      "source": [
        "def crossover(parent1, parent2): \n",
        "  combine = parent1 + parent2\n",
        "  shuffle(combine)\n",
        "  return combine[:3]"
      ],
      "execution_count": 0,
      "outputs": []
    },
    {
      "cell_type": "code",
      "metadata": {
        "id": "M7Ry1F9QxHix",
        "colab_type": "code",
        "outputId": "460b3d0c-6c5a-4627-a975-f175863f4683",
        "colab": {
          "base_uri": "https://localhost:8080/",
          "height": 35
        }
      },
      "source": [
        "crossover([\"i\",\"f\",\"y\"], [\"a\",\"b\",\"c\"])"
      ],
      "execution_count": 207,
      "outputs": [
        {
          "output_type": "execute_result",
          "data": {
            "text/plain": [
              "['y', 'b', 'c']"
            ]
          },
          "metadata": {
            "tags": []
          },
          "execution_count": 207
        }
      ]
    },
    {
      "cell_type": "code",
      "metadata": {
        "id": "ifSsfbMgeZ2B",
        "colab_type": "code",
        "outputId": "8b4754c6-effb-4066-e8b7-ef0a90d41eee",
        "colab": {
          "base_uri": "https://localhost:8080/",
          "height": 70
        }
      },
      "source": [
        "mhProblem([[\"i\",\"f\",\"y\"],[\"a\",\"b\",\"c\"],[\"a\",\"b\",\"f\"]])"
      ],
      "execution_count": 208,
      "outputs": [
        {
          "output_type": "stream",
          "text": [
            "switch y\n",
            "switch f\n"
          ],
          "name": "stdout"
        },
        {
          "output_type": "execute_result",
          "data": {
            "text/plain": [
              "[['y', 'i', 'f'], ['f', 'a', 'b']]"
            ]
          },
          "metadata": {
            "tags": []
          },
          "execution_count": 208
        }
      ]
    },
    {
      "cell_type": "code",
      "metadata": {
        "id": "3lvEIttef3xi",
        "colab_type": "code",
        "colab": {}
      },
      "source": [
        "populationSize = 50\n",
        "stringLength = 3\n",
        "def makeContests():\n",
        "  contestants = [[choice(charset) for _ in range(stringLength)] for _ in range(populationSize)]\n",
        "  #print(\"contestants\" ,contestants)\n",
        "  return contestants"
      ],
      "execution_count": 0,
      "outputs": []
    },
    {
      "cell_type": "markdown",
      "metadata": {
        "id": "l9UievyeonnI",
        "colab_type": "text"
      },
      "source": [
        "Now we have the ingredients for the genetic algorithm itself:"
      ]
    },
    {
      "cell_type": "code",
      "metadata": {
        "id": "b0L7wt7Dodgg",
        "colab_type": "code",
        "colab": {}
      },
      "source": [
        "contestants = makeContests()\n",
        "def geneticAlgorithm():\n",
        "    iterations = 0\n",
        "    populationSize = 50\n",
        "    contestants = makeContests()\n",
        "    print(contestants)\n",
        "    population = mhProblem(contestants)\n",
        "    print(population)\n",
        "\n",
        "    while True:\n",
        "      iterations += 1\n",
        "      #mhProblem(contestants)\n",
        "      for individual in population:\n",
        "        if (isGoal(individual)):\n",
        "          print(f\"Found gene in {iterations} iterations at index {population.index(individual)}\")\n",
        "          return individual\n",
        "\n",
        "\n",
        "      population.sort(key=fitness, reverse=True)\n",
        "      parents = population[:10] # ---> top 10 candidates  \n",
        "      population = [mutate(crossover(choice(parents),choice(parents))) for _ in range(populationSize)] # GENERATING NEW POPULATION FROM PARENTS\n",
        "      \n",
        "\n",
        "\n",
        "\n",
        "  "
      ],
      "execution_count": 0,
      "outputs": []
    },
    {
      "cell_type": "code",
      "metadata": {
        "id": "3V--jQ5_oy8e",
        "colab_type": "code",
        "outputId": "830dd8df-19aa-4b4e-c140-bd2f1bc86e3c",
        "colab": {
          "base_uri": "https://localhost:8080/",
          "height": 231
        }
      },
      "source": [
        "geneticAlgorithm()"
      ],
      "execution_count": 211,
      "outputs": [
        {
          "output_type": "stream",
          "text": [
            "[['z', 'h', 'q'], ['l', 'h', 'l'], ['b', 'q', 's'], ['d', 'w', 'n'], ['u', 's', 'u'], ['f', 'w', 'i'], ['g', 'k', 'p'], ['p', 'm', 'f'], ['p', 'b', 'c'], ['y', 'u', 'w'], ['c', 'h', 'a'], ['x', 'g', 'q'], ['k', 'b', 'r'], ['q', 't', 'u'], ['c', 'm', 'f'], ['k', 'm', 'l'], ['q', 'z', 'y'], ['a', 'p', 'b'], ['j', 'q', 'u'], ['j', 'p', 'a'], ['w', 'z', 't'], ['v', 'f', 'k'], ['i', 'p', 'u'], ['q', 'v', 'b'], ['a', 'p', 'o'], ['n', 'd', 'z'], ['w', 'j', 'z'], ['e', 'k', 'd'], ['p', 'g', 's'], ['t', 'i', 'j'], ['y', 'l', 'k'], ['g', 'y', 'j'], ['q', 'l', 'g'], ['q', 'f', 'y'], ['y', 'f', 'd'], ['i', 'j', 'w'], ['q', 'h', 'l'], ['p', 'a', 'b'], ['j', 'b', 'i'], ['x', 'l', 's'], ['s', 'f', 'w'], ['w', 'c', 'd'], ['q', 'j', 't'], ['m', 'a', 'u'], ['l', 'l', 'n'], ['v', 's', 'p'], ['o', 'y', 'b'], ['v', 'o', 'm'], ['p', 'w', 'w'], ['t', 'u', 'd']]\n",
            "switch f\n",
            "switch f\n",
            "switch f\n",
            "switch f\n",
            "switch f\n",
            "switch f\n",
            "switch f\n",
            "[['y', 'i', 'f'], ['f', 'a', 'b'], ['f', 'w', 'i'], ['f', 'p', 'm'], ['f', 'c', 'm'], ['f', 'v', 'k'], ['f', 'q', 'y'], ['f', 'y', 'd'], ['f', 's', 'w']]\n",
            "Found gene in 15 iterations at index 12\n"
          ],
          "name": "stdout"
        },
        {
          "output_type": "execute_result",
          "data": {
            "text/plain": [
              "['f', 'i', 't']"
            ]
          },
          "metadata": {
            "tags": []
          },
          "execution_count": 211
        }
      ]
    }
  ]
}