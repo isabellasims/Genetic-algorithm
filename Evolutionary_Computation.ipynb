{
  "nbformat": 4,
  "nbformat_minor": 0,
  "metadata": {
    "colab": {
      "name": "Evolutionary Computation ",
      "provenance": [],
      "collapsed_sections": [],
      "include_colab_link": true
    },
    "kernelspec": {
      "name": "python3",
      "display_name": "Python 3"
    }
  },
  "cells": [
    {
      "cell_type": "markdown",
      "metadata": {
        "id": "view-in-github",
        "colab_type": "text"
      },
      "source": [
        "<a href=\"https://colab.research.google.com/github/isabellasims/Genetic-algorithm/blob/master/Evolutionary_Computation.ipynb\" target=\"_parent\"><img src=\"https://colab.research.google.com/assets/colab-badge.svg\" alt=\"Open In Colab\"/></a>"
      ]
    },
    {
      "cell_type": "markdown",
      "metadata": {
        "id": "RwgXZ8Ewm71R",
        "colab_type": "text"
      },
      "source": [
        "**Problem description**"
      ]
    },
    {
      "cell_type": "markdown",
      "metadata": {
        "id": "9E8wfVnfnK_t",
        "colab_type": "text"
      },
      "source": [
        "To set up a problem for evolutionary computation, we need two things: 1) a representation for the space to be searched, and 2) a fitness function telling us how close we are to our goal.\n",
        "\n",
        "For this example we'll use 10-character strings as the problem space to be searched. They are both the genome and phenotype (the genome is a string, and the output we evaluate is the same string).\n",
        "\n",
        "We'll start with a goal of finding a string of all capital letters.\n",
        "\n",
        "Comment: Obviously if we wanted an all-caps string, we know how to produce one directly. But in more complicated evolutionary problems we won't know how to generate the desired output directly. This example shows how an algorithm can find an example meeting our desired criteria purely by being given a fitness function, without knowing anything specific about how to produce solutions."
      ]
    },
    {
      "cell_type": "markdown",
      "metadata": {
        "id": "jzdUbBFHUw1X",
        "colab_type": "text"
      },
      "source": [
        "https://rosettacode.org/wiki/Monty_Hall_problem\n",
        "But you can learn from it: things that seem equivalent (like two doors) might not be. You might have more information than you think about those things, making one a better statistical choice"
      ]
    },
    {
      "cell_type": "code",
      "metadata": {
        "id": "BvsKa_dXmnTY",
        "colab_type": "code",
        "colab": {}
      },
      "source": [
        "charset = list(\"abcdefghijklmnopqrstuvwxyzABCDEFGHIJKLMNOPQRSTUVWXYZ\")\n",
        "#stringLength = 10\n",
        "stringLength = 3\n",
        "\n",
        "# goal is an all-caps string\n",
        "# higher fitness = more uppercase letters\n",
        "goal = [\"f\",\"i\",\"t\"]\n",
        "def fitness(example):\n",
        "  f = 0\n",
        "  \n",
        "  # more specific fitness = faster genetic alg\n",
        "  for ch in example:\n",
        "    if ch == \"i\" or ch == \"f\" or ch == \"t\": \n",
        "      f += 1\n",
        "      \n",
        "  for i in range(len(example)):\n",
        "    if example[i] == goal[i]:\n",
        "      f += 1\n",
        "   \n",
        "  \n",
        "      \n",
        "  return f\n",
        "\n",
        "\n",
        "\n",
        "def isGoal(example):\n",
        "  # return fitness(example) == stringLength \n",
        "  if example == goal:\n",
        "    return True #change is goal so it accepts my goal\n",
        "  "
      ],
      "execution_count": 0,
      "outputs": []
    },
    {
      "cell_type": "markdown",
      "metadata": {
        "colab_type": "text",
        "id": "XZ5iZn0uLAP2"
      },
      "source": [
        "**Random search**\n",
        "\n",
        "Before we get into the genetic algorithm itself, let's start with a baseline: just completely randomly guessing strings until we get one we want."
      ]
    },
    {
      "cell_type": "markdown",
      "metadata": {
        "id": "o6cNhgdqn9s_",
        "colab_type": "text"
      },
      "source": [
        "**Genetic Algorithm: Better than random guessing**\n",
        "\n",
        "A genetic algorithm will let us get to our goal faster, by keeping a *population* of random guesses, and mutating and crossing over only the closer guesses (\"more fit individuals\"), instead of guessing from scratch each time.\n",
        "\n",
        "\n"
      ]
    },
    {
      "cell_type": "markdown",
      "metadata": {
        "id": "CurfVKS78uXM",
        "colab_type": "text"
      },
      "source": [
        "Let's first define those two utility functions: crossover and mutation."
      ]
    },
    {
      "cell_type": "code",
      "metadata": {
        "id": "DhvvxcY5oE_Q",
        "colab_type": "code",
        "colab": {}
      },
      "source": [
        "mutationRate = 0.1\n",
        "# Change for dif speeds\n",
        "\n",
        "\n",
        "# proportion of \"genes\" to randomly flip each tie ## edit this takes rand char from example & generates random # between 0 and 1\n",
        "# if its less than mutation rate changes that caracter\n",
        "def mutate(example): \n",
        "  return [(choice(charset) if random() < mutationRate else ch) for ch in example] # generates random # btwn 0 & 1 and if less than mutation rate, it generates that charcter"
      ],
      "execution_count": 0,
      "outputs": []
    },
    {
      "cell_type": "code",
      "metadata": {
        "id": "UFVUlPTP-568",
        "colab_type": "code",
        "colab": {}
      },
      "source": [
        "def crossover(parent1, parent2): # \n",
        "  #cuts up and puts two halves together\n",
        "  # pick a random point to cross over at\n",
        "  crossOverPoint = randint(1,stringLength) #\n",
        "  return parent1[:crossOverPoint] + parent2[crossOverPoint:] # returns new gene set - half from p1 half from p2 "
      ],
      "execution_count": 0,
      "outputs": []
    },
    {
      "cell_type": "markdown",
      "metadata": {
        "id": "I6rMdOjr-dme",
        "colab_type": "text"
      },
      "source": [
        ""
      ]
    },
    {
      "cell_type": "code",
      "metadata": {
        "id": "Q2fzTjX--cz-",
        "colab_type": "code",
        "colab": {}
      },
      "source": [
        ""
      ],
      "execution_count": 0,
      "outputs": []
    },
    {
      "cell_type": "markdown",
      "metadata": {
        "id": "Sc6fRT3q6bMl",
        "colab_type": "text"
      },
      "source": [
        "Here, we see that the odds of mutation are higher given more genes"
      ]
    },
    {
      "cell_type": "markdown",
      "metadata": {
        "id": "2eumT_fG_kul",
        "colab_type": "text"
      },
      "source": [
        "\n",
        "\n",
        "```\n",
        "`# This is formatted as code`\n",
        "```\n",
        "\n",
        "And here's an example of crossing over two strings:"
      ]
    },
    {
      "cell_type": "code",
      "metadata": {
        "id": "PAOgsjcI_ipV",
        "colab_type": "code",
        "colab": {}
      },
      "source": [
        ""
      ],
      "execution_count": 0,
      "outputs": []
    },
    {
      "cell_type": "markdown",
      "metadata": {
        "id": "l9UievyeonnI",
        "colab_type": "text"
      },
      "source": [
        "\n"
      ]
    },
    {
      "cell_type": "code",
      "metadata": {
        "id": "b0L7wt7Dodgg",
        "colab_type": "code",
        "colab": {}
      },
      "source": [
        "from random import choice, randint, random\n",
        "populationSize = 50\n",
        "stringLength = 3\n",
        "def geneticAlgorithm():\n",
        "  iterations = 0\n",
        "\n",
        "  # the initial population is populationSize random strings\n",
        "  population = [[choice(charset) for _ in range(stringLength)] for _ in range(populationSize)] # array of arrays\n",
        "  print(population)\n",
        "  \n",
        "  while True:\n",
        "    iterations += 1\n",
        "    # do any of our population's individuals satisfy the goal?\n",
        "    for individual in population:\n",
        "      if (isGoal(individual)): # sees if its all caps\n",
        "        print(f\"Found goal in {iterations} iterations at index {population.index(individual)}\")\n",
        "        return individual\n",
        "    \n",
        "    # if not, crossover and mutate to get a new generation\n",
        "    \n",
        "    # sort the current population by descending order of fitness\n",
        "    population.sort(key=fitness, reverse=True) # RANKING... better strings at top (sort does l to g)\n",
        "    \n",
        "    \n",
        "    # take the top 10 (arbitrary number) and make them parents of the new generation\n",
        "    parents = population[:10] # ---> top 10 candidates\n",
        "    print(\"sorted\",parents)\n",
        "    # make the next generation by randomly selecting two parents to\n",
        "    # crossover, and then mutating the result, until we have 50 new individuals\n",
        "    population = [mutate(crossover(choice(parents),choice(parents))) for _ in range(populationSize)] # GENERATING NEW POPULATION FROM PARENTS\n",
        "  "
      ],
      "execution_count": 0,
      "outputs": []
    },
    {
      "cell_type": "code",
      "metadata": {
        "id": "cs406TEjm3Nx",
        "colab_type": "code",
        "colab": {}
      },
      "source": [
        ""
      ],
      "execution_count": 0,
      "outputs": []
    },
    {
      "cell_type": "code",
      "metadata": {
        "id": "PJo8jO6iQQka",
        "colab_type": "code",
        "outputId": "d31ce3e2-a2a2-4e44-df1b-5353a3fc124d",
        "colab": {
          "base_uri": "https://localhost:8080/",
          "height": 263
        }
      },
      "source": [
        "geneticAlgorithm()"
      ],
      "execution_count": 30,
      "outputs": [
        {
          "output_type": "stream",
          "text": [
            "[['y', 'M', 'K'], ['Q', 'e', 'i'], ['O', 'e', 'z'], ['n', 'G', 'i'], ['y', 'H', 'N'], ['P', 'K', 'V'], ['Z', 'C', 'G'], ['A', 'W', 'q'], ['v', 'b', 'T'], ['u', 'm', 's'], ['y', 'O', 'Y'], ['s', 'V', 's'], ['o', 'n', 'o'], ['a', 'l', 'U'], ['Z', 'D', 'm'], ['P', 'r', 'n'], ['G', 'Y', 'T'], ['j', 'P', 'L'], ['u', 'd', 'C'], ['V', 'W', 'c'], ['F', 'j', 't'], ['D', 'r', 'N'], ['h', 'U', 'H'], ['O', 'i', 'b'], ['e', 'X', 'y'], ['l', 'Z', 'C'], ['T', 'c', 'r'], ['m', 'g', 'w'], ['V', 'W', 'u'], ['F', 'v', 'n'], ['T', 'C', 'k'], ['B', 'q', 'K'], ['Q', 'a', 'x'], ['M', 'r', 'k'], ['e', 'J', 'A'], ['G', 'W', 'e'], ['o', 'S', 'l'], ['r', 'v', 'w'], ['h', 'j', 'o'], ['w', 'W', 'J'], ['d', 'p', 's'], ['c', 'q', 'W'], ['S', 'g', 'C'], ['x', 'D', 'o'], ['z', 'r', 'k'], ['v', 'L', 'X'], ['M', 'G', 'T'], ['j', 'p', 'I'], ['P', 'D', 'S'], ['t', 'f', 'f']]\n",
            "sorted [['t', 'f', 'f'], ['F', 'j', 't'], ['O', 'i', 'b'], ['Q', 'e', 'i'], ['n', 'G', 'i'], ['y', 'M', 'K'], ['O', 'e', 'z'], ['y', 'H', 'N'], ['P', 'K', 'V'], ['Z', 'C', 'G']]\n",
            "sorted [['t', 'f', 'f'], ['t', 'f', 'f'], ['i', 'i', 'b'], ['y', 'j', 't'], ['t', 'f', 'G'], ['O', 'i', 'b'], ['F', 'j', 't'], ['O', 'i', 'G'], ['O', 'f', 'f'], ['t', 'f', 'N']]\n",
            "sorted [['i', 'i', 't'], ['t', 'f', 't'], ['t', 'i', 'b'], ['i', 'i', 'G'], ['t', 'f', 'f'], ['i', 'i', 'b'], ['t', 'i', 'b'], ['O', 'i', 'f'], ['t', 'f', 'f'], ['t', 'f', 'G']]\n",
            "sorted [['i', 'i', 't'], ['t', 'i', 't'], ['t', 'i', 't'], ['i', 'i', 't'], ['i', 'i', 't'], ['t', 'f', 't'], ['k', 'i', 't'], ['t', 'f', 't'], ['t', 'f', 't'], ['i', 'i', 'f']]\n",
            "sorted [['i', 'i', 't'], ['i', 'i', 't'], ['t', 'i', 't'], ['i', 'i', 't'], ['i', 'i', 't'], ['i', 'i', 't'], ['i', 'i', 't'], ['i', 'i', 't'], ['i', 'i', 't'], ['t', 'i', 't']]\n",
            "sorted [['i', 'i', 't'], ['i', 'i', 't'], ['t', 'i', 't'], ['i', 'i', 't'], ['i', 'i', 't'], ['i', 'i', 't'], ['i', 'i', 't'], ['i', 'i', 't'], ['i', 'i', 't'], ['i', 'i', 't']]\n",
            "sorted [['i', 'i', 't'], ['i', 'i', 't'], ['i', 'i', 't'], ['i', 'i', 't'], ['i', 'i', 't'], ['i', 'i', 't'], ['i', 'i', 't'], ['i', 'i', 't'], ['i', 'i', 't'], ['i', 'i', 't']]\n",
            "sorted [['i', 'i', 't'], ['i', 'i', 't'], ['i', 'i', 't'], ['i', 'i', 't'], ['i', 'i', 't'], ['i', 'i', 't'], ['i', 'i', 't'], ['i', 'i', 't'], ['i', 'i', 't'], ['i', 'i', 't']]\n",
            "sorted [['i', 'i', 't'], ['i', 'i', 't'], ['i', 'i', 't'], ['i', 'i', 't'], ['i', 'i', 't'], ['i', 'i', 't'], ['i', 'i', 't'], ['i', 'i', 't'], ['i', 'i', 't'], ['i', 'i', 't']]\n",
            "sorted [['i', 'i', 't'], ['i', 'i', 't'], ['i', 'i', 't'], ['i', 'i', 't'], ['i', 'i', 't'], ['i', 'i', 't'], ['i', 'i', 't'], ['i', 'i', 't'], ['i', 'i', 't'], ['i', 'i', 't']]\n",
            "Found goal in 11 iterations at index 33\n"
          ],
          "name": "stdout"
        },
        {
          "output_type": "execute_result",
          "data": {
            "text/plain": [
              "['f', 'i', 't']"
            ]
          },
          "metadata": {
            "tags": []
          },
          "execution_count": 30
        }
      ]
    }
  ]
}