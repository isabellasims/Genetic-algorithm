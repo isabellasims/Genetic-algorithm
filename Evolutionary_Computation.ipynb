{
  "nbformat": 4,
  "nbformat_minor": 0,
  "metadata": {
    "colab": {
      "name": "Evolutionary Computation ",
      "provenance": [],
      "collapsed_sections": [],
      "include_colab_link": true
    },
    "kernelspec": {
      "name": "python3",
      "display_name": "Python 3"
    }
  },
  "cells": [
    {
      "cell_type": "markdown",
      "metadata": {
        "id": "view-in-github",
        "colab_type": "text"
      },
      "source": [
        "<a href=\"https://colab.research.google.com/github/isabellasims/Genetic-algorithm/blob/master/Evolutionary_Computation.ipynb\" target=\"_parent\"><img src=\"https://colab.research.google.com/assets/colab-badge.svg\" alt=\"Open In Colab\"/></a>"
      ]
    },
    {
      "cell_type": "markdown",
      "metadata": {
        "id": "RwgXZ8Ewm71R",
        "colab_type": "text"
      },
      "source": [
        "**Problem description**"
      ]
    },
    {
      "cell_type": "markdown",
      "metadata": {
        "id": "9E8wfVnfnK_t",
        "colab_type": "text"
      },
      "source": [
        "To set up a problem for evolutionary computation, we need two things: 1) a representation for the space to be searched, and 2) a fitness function telling us how close we are to our goal.\n",
        "\n",
        "For this example we'll use 10-character strings as the problem space to be searched. They are both the genome and phenotype (the genome is a string, and the output we evaluate is the same string).\n",
        "\n",
        "We'll start with a goal of finding a string of all capital letters.\n",
        "\n",
        "Comment: Obviously if we wanted an all-caps string, we know how to produce one directly. But in more complicated evolutionary problems we won't know how to generate the desired output directly. This example shows how an algorithm can find an example meeting our desired criteria purely by being given a fitness function, without knowing anything specific about how to produce solutions."
      ]
    },
    {
      "cell_type": "markdown",
      "metadata": {
        "id": "jzdUbBFHUw1X",
        "colab_type": "text"
      },
      "source": [
        "https://rosettacode.org/wiki/Monty_Hall_problem\n",
        "But you can learn from it: things that seem equivalent (like two doors) might not be. You might have more information than you think about those things, making one a better statistical choice"
      ]
    },
    {
      "cell_type": "code",
      "metadata": {
        "id": "oueaDe71JoBY",
        "colab_type": "code",
        "colab": {}
      },
      "source": [
        "from random import choice, randint, random\n",
        "import matplotlib.pyplot as plt"
      ],
      "execution_count": 0,
      "outputs": []
    },
    {
      "cell_type": "code",
      "metadata": {
        "id": "BvsKa_dXmnTY",
        "colab_type": "code",
        "colab": {}
      },
      "source": [
        "charset = list(\"abcdefghijklmnopqrstuvwxyzABCDEFGHIJKLMNOPQRSTUVWXYZ\")\n",
        "#stringLength = 10\n",
        "stringLength = 3\n",
        "\n",
        "# goal is an all-caps string\n",
        "# higher fitness = more uppercase letters\n",
        "goal = [\"f\",\"i\",\"t\"]\n",
        "def fitness(example):\n",
        "  f = 0 \n",
        "  # more specific fitness = faster genetic alg\n",
        "  for ch in example:\n",
        "    if ch == \"i\" or ch == \"f\" or ch == \"t\": \n",
        "      f += 1     \n",
        "  for i in range(len(example)):\n",
        "    if example[i] == goal[i]:\n",
        "      f += 1\n",
        "    if example[i] in goal:\n",
        "      f += 1     \n",
        "  return f\n",
        "\n",
        "\n",
        "\n",
        "def isGoal(example):\n",
        "  # return fitness(example) == stringLength \n",
        "  if example == goal:\n",
        "    return True #change is goal so it accepts my goal\n",
        "  "
      ],
      "execution_count": 0,
      "outputs": []
    },
    {
      "cell_type": "code",
      "metadata": {
        "id": "YGL9occZTHfg",
        "colab_type": "code",
        "colab": {
          "base_uri": "https://localhost:8080/",
          "height": 35
        },
        "outputId": "24581f6a-3708-433b-9a3b-6b078e450db0"
      },
      "source": [
        "print(fitness([\"i\",\"i\",\"t\"]))"
      ],
      "execution_count": 5,
      "outputs": [
        {
          "output_type": "stream",
          "text": [
            "8\n"
          ],
          "name": "stdout"
        }
      ]
    },
    {
      "cell_type": "markdown",
      "metadata": {
        "colab_type": "text",
        "id": "XZ5iZn0uLAP2"
      },
      "source": [
        "**Random search**\n",
        "\n",
        "Before we get into the genetic algorithm itself, let's start with a baseline: just completely randomly guessing strings until we get one we want."
      ]
    },
    {
      "cell_type": "markdown",
      "metadata": {
        "id": "o6cNhgdqn9s_",
        "colab_type": "text"
      },
      "source": [
        "**Genetic Algorithm: Better than random guessing**\n",
        "\n",
        "A genetic algorithm will let us get to our goal faster, by keeping a *population* of random guesses, and mutating and crossing over only the closer guesses (\"more fit individuals\"), instead of guessing from scratch each time.\n",
        "\n",
        "\n"
      ]
    },
    {
      "cell_type": "markdown",
      "metadata": {
        "id": "CurfVKS78uXM",
        "colab_type": "text"
      },
      "source": [
        "Let's first define those two utility functions: crossover and mutation."
      ]
    },
    {
      "cell_type": "code",
      "metadata": {
        "id": "DhvvxcY5oE_Q",
        "colab_type": "code",
        "colab": {}
      },
      "source": [
        "mutationRate = 0.1\n",
        "# Change for dif speeds\n",
        "\n",
        "\n",
        "# proportion of \"genes\" to randomly flip each tie ## edit this takes rand char from example & generates random # between 0 and 1\n",
        "# if its less than mutation rate changes that caracter\n",
        "def mutate(example): \n",
        "  return [(choice(charset) if random() < mutationRate else ch) for ch in example] # generates random # btwn 0 & 1 and if less than mutation rate, it generates that charcter"
      ],
      "execution_count": 0,
      "outputs": []
    },
    {
      "cell_type": "code",
      "metadata": {
        "id": "UFVUlPTP-568",
        "colab_type": "code",
        "colab": {}
      },
      "source": [
        "def crossover(parent1, parent2): # \n",
        "  #cuts up and puts two halves together\n",
        "  # pick a random point to cross over at\n",
        "  crossOverPoint = randint(1,stringLength) #\n",
        "  return parent1[:crossOverPoint] + parent2[crossOverPoint:] # returns new gene set - half from p1 half from p2 "
      ],
      "execution_count": 0,
      "outputs": []
    },
    {
      "cell_type": "markdown",
      "metadata": {
        "id": "I6rMdOjr-dme",
        "colab_type": "text"
      },
      "source": [
        ""
      ]
    },
    {
      "cell_type": "code",
      "metadata": {
        "id": "Q2fzTjX--cz-",
        "colab_type": "code",
        "colab": {}
      },
      "source": [
        ""
      ],
      "execution_count": 0,
      "outputs": []
    },
    {
      "cell_type": "markdown",
      "metadata": {
        "id": "Sc6fRT3q6bMl",
        "colab_type": "text"
      },
      "source": [
        "Here, we see that the odds of mutation are higher given more genes"
      ]
    },
    {
      "cell_type": "markdown",
      "metadata": {
        "id": "2eumT_fG_kul",
        "colab_type": "text"
      },
      "source": [
        "\n",
        "\n",
        "```\n",
        "`# This is formatted as code`\n",
        "```\n",
        "\n",
        "And here's an example of crossing over two strings:"
      ]
    },
    {
      "cell_type": "code",
      "metadata": {
        "id": "PAOgsjcI_ipV",
        "colab_type": "code",
        "colab": {}
      },
      "source": [
        ""
      ],
      "execution_count": 0,
      "outputs": []
    },
    {
      "cell_type": "markdown",
      "metadata": {
        "id": "l9UievyeonnI",
        "colab_type": "text"
      },
      "source": [
        "\n"
      ]
    },
    {
      "cell_type": "code",
      "metadata": {
        "id": "b0L7wt7Dodgg",
        "colab_type": "code",
        "colab": {}
      },
      "source": [
        "populationSize = 50\n",
        "stringLength = 3\n",
        "x = []\n",
        "y = []\n",
        "def geneticAlgorithm():\n",
        "  iterations = 0\n",
        "\n",
        "  # the initial population is populationSize random strings\n",
        "  population = [[choice(charset) for _ in range(stringLength)] for _ in range(populationSize)] # array of arrays\n",
        "  print(population)\n",
        "  \n",
        "  while True:\n",
        "    iterations += 1\n",
        "    # do any of our population's individuals satisfy the goal?\n",
        "    for individual in population:\n",
        "      if (isGoal(individual)): # sees if its all caps\n",
        "        print(f\"Found goal in {iterations} iterations at index {population.index(individual)}\")\n",
        "        return individual\n",
        "    \n",
        "    # if not, crossover and mutate to get a new generation\n",
        "    \n",
        "    # sort the current population by descending order of fitness\n",
        "    population.sort(key=fitness, reverse=True) # RANKING... better strings at top (sort does l to g)\n",
        "    \n",
        "    \n",
        "    # take the top 10 (arbitrary number) and make them parents of the new generation\n",
        "    parents = population[:10] # ---> top 10 candidates\n",
        "    fittest = population[:1]\n",
        "    fittest = fittest[0] # unnesting list in order to plot and guage fitness\n",
        "    print(fittest)\n",
        "   \n",
        "    x.append(iterations)\n",
        "    print(x)\n",
        "   \n",
        "    y.append(fitness(fittest))\n",
        "    #plt.plot(iterations, fitness(fittest))\n",
        "    \n",
        "    print(fitness(fittest))\n",
        "    #print(\"sorted\",parents)\n",
        "    # make the next generation by randomly selecting two parents to\n",
        "    # crossover, and then mutating the result, until we have 50 new individuals\n",
        "    population = [mutate(crossover(choice(parents),choice(parents))) for _ in range(populationSize)] # GENERATING NEW POPULATION FROM PARENTS\n",
        "  print(\"x\" , x)\n",
        "\n",
        "    \n",
        "     \n",
        "  \n",
        "  "
      ],
      "execution_count": 0,
      "outputs": []
    },
    {
      "cell_type": "code",
      "metadata": {
        "id": "auV0wpPwZcQu",
        "colab_type": "code",
        "colab": {}
      },
      "source": [
        "x = []\n",
        "y = []\n",
        "cords = []\n",
        "populationSize = 50\n",
        "stringLength = 3\n",
        "def getXY():\n",
        "  iterations = 0\n",
        "  population = [[choice(charset) for _ in range(stringLength)] for _ in range(populationSize)] # array of arrays\n",
        " \n",
        "  while True:\n",
        "    iterations += 1\n",
        "    for individual in population:\n",
        "      if (isGoal(individual)): # sees if its all caps\n",
        "        print(f\"Found goal in {iterations} iterations at index {population.index(individual)}\")\n",
        "        cords.append(x)\n",
        "        cords.append(y)\n",
        "        return cords\n",
        "    # do any of our population's individuals satisfy the goal?\n",
        "    \n",
        "    # if not, crossover and mutate to get a new generation\n",
        "    \n",
        "    # sort the current population by descending order of fitness\n",
        "    population.sort(key=fitness, reverse=True) # RANKING... better strings at top (sort does l to g)\n",
        "    \n",
        "    \n",
        "    # take the top 10 (arbitrary number) and make them parents of the new generation\n",
        "    parents = population[:10] # ---> top 10 candidates\n",
        "    fittest = population[:1]\n",
        "    fittest = fittest[0] # unnesting list in order to plot and guage fitness\n",
        "   \n",
        "   \n",
        "    x.append(iterations) \n",
        "    y.append(fitness(fittest))  \n",
        "    population = [mutate(crossover(choice(parents),choice(parents))) for _ in range(populationSize)] # GENERATING NEW POPULATION FROM PARENTS\n"
      ],
      "execution_count": 0,
      "outputs": []
    },
    {
      "cell_type": "code",
      "metadata": {
        "id": "cs406TEjm3Nx",
        "colab_type": "code",
        "colab": {
          "base_uri": "https://localhost:8080/",
          "height": 594
        },
        "outputId": "32739556-b9ea-4d18-d4e4-226b0ad7b3d3"
      },
      "source": [
        "getXY()\n",
        "x = cords[0]\n",
        "y = cords[1]\n",
        "print(x , y)\n",
        "plt.plot(x,y)\n",
        "plt.show()\n",
        "\n",
        "import pandas as pd\n",
        "import seaborn as sns\n",
        "\n",
        "sns.regplot(x,y)"
      ],
      "execution_count": 16,
      "outputs": [
        {
          "output_type": "stream",
          "text": [
            "Found goal in 4 iterations at index 14\n",
            "[1, 2, 3, 4, 5, 6, 7, 8, 9, 1, 2, 3, 4, 5, 6, 7, 8, 9, 10, 11, 12, 13, 14, 1, 2, 3, 1, 2, 3, 4, 5, 6, 7, 8, 9, 10, 11, 12, 13, 14, 15, 16, 17, 18, 19, 20, 21, 22, 23, 24, 25, 26, 27, 28, 29, 30, 31, 32, 33, 34, 35, 36, 37, 38, 39, 40, 41, 42, 43, 44, 45, 1, 2, 3] [4, 6, 8, 8, 8, 8, 8, 8, 8, 3, 5, 7, 8, 8, 8, 8, 8, 8, 8, 8, 8, 8, 8, 3, 6, 6, 5, 5, 7, 7, 7, 7, 7, 8, 8, 8, 8, 8, 8, 8, 8, 8, 8, 8, 8, 8, 8, 8, 8, 8, 8, 8, 8, 8, 8, 8, 8, 8, 8, 8, 8, 8, 8, 8, 8, 8, 8, 8, 8, 8, 8, 3, 6, 8]\n"
          ],
          "name": "stdout"
        },
        {
          "output_type": "display_data",
          "data": {
            "image/png": "[encoded data removed]",
            "text/plain": [
              "<Figure size 432x288 with 1 Axes>"
            ]
          },
          "metadata": {
            "tags": []
          }
        },
        {
          "output_type": "execute_result",
          "data": {
            "text/plain": [
              "<matplotlib.axes._subplots.AxesSubplot at 0x7fd6e302c9e8>"
            ]
          },
          "metadata": {
            "tags": []
          },
          "execution_count": 16
        },
        {
          "output_type": "display_data",
          "data": {
            "image/png": "[encoded data removed]",
            "text/plain": [
              "<Figure size 432x288 with 1 Axes>"
            ]
          },
          "metadata": {
            "tags": []
          }
        }
      ]
    },
    {
      "cell_type": "code",
      "metadata": {
        "id": "PJo8jO6iQQka",
        "colab_type": "code",
        "colab": {}
      },
      "source": [
        "geneticAlgorithm()"
      ],
      "execution_count": 0,
      "outputs": []
    }
  ]
}