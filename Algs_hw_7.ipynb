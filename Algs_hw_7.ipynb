{
  "nbformat": 4,
  "nbformat_minor": 0,
  "metadata": {
    "colab": {
      "name": "Algs hw 7",
      "provenance": [],
      "authorship_tag": "ABX9TyOsXAE3pH90QX9PqMVmhraz",
      "include_colab_link": true
    },
    "kernelspec": {
      "name": "python3",
      "display_name": "Python 3"
    }
  },
  "cells": [
    {
      "cell_type": "markdown",
      "metadata": {
        "id": "view-in-github",
        "colab_type": "text"
      },
      "source": [
        "<a href=\"https://colab.research.google.com/github/isabellasims/Genetic-algorithm/blob/master/Algs_hw_7.ipynb\" target=\"_parent\"><img src=\"https://colab.research.google.com/assets/colab-badge.svg\" alt=\"Open In Colab\"/></a>"
      ]
    },
    {
      "cell_type": "code",
      "metadata": {
        "id": "Esz5EWAi4sN1"
      },
      "source": [
        ""
      ],
      "execution_count": null,
      "outputs": []
    },
    {
      "cell_type": "markdown",
      "metadata": {
        "id": "iCLliMCc4z3K"
      },
      "source": [
        "Consider the presentation that we had in the class on the following topics:\n",
        "\n",
        "\n",
        "- Consistency heuristic\n",
        "- Educated guess\n",
        "- Absurdity heuristic\n",
        "- Common sense\n",
        "- Contagion heuristic\n",
        "- Availability heuristic\n",
        "- Working backward\n",
        "- Familiarity heuristic\n",
        "- Scarcity heuristic\n",
        "- Rule of thumb\n",
        "- Affect heuristic\n",
        "\n",
        "\n",
        "CHOOSE ONLY 5 From the above List.\n",
        "\n",
        "You are required to briefly define your own way (not using the definition given in\n",
        "the presentation) these heuristics and provide an example (in a real practical case\n",
        "of developing an algorithm in solving a problem).\n",
        "\n",
        "Define your problem clearly and show how your heuristic can be used in\n",
        "developing the algorithm to solve the problem (or part of it). "
      ]
    },
    {
      "cell_type": "markdown",
      "metadata": {
        "id": "gZkFINM85L2b"
      },
      "source": [
        "\n",
        "**Topic**\n",
        "Educated Guess\n",
        "\n",
        "\n",
        "\n",
        "**Own Definition**\n",
        "A heuristic that draws conclusions based on what is currently known and what has been learned in the past. The decision uses that history and applies it to a new question where the answer is currently unknown. An educated guess is not research-based, rather it is a decision made from prevoius knowledge and no new knowledge is used or saught out to approximate the answer to the question.\n",
        "\n",
        "**Example**\n",
        "A multiple choice test\n",
        "\n",
        "\n",
        "**Problem**\n",
        "I am unsure what the answer is to a multiple choice problem on my exam. The question is:\n",
        "\n",
        "what is the most common blood type?\n",
        "\n",
        "A. O+\n",
        "\n",
        "B. O-\n",
        "\n",
        "C. AB - \n",
        "\n",
        "D. A+\n",
        "\n",
        "\n",
        "**Decision**\n",
        "Instead of chosing a random answer, I cross off the answers I know not to be true. My mother is AB - and has said that it is rare, so I cross out C. I know I have heard that one O type is the most common, so I cross out D as well. I myself am O- and have been told that I am the universal doner, but never that I have the most common blood type. I feel it is likely that I would have also been told at some point that I am the most common blood type if I was. So, I assume that B is incorrect and choose A. (O+) as my answer. "
      ]
    },
    {
      "cell_type": "markdown",
      "metadata": {
        "id": "KKzUCHV06l0I"
      },
      "source": [
        "**Topic** Common Sense\n",
        "\n",
        "**Own Definition** A common sense decision is made when it seems there is a clear answer to the question based on someones observation of a situation. The decision is rational, sound, and practical. A persons ability to consistently make good judgement calls is reflective of their common sense. \n",
        "\n",
        "\n",
        "**Example**\n",
        "I am locked out of my computer\n",
        "\n",
        "\n",
        "\n",
        "**Problem**\n",
        "I am attempting to log in to my computer and I keep being notified my entered password is incorrect. I try a few more times and am very careful to type the exact letters I am attempting to answer. I can either spent the rest of my evening re-attempting the same password and not beleiving it is actually incorrect or I can decide to change my password.\n",
        "\n",
        "\n",
        "**Decision**\n",
        "After a few, careful attempts, I reset my password and am let back in to my computer. The opposite of common sense is trying the same solution over and over again while expecting different results. I see that everytime I enter my password I remain incorrect, so I assume I have forgotten the password, reset it, and am able to access my computer again."
      ]
    },
    {
      "cell_type": "markdown",
      "metadata": {
        "id": "vY4VYLeD6kLO"
      },
      "source": [
        "**Topic**\n",
        "\n",
        "**Own Definition**\n",
        "\n",
        "**Example**\n",
        "\n",
        "**Problem**\n",
        "\n",
        "\n",
        "\n",
        "**Decision**"
      ]
    },
    {
      "cell_type": "markdown",
      "metadata": {
        "id": "Y1gF1edV5Tn-"
      },
      "source": [
        "**Problem**\n",
        "\n",
        "\n",
        "\n",
        "**Decision**"
      ]
    },
    {
      "cell_type": "markdown",
      "metadata": {
        "id": "spAVRw9w5T38"
      },
      "source": [
        "**Problem**\n",
        "\n",
        "\n",
        "\n",
        "**Decision**"
      ]
    },
    {
      "cell_type": "markdown",
      "metadata": {
        "id": "IWD1VpkP5UDM"
      },
      "source": [
        "**Problem**\n",
        "\n",
        "\n",
        "\n",
        "**Decision**"
      ]
    },
    {
      "cell_type": "markdown",
      "metadata": {
        "id": "wOvSdPUH5Ur6"
      },
      "source": [
        "**Problem**\n",
        "\n",
        "\n",
        "\n",
        "**Decision**"
      ]
    }
  ]
}